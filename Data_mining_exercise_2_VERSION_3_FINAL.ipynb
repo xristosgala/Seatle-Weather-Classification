{
 "cells": [
  {
   "cell_type": "markdown",
   "metadata": {
    "id": "A4lGi3WuAurn"
   },
   "source": [
    "# Exercise 2: Data mining Coursework\n",
    "\n",
    "Select an application domain preferably related to your topic above. Pick a data set,\n",
    "possibly available publicly (e.g. diabetes from the UC Irvine Machine Learning Repository)\n",
    "use data mining (e.g. classification, clustering, association rules etc.) to extract knowledge\n",
    "from it. You can use any tool you like (e.g. Weka, RapidMiner). Then go back to preprocess your data set, change algorithm, parameters etc. attempting to extract knowledge\n",
    "out of your data. Describe the process and discuss the results. Which method was more\n",
    "appropriate and why? Detail the algorithmic parameters you used, justify your choices, and\n",
    "discuss the challenges you met and how you overcame these. "
   ]
  },
  {
   "cell_type": "markdown",
   "metadata": {
    "id": "2bBT7k0zBbiP"
   },
   "source": [
    "**Dataset**\n",
    "In this notebook we will use the public available dataset **seattle-weather.csv** file found on Kaggle. This dataset consists of approximately 1400 records and 6 features regarding weather parameters on Seattle City USA. The data corresponds to weather data regarding the years from 2012 to 2015. That makes it perfect for this academic exercise since a variety of models will be applied for **classification purposes** and the whole process as the exercise requires will be described thoroughly."
   ]
  },
  {
   "cell_type": "code",
   "execution_count": 1,
   "metadata": {
    "colab": {
     "base_uri": "https://localhost:8080/"
    },
    "id": "q9JVJ7nLTlgA",
    "outputId": "a0138f7a-6b6c-4c94-f266-a72a6b133cbc"
   },
   "outputs": [
    {
     "name": "stdout",
     "output_type": "stream",
     "text": [
      "Wed May  3 17:52:58 2023       \n",
      "+-----------------------------------------------------------------------------+\n",
      "| NVIDIA-SMI 525.85.12    Driver Version: 525.85.12    CUDA Version: 12.0     |\n",
      "|-------------------------------+----------------------+----------------------+\n",
      "| GPU  Name        Persistence-M| Bus-Id        Disp.A | Volatile Uncorr. ECC |\n",
      "| Fan  Temp  Perf  Pwr:Usage/Cap|         Memory-Usage | GPU-Util  Compute M. |\n",
      "|                               |                      |               MIG M. |\n",
      "|===============================+======================+======================|\n",
      "|   0  Tesla T4            Off  | 00000000:00:04.0 Off |                    0 |\n",
      "| N/A   35C    P8     9W /  70W |      0MiB / 15360MiB |      0%      Default |\n",
      "|                               |                      |                  N/A |\n",
      "+-------------------------------+----------------------+----------------------+\n",
      "                                                                               \n",
      "+-----------------------------------------------------------------------------+\n",
      "| Processes:                                                                  |\n",
      "|  GPU   GI   CI        PID   Type   Process name                  GPU Memory |\n",
      "|        ID   ID                                                   Usage      |\n",
      "|=============================================================================|\n",
      "|  No running processes found                                                 |\n",
      "+-----------------------------------------------------------------------------+\n"
     ]
    }
   ],
   "source": [
    "gpu_info = !nvidia-smi\n",
    "gpu_info = '\\n'.join(gpu_info)\n",
    "if gpu_info.find('failed') >= 0:\n",
    "  print('Not connected to a GPU')\n",
    "else:\n",
    "  print(gpu_info)"
   ]
  },
  {
   "cell_type": "code",
   "execution_count": 2,
   "metadata": {
    "colab": {
     "base_uri": "https://localhost:8080/"
    },
    "id": "LGbEOzf-WVhm",
    "outputId": "7bccdc3c-73a2-495b-c6df-b332058049fb"
   },
   "outputs": [
    {
     "name": "stdout",
     "output_type": "stream",
     "text": [
      "Mounted at /content/drive\n"
     ]
    }
   ],
   "source": [
    "from google.colab import drive\n",
    "drive.mount('/content/drive')"
   ]
  },
  {
   "cell_type": "markdown",
   "metadata": {
    "id": "dnJvlWFe22wJ"
   },
   "source": [
    "# Task 1: Processing the dataset"
   ]
  },
  {
   "cell_type": "markdown",
   "metadata": {
    "id": "VG7R-wDrEcUo"
   },
   "source": [
    "Importing the dataset"
   ]
  },
  {
   "cell_type": "code",
   "execution_count": 3,
   "metadata": {
    "id": "aJ6LapDjch3p"
   },
   "outputs": [],
   "source": [
    "from google.colab import files\n",
    "import matplotlib.pyplot as plt\n",
    "import pandas as pd\n",
    "import io\n",
    "import seaborn as sns\n",
    "from sklearn.preprocessing import LabelEncoder\n",
    "from sklearn.model_selection import train_test_split\n",
    "from sklearn.linear_model import LogisticRegression\n",
    "from sklearn.linear_model import Perceptron\n",
    "from sklearn.svm import SVC\n",
    "from sklearn.neural_network import MLPClassifier\n",
    "from sklearn.tree import DecisionTreeClassifier\n",
    "from sklearn.ensemble import RandomForestClassifier\n",
    "from sklearn.metrics import mean_squared_error\n",
    "from sklearn.metrics import accuracy_score\n",
    "from sklearn.metrics import precision_score\n",
    "from sklearn.metrics import recall_score\n",
    "from sklearn.metrics import f1_score\n",
    "from sklearn.metrics import balanced_accuracy_score\n",
    "from pandas.plotting import scatter_matrix\n",
    "from sklearn.preprocessing import StandardScaler\n",
    "from sklearn.preprocessing import MinMaxScaler\n",
    "from sklearn.metrics import classification_report\n",
    "from imblearn.over_sampling import SMOTE"
   ]
  },
  {
   "cell_type": "code",
   "execution_count": 4,
   "metadata": {
    "colab": {
     "base_uri": "https://localhost:8080/",
     "height": 73
    },
    "id": "LZv0YjzTCxqj",
    "outputId": "c53f4ed1-0ada-4e14-92c1-a603358de013"
   },
   "outputs": [
    {
     "data": {
      "text/html": [
       "\n",
       "     <input type=\"file\" id=\"files-e543460d-6a3e-490e-82b7-216d71d5960a\" name=\"files[]\" multiple disabled\n",
       "        style=\"border:none\" />\n",
       "     <output id=\"result-e543460d-6a3e-490e-82b7-216d71d5960a\">\n",
       "      Upload widget is only available when the cell has been executed in the\n",
       "      current browser session. Please rerun this cell to enable.\n",
       "      </output>\n",
       "      <script>// Copyright 2017 Google LLC\n",
       "//\n",
       "// Licensed under the Apache License, Version 2.0 (the \"License\");\n",
       "// you may not use this file except in compliance with the License.\n",
       "// You may obtain a copy of the License at\n",
       "//\n",
       "//      http://www.apache.org/licenses/LICENSE-2.0\n",
       "//\n",
       "// Unless required by applicable law or agreed to in writing, software\n",
       "// distributed under the License is distributed on an \"AS IS\" BASIS,\n",
       "// WITHOUT WARRANTIES OR CONDITIONS OF ANY KIND, either express or implied.\n",
       "// See the License for the specific language governing permissions and\n",
       "// limitations under the License.\n",
       "\n",
       "/**\n",
       " * @fileoverview Helpers for google.colab Python module.\n",
       " */\n",
       "(function(scope) {\n",
       "function span(text, styleAttributes = {}) {\n",
       "  const element = document.createElement('span');\n",
       "  element.textContent = text;\n",
       "  for (const key of Object.keys(styleAttributes)) {\n",
       "    element.style[key] = styleAttributes[key];\n",
       "  }\n",
       "  return element;\n",
       "}\n",
       "\n",
       "// Max number of bytes which will be uploaded at a time.\n",
       "const MAX_PAYLOAD_SIZE = 100 * 1024;\n",
       "\n",
       "function _uploadFiles(inputId, outputId) {\n",
       "  const steps = uploadFilesStep(inputId, outputId);\n",
       "  const outputElement = document.getElementById(outputId);\n",
       "  // Cache steps on the outputElement to make it available for the next call\n",
       "  // to uploadFilesContinue from Python.\n",
       "  outputElement.steps = steps;\n",
       "\n",
       "  return _uploadFilesContinue(outputId);\n",
       "}\n",
       "\n",
       "// This is roughly an async generator (not supported in the browser yet),\n",
       "// where there are multiple asynchronous steps and the Python side is going\n",
       "// to poll for completion of each step.\n",
       "// This uses a Promise to block the python side on completion of each step,\n",
       "// then passes the result of the previous step as the input to the next step.\n",
       "function _uploadFilesContinue(outputId) {\n",
       "  const outputElement = document.getElementById(outputId);\n",
       "  const steps = outputElement.steps;\n",
       "\n",
       "  const next = steps.next(outputElement.lastPromiseValue);\n",
       "  return Promise.resolve(next.value.promise).then((value) => {\n",
       "    // Cache the last promise value to make it available to the next\n",
       "    // step of the generator.\n",
       "    outputElement.lastPromiseValue = value;\n",
       "    return next.value.response;\n",
       "  });\n",
       "}\n",
       "\n",
       "/**\n",
       " * Generator function which is called between each async step of the upload\n",
       " * process.\n",
       " * @param {string} inputId Element ID of the input file picker element.\n",
       " * @param {string} outputId Element ID of the output display.\n",
       " * @return {!Iterable<!Object>} Iterable of next steps.\n",
       " */\n",
       "function* uploadFilesStep(inputId, outputId) {\n",
       "  const inputElement = document.getElementById(inputId);\n",
       "  inputElement.disabled = false;\n",
       "\n",
       "  const outputElement = document.getElementById(outputId);\n",
       "  outputElement.innerHTML = '';\n",
       "\n",
       "  const pickedPromise = new Promise((resolve) => {\n",
       "    inputElement.addEventListener('change', (e) => {\n",
       "      resolve(e.target.files);\n",
       "    });\n",
       "  });\n",
       "\n",
       "  const cancel = document.createElement('button');\n",
       "  inputElement.parentElement.appendChild(cancel);\n",
       "  cancel.textContent = 'Cancel upload';\n",
       "  const cancelPromise = new Promise((resolve) => {\n",
       "    cancel.onclick = () => {\n",
       "      resolve(null);\n",
       "    };\n",
       "  });\n",
       "\n",
       "  // Wait for the user to pick the files.\n",
       "  const files = yield {\n",
       "    promise: Promise.race([pickedPromise, cancelPromise]),\n",
       "    response: {\n",
       "      action: 'starting',\n",
       "    }\n",
       "  };\n",
       "\n",
       "  cancel.remove();\n",
       "\n",
       "  // Disable the input element since further picks are not allowed.\n",
       "  inputElement.disabled = true;\n",
       "\n",
       "  if (!files) {\n",
       "    return {\n",
       "      response: {\n",
       "        action: 'complete',\n",
       "      }\n",
       "    };\n",
       "  }\n",
       "\n",
       "  for (const file of files) {\n",
       "    const li = document.createElement('li');\n",
       "    li.append(span(file.name, {fontWeight: 'bold'}));\n",
       "    li.append(span(\n",
       "        `(${file.type || 'n/a'}) - ${file.size} bytes, ` +\n",
       "        `last modified: ${\n",
       "            file.lastModifiedDate ? file.lastModifiedDate.toLocaleDateString() :\n",
       "                                    'n/a'} - `));\n",
       "    const percent = span('0% done');\n",
       "    li.appendChild(percent);\n",
       "\n",
       "    outputElement.appendChild(li);\n",
       "\n",
       "    const fileDataPromise = new Promise((resolve) => {\n",
       "      const reader = new FileReader();\n",
       "      reader.onload = (e) => {\n",
       "        resolve(e.target.result);\n",
       "      };\n",
       "      reader.readAsArrayBuffer(file);\n",
       "    });\n",
       "    // Wait for the data to be ready.\n",
       "    let fileData = yield {\n",
       "      promise: fileDataPromise,\n",
       "      response: {\n",
       "        action: 'continue',\n",
       "      }\n",
       "    };\n",
       "\n",
       "    // Use a chunked sending to avoid message size limits. See b/62115660.\n",
       "    let position = 0;\n",
       "    do {\n",
       "      const length = Math.min(fileData.byteLength - position, MAX_PAYLOAD_SIZE);\n",
       "      const chunk = new Uint8Array(fileData, position, length);\n",
       "      position += length;\n",
       "\n",
       "      const base64 = btoa(String.fromCharCode.apply(null, chunk));\n",
       "      yield {\n",
       "        response: {\n",
       "          action: 'append',\n",
       "          file: file.name,\n",
       "          data: base64,\n",
       "        },\n",
       "      };\n",
       "\n",
       "      let percentDone = fileData.byteLength === 0 ?\n",
       "          100 :\n",
       "          Math.round((position / fileData.byteLength) * 100);\n",
       "      percent.textContent = `${percentDone}% done`;\n",
       "\n",
       "    } while (position < fileData.byteLength);\n",
       "  }\n",
       "\n",
       "  // All done.\n",
       "  yield {\n",
       "    response: {\n",
       "      action: 'complete',\n",
       "    }\n",
       "  };\n",
       "}\n",
       "\n",
       "scope.google = scope.google || {};\n",
       "scope.google.colab = scope.google.colab || {};\n",
       "scope.google.colab._files = {\n",
       "  _uploadFiles,\n",
       "  _uploadFilesContinue,\n",
       "};\n",
       "})(self);\n",
       "</script> "
      ],
      "text/plain": [
       "<IPython.core.display.HTML object>"
      ]
     },
     "metadata": {},
     "output_type": "display_data"
    },
    {
     "name": "stdout",
     "output_type": "stream",
     "text": [
      "Saving seattle-weather.csv to seattle-weather.csv\n"
     ]
    }
   ],
   "source": [
    "\n",
    "uploaded = files.upload()"
   ]
  },
  {
   "cell_type": "code",
   "execution_count": 5,
   "metadata": {
    "colab": {
     "base_uri": "https://localhost:8080/"
    },
    "id": "ZkvfE04hEnH4",
    "outputId": "d9d043ac-3518-47cc-a837-836aca1a81a1"
   },
   "outputs": [
    {
     "name": "stdout",
     "output_type": "stream",
     "text": [
      "            date  precipitation  temp_max  temp_min  wind  weather\n",
      "0     2012-01-01            0.0      12.8       5.0   4.7  drizzle\n",
      "1     2012-01-02           10.9      10.6       2.8   4.5     rain\n",
      "2     2012-01-03            0.8      11.7       7.2   2.3     rain\n",
      "3     2012-01-04           20.3      12.2       5.6   4.7     rain\n",
      "4     2012-01-05            1.3       8.9       2.8   6.1     rain\n",
      "...          ...            ...       ...       ...   ...      ...\n",
      "1456  2015-12-27            8.6       4.4       1.7   2.9     rain\n",
      "1457  2015-12-28            1.5       5.0       1.7   1.3     rain\n",
      "1458  2015-12-29            0.0       7.2       0.6   2.6      fog\n",
      "1459  2015-12-30            0.0       5.6      -1.0   3.4      sun\n",
      "1460  2015-12-31            0.0       5.6      -2.1   3.5      sun\n",
      "\n",
      "[1461 rows x 6 columns]\n"
     ]
    }
   ],
   "source": [
    "df = pd.read_csv(io.BytesIO(uploaded['seattle-weather.csv']))\n",
    "print(df)"
   ]
  },
  {
   "cell_type": "code",
   "execution_count": 6,
   "metadata": {
    "colab": {
     "base_uri": "https://localhost:8080/",
     "height": 423
    },
    "id": "lQLuXko5E3fw",
    "outputId": "e576801a-2f4e-4808-b8c8-0ea1f390c312"
   },
   "outputs": [
    {
     "data": {
      "text/html": [
       "\n",
       "  <div id=\"df-2f0e53fa-004a-4e85-91e6-4901a0127106\">\n",
       "    <div class=\"colab-df-container\">\n",
       "      <div>\n",
       "<style scoped>\n",
       "    .dataframe tbody tr th:only-of-type {\n",
       "        vertical-align: middle;\n",
       "    }\n",
       "\n",
       "    .dataframe tbody tr th {\n",
       "        vertical-align: top;\n",
       "    }\n",
       "\n",
       "    .dataframe thead th {\n",
       "        text-align: right;\n",
       "    }\n",
       "</style>\n",
       "<table border=\"1\" class=\"dataframe\">\n",
       "  <thead>\n",
       "    <tr style=\"text-align: right;\">\n",
       "      <th></th>\n",
       "      <th>date</th>\n",
       "      <th>precipitation</th>\n",
       "      <th>temp_max</th>\n",
       "      <th>temp_min</th>\n",
       "      <th>wind</th>\n",
       "      <th>weather</th>\n",
       "    </tr>\n",
       "  </thead>\n",
       "  <tbody>\n",
       "    <tr>\n",
       "      <th>0</th>\n",
       "      <td>2012-01-01</td>\n",
       "      <td>0.0</td>\n",
       "      <td>12.8</td>\n",
       "      <td>5.0</td>\n",
       "      <td>4.7</td>\n",
       "      <td>drizzle</td>\n",
       "    </tr>\n",
       "    <tr>\n",
       "      <th>1</th>\n",
       "      <td>2012-01-02</td>\n",
       "      <td>10.9</td>\n",
       "      <td>10.6</td>\n",
       "      <td>2.8</td>\n",
       "      <td>4.5</td>\n",
       "      <td>rain</td>\n",
       "    </tr>\n",
       "    <tr>\n",
       "      <th>2</th>\n",
       "      <td>2012-01-03</td>\n",
       "      <td>0.8</td>\n",
       "      <td>11.7</td>\n",
       "      <td>7.2</td>\n",
       "      <td>2.3</td>\n",
       "      <td>rain</td>\n",
       "    </tr>\n",
       "    <tr>\n",
       "      <th>3</th>\n",
       "      <td>2012-01-04</td>\n",
       "      <td>20.3</td>\n",
       "      <td>12.2</td>\n",
       "      <td>5.6</td>\n",
       "      <td>4.7</td>\n",
       "      <td>rain</td>\n",
       "    </tr>\n",
       "    <tr>\n",
       "      <th>4</th>\n",
       "      <td>2012-01-05</td>\n",
       "      <td>1.3</td>\n",
       "      <td>8.9</td>\n",
       "      <td>2.8</td>\n",
       "      <td>6.1</td>\n",
       "      <td>rain</td>\n",
       "    </tr>\n",
       "    <tr>\n",
       "      <th>...</th>\n",
       "      <td>...</td>\n",
       "      <td>...</td>\n",
       "      <td>...</td>\n",
       "      <td>...</td>\n",
       "      <td>...</td>\n",
       "      <td>...</td>\n",
       "    </tr>\n",
       "    <tr>\n",
       "      <th>1456</th>\n",
       "      <td>2015-12-27</td>\n",
       "      <td>8.6</td>\n",
       "      <td>4.4</td>\n",
       "      <td>1.7</td>\n",
       "      <td>2.9</td>\n",
       "      <td>rain</td>\n",
       "    </tr>\n",
       "    <tr>\n",
       "      <th>1457</th>\n",
       "      <td>2015-12-28</td>\n",
       "      <td>1.5</td>\n",
       "      <td>5.0</td>\n",
       "      <td>1.7</td>\n",
       "      <td>1.3</td>\n",
       "      <td>rain</td>\n",
       "    </tr>\n",
       "    <tr>\n",
       "      <th>1458</th>\n",
       "      <td>2015-12-29</td>\n",
       "      <td>0.0</td>\n",
       "      <td>7.2</td>\n",
       "      <td>0.6</td>\n",
       "      <td>2.6</td>\n",
       "      <td>fog</td>\n",
       "    </tr>\n",
       "    <tr>\n",
       "      <th>1459</th>\n",
       "      <td>2015-12-30</td>\n",
       "      <td>0.0</td>\n",
       "      <td>5.6</td>\n",
       "      <td>-1.0</td>\n",
       "      <td>3.4</td>\n",
       "      <td>sun</td>\n",
       "    </tr>\n",
       "    <tr>\n",
       "      <th>1460</th>\n",
       "      <td>2015-12-31</td>\n",
       "      <td>0.0</td>\n",
       "      <td>5.6</td>\n",
       "      <td>-2.1</td>\n",
       "      <td>3.5</td>\n",
       "      <td>sun</td>\n",
       "    </tr>\n",
       "  </tbody>\n",
       "</table>\n",
       "<p>1461 rows × 6 columns</p>\n",
       "</div>\n",
       "      <button class=\"colab-df-convert\" onclick=\"convertToInteractive('df-2f0e53fa-004a-4e85-91e6-4901a0127106')\"\n",
       "              title=\"Convert this dataframe to an interactive table.\"\n",
       "              style=\"display:none;\">\n",
       "        \n",
       "  <svg xmlns=\"http://www.w3.org/2000/svg\" height=\"24px\"viewBox=\"0 0 24 24\"\n",
       "       width=\"24px\">\n",
       "    <path d=\"M0 0h24v24H0V0z\" fill=\"none\"/>\n",
       "    <path d=\"M18.56 5.44l.94 2.06.94-2.06 2.06-.94-2.06-.94-.94-2.06-.94 2.06-2.06.94zm-11 1L8.5 8.5l.94-2.06 2.06-.94-2.06-.94L8.5 2.5l-.94 2.06-2.06.94zm10 10l.94 2.06.94-2.06 2.06-.94-2.06-.94-.94-2.06-.94 2.06-2.06.94z\"/><path d=\"M17.41 7.96l-1.37-1.37c-.4-.4-.92-.59-1.43-.59-.52 0-1.04.2-1.43.59L10.3 9.45l-7.72 7.72c-.78.78-.78 2.05 0 2.83L4 21.41c.39.39.9.59 1.41.59.51 0 1.02-.2 1.41-.59l7.78-7.78 2.81-2.81c.8-.78.8-2.07 0-2.86zM5.41 20L4 18.59l7.72-7.72 1.47 1.35L5.41 20z\"/>\n",
       "  </svg>\n",
       "      </button>\n",
       "      \n",
       "  <style>\n",
       "    .colab-df-container {\n",
       "      display:flex;\n",
       "      flex-wrap:wrap;\n",
       "      gap: 12px;\n",
       "    }\n",
       "\n",
       "    .colab-df-convert {\n",
       "      background-color: #E8F0FE;\n",
       "      border: none;\n",
       "      border-radius: 50%;\n",
       "      cursor: pointer;\n",
       "      display: none;\n",
       "      fill: #1967D2;\n",
       "      height: 32px;\n",
       "      padding: 0 0 0 0;\n",
       "      width: 32px;\n",
       "    }\n",
       "\n",
       "    .colab-df-convert:hover {\n",
       "      background-color: #E2EBFA;\n",
       "      box-shadow: 0px 1px 2px rgba(60, 64, 67, 0.3), 0px 1px 3px 1px rgba(60, 64, 67, 0.15);\n",
       "      fill: #174EA6;\n",
       "    }\n",
       "\n",
       "    [theme=dark] .colab-df-convert {\n",
       "      background-color: #3B4455;\n",
       "      fill: #D2E3FC;\n",
       "    }\n",
       "\n",
       "    [theme=dark] .colab-df-convert:hover {\n",
       "      background-color: #434B5C;\n",
       "      box-shadow: 0px 1px 3px 1px rgba(0, 0, 0, 0.15);\n",
       "      filter: drop-shadow(0px 1px 2px rgba(0, 0, 0, 0.3));\n",
       "      fill: #FFFFFF;\n",
       "    }\n",
       "  </style>\n",
       "\n",
       "      <script>\n",
       "        const buttonEl =\n",
       "          document.querySelector('#df-2f0e53fa-004a-4e85-91e6-4901a0127106 button.colab-df-convert');\n",
       "        buttonEl.style.display =\n",
       "          google.colab.kernel.accessAllowed ? 'block' : 'none';\n",
       "\n",
       "        async function convertToInteractive(key) {\n",
       "          const element = document.querySelector('#df-2f0e53fa-004a-4e85-91e6-4901a0127106');\n",
       "          const dataTable =\n",
       "            await google.colab.kernel.invokeFunction('convertToInteractive',\n",
       "                                                     [key], {});\n",
       "          if (!dataTable) return;\n",
       "\n",
       "          const docLinkHtml = 'Like what you see? Visit the ' +\n",
       "            '<a target=\"_blank\" href=https://colab.research.google.com/notebooks/data_table.ipynb>data table notebook</a>'\n",
       "            + ' to learn more about interactive tables.';\n",
       "          element.innerHTML = '';\n",
       "          dataTable['output_type'] = 'display_data';\n",
       "          await google.colab.output.renderOutput(dataTable, element);\n",
       "          const docLink = document.createElement('div');\n",
       "          docLink.innerHTML = docLinkHtml;\n",
       "          element.appendChild(docLink);\n",
       "        }\n",
       "      </script>\n",
       "    </div>\n",
       "  </div>\n",
       "  "
      ],
      "text/plain": [
       "            date  precipitation  temp_max  temp_min  wind  weather\n",
       "0     2012-01-01            0.0      12.8       5.0   4.7  drizzle\n",
       "1     2012-01-02           10.9      10.6       2.8   4.5     rain\n",
       "2     2012-01-03            0.8      11.7       7.2   2.3     rain\n",
       "3     2012-01-04           20.3      12.2       5.6   4.7     rain\n",
       "4     2012-01-05            1.3       8.9       2.8   6.1     rain\n",
       "...          ...            ...       ...       ...   ...      ...\n",
       "1456  2015-12-27            8.6       4.4       1.7   2.9     rain\n",
       "1457  2015-12-28            1.5       5.0       1.7   1.3     rain\n",
       "1458  2015-12-29            0.0       7.2       0.6   2.6      fog\n",
       "1459  2015-12-30            0.0       5.6      -1.0   3.4      sun\n",
       "1460  2015-12-31            0.0       5.6      -2.1   3.5      sun\n",
       "\n",
       "[1461 rows x 6 columns]"
      ]
     },
     "execution_count": 6,
     "metadata": {},
     "output_type": "execute_result"
    }
   ],
   "source": [
    "df"
   ]
  },
  {
   "cell_type": "code",
   "execution_count": 7,
   "metadata": {
    "colab": {
     "base_uri": "https://localhost:8080/"
    },
    "id": "Hqh4yBW7KY0B",
    "outputId": "98cce4c1-467e-4e7b-ac07-09c94fac16bd"
   },
   "outputs": [
    {
     "name": "stdout",
     "output_type": "stream",
     "text": [
      "<class 'pandas.core.frame.DataFrame'>\n",
      "RangeIndex: 1461 entries, 0 to 1460\n",
      "Data columns (total 6 columns):\n",
      " #   Column         Non-Null Count  Dtype  \n",
      "---  ------         --------------  -----  \n",
      " 0   date           1461 non-null   object \n",
      " 1   precipitation  1461 non-null   float64\n",
      " 2   temp_max       1461 non-null   float64\n",
      " 3   temp_min       1461 non-null   float64\n",
      " 4   wind           1461 non-null   float64\n",
      " 5   weather        1461 non-null   object \n",
      "dtypes: float64(4), object(2)\n",
      "memory usage: 68.6+ KB\n"
     ]
    }
   ],
   "source": [
    "#check information of the dataset\n",
    "#check if we have missing values\n",
    "df.info()"
   ]
  },
  {
   "cell_type": "code",
   "execution_count": 8,
   "metadata": {
    "colab": {
     "base_uri": "https://localhost:8080/"
    },
    "id": "cddmtItnKeTN",
    "outputId": "d0d05ec5-8f38-42f6-dc05-02fcc8f02a95"
   },
   "outputs": [
    {
     "data": {
      "text/plain": [
       "date             0\n",
       "precipitation    0\n",
       "temp_max         0\n",
       "temp_min         0\n",
       "wind             0\n",
       "weather          0\n",
       "dtype: int64"
      ]
     },
     "execution_count": 8,
     "metadata": {},
     "output_type": "execute_result"
    }
   ],
   "source": [
    "#check for null values\n",
    "df.isnull().sum()"
   ]
  },
  {
   "cell_type": "code",
   "execution_count": 9,
   "metadata": {
    "colab": {
     "base_uri": "https://localhost:8080/",
     "height": 300
    },
    "id": "J_IqsLTmKiuq",
    "outputId": "fb7d3666-8629-417e-9158-4bc90b0169ed"
   },
   "outputs": [
    {
     "data": {
      "text/html": [
       "\n",
       "  <div id=\"df-bed2ecbe-9ab1-4652-87d6-70075d51b3e9\">\n",
       "    <div class=\"colab-df-container\">\n",
       "      <div>\n",
       "<style scoped>\n",
       "    .dataframe tbody tr th:only-of-type {\n",
       "        vertical-align: middle;\n",
       "    }\n",
       "\n",
       "    .dataframe tbody tr th {\n",
       "        vertical-align: top;\n",
       "    }\n",
       "\n",
       "    .dataframe thead th {\n",
       "        text-align: right;\n",
       "    }\n",
       "</style>\n",
       "<table border=\"1\" class=\"dataframe\">\n",
       "  <thead>\n",
       "    <tr style=\"text-align: right;\">\n",
       "      <th></th>\n",
       "      <th>precipitation</th>\n",
       "      <th>temp_max</th>\n",
       "      <th>temp_min</th>\n",
       "      <th>wind</th>\n",
       "    </tr>\n",
       "  </thead>\n",
       "  <tbody>\n",
       "    <tr>\n",
       "      <th>count</th>\n",
       "      <td>1461.000000</td>\n",
       "      <td>1461.000000</td>\n",
       "      <td>1461.000000</td>\n",
       "      <td>1461.000000</td>\n",
       "    </tr>\n",
       "    <tr>\n",
       "      <th>mean</th>\n",
       "      <td>3.029432</td>\n",
       "      <td>16.439083</td>\n",
       "      <td>8.234771</td>\n",
       "      <td>3.241136</td>\n",
       "    </tr>\n",
       "    <tr>\n",
       "      <th>std</th>\n",
       "      <td>6.680194</td>\n",
       "      <td>7.349758</td>\n",
       "      <td>5.023004</td>\n",
       "      <td>1.437825</td>\n",
       "    </tr>\n",
       "    <tr>\n",
       "      <th>min</th>\n",
       "      <td>0.000000</td>\n",
       "      <td>-1.600000</td>\n",
       "      <td>-7.100000</td>\n",
       "      <td>0.400000</td>\n",
       "    </tr>\n",
       "    <tr>\n",
       "      <th>25%</th>\n",
       "      <td>0.000000</td>\n",
       "      <td>10.600000</td>\n",
       "      <td>4.400000</td>\n",
       "      <td>2.200000</td>\n",
       "    </tr>\n",
       "    <tr>\n",
       "      <th>50%</th>\n",
       "      <td>0.000000</td>\n",
       "      <td>15.600000</td>\n",
       "      <td>8.300000</td>\n",
       "      <td>3.000000</td>\n",
       "    </tr>\n",
       "    <tr>\n",
       "      <th>75%</th>\n",
       "      <td>2.800000</td>\n",
       "      <td>22.200000</td>\n",
       "      <td>12.200000</td>\n",
       "      <td>4.000000</td>\n",
       "    </tr>\n",
       "    <tr>\n",
       "      <th>max</th>\n",
       "      <td>55.900000</td>\n",
       "      <td>35.600000</td>\n",
       "      <td>18.300000</td>\n",
       "      <td>9.500000</td>\n",
       "    </tr>\n",
       "  </tbody>\n",
       "</table>\n",
       "</div>\n",
       "      <button class=\"colab-df-convert\" onclick=\"convertToInteractive('df-bed2ecbe-9ab1-4652-87d6-70075d51b3e9')\"\n",
       "              title=\"Convert this dataframe to an interactive table.\"\n",
       "              style=\"display:none;\">\n",
       "        \n",
       "  <svg xmlns=\"http://www.w3.org/2000/svg\" height=\"24px\"viewBox=\"0 0 24 24\"\n",
       "       width=\"24px\">\n",
       "    <path d=\"M0 0h24v24H0V0z\" fill=\"none\"/>\n",
       "    <path d=\"M18.56 5.44l.94 2.06.94-2.06 2.06-.94-2.06-.94-.94-2.06-.94 2.06-2.06.94zm-11 1L8.5 8.5l.94-2.06 2.06-.94-2.06-.94L8.5 2.5l-.94 2.06-2.06.94zm10 10l.94 2.06.94-2.06 2.06-.94-2.06-.94-.94-2.06-.94 2.06-2.06.94z\"/><path d=\"M17.41 7.96l-1.37-1.37c-.4-.4-.92-.59-1.43-.59-.52 0-1.04.2-1.43.59L10.3 9.45l-7.72 7.72c-.78.78-.78 2.05 0 2.83L4 21.41c.39.39.9.59 1.41.59.51 0 1.02-.2 1.41-.59l7.78-7.78 2.81-2.81c.8-.78.8-2.07 0-2.86zM5.41 20L4 18.59l7.72-7.72 1.47 1.35L5.41 20z\"/>\n",
       "  </svg>\n",
       "      </button>\n",
       "      \n",
       "  <style>\n",
       "    .colab-df-container {\n",
       "      display:flex;\n",
       "      flex-wrap:wrap;\n",
       "      gap: 12px;\n",
       "    }\n",
       "\n",
       "    .colab-df-convert {\n",
       "      background-color: #E8F0FE;\n",
       "      border: none;\n",
       "      border-radius: 50%;\n",
       "      cursor: pointer;\n",
       "      display: none;\n",
       "      fill: #1967D2;\n",
       "      height: 32px;\n",
       "      padding: 0 0 0 0;\n",
       "      width: 32px;\n",
       "    }\n",
       "\n",
       "    .colab-df-convert:hover {\n",
       "      background-color: #E2EBFA;\n",
       "      box-shadow: 0px 1px 2px rgba(60, 64, 67, 0.3), 0px 1px 3px 1px rgba(60, 64, 67, 0.15);\n",
       "      fill: #174EA6;\n",
       "    }\n",
       "\n",
       "    [theme=dark] .colab-df-convert {\n",
       "      background-color: #3B4455;\n",
       "      fill: #D2E3FC;\n",
       "    }\n",
       "\n",
       "    [theme=dark] .colab-df-convert:hover {\n",
       "      background-color: #434B5C;\n",
       "      box-shadow: 0px 1px 3px 1px rgba(0, 0, 0, 0.15);\n",
       "      filter: drop-shadow(0px 1px 2px rgba(0, 0, 0, 0.3));\n",
       "      fill: #FFFFFF;\n",
       "    }\n",
       "  </style>\n",
       "\n",
       "      <script>\n",
       "        const buttonEl =\n",
       "          document.querySelector('#df-bed2ecbe-9ab1-4652-87d6-70075d51b3e9 button.colab-df-convert');\n",
       "        buttonEl.style.display =\n",
       "          google.colab.kernel.accessAllowed ? 'block' : 'none';\n",
       "\n",
       "        async function convertToInteractive(key) {\n",
       "          const element = document.querySelector('#df-bed2ecbe-9ab1-4652-87d6-70075d51b3e9');\n",
       "          const dataTable =\n",
       "            await google.colab.kernel.invokeFunction('convertToInteractive',\n",
       "                                                     [key], {});\n",
       "          if (!dataTable) return;\n",
       "\n",
       "          const docLinkHtml = 'Like what you see? Visit the ' +\n",
       "            '<a target=\"_blank\" href=https://colab.research.google.com/notebooks/data_table.ipynb>data table notebook</a>'\n",
       "            + ' to learn more about interactive tables.';\n",
       "          element.innerHTML = '';\n",
       "          dataTable['output_type'] = 'display_data';\n",
       "          await google.colab.output.renderOutput(dataTable, element);\n",
       "          const docLink = document.createElement('div');\n",
       "          docLink.innerHTML = docLinkHtml;\n",
       "          element.appendChild(docLink);\n",
       "        }\n",
       "      </script>\n",
       "    </div>\n",
       "  </div>\n",
       "  "
      ],
      "text/plain": [
       "       precipitation     temp_max     temp_min         wind\n",
       "count    1461.000000  1461.000000  1461.000000  1461.000000\n",
       "mean        3.029432    16.439083     8.234771     3.241136\n",
       "std         6.680194     7.349758     5.023004     1.437825\n",
       "min         0.000000    -1.600000    -7.100000     0.400000\n",
       "25%         0.000000    10.600000     4.400000     2.200000\n",
       "50%         0.000000    15.600000     8.300000     3.000000\n",
       "75%         2.800000    22.200000    12.200000     4.000000\n",
       "max        55.900000    35.600000    18.300000     9.500000"
      ]
     },
     "execution_count": 9,
     "metadata": {},
     "output_type": "execute_result"
    }
   ],
   "source": [
    "#check some statistics\n",
    "df.describe()"
   ]
  },
  {
   "cell_type": "markdown",
   "metadata": {
    "id": "TC8noyGq3GQg"
   },
   "source": [
    "# Task 2: Feature engineering"
   ]
  },
  {
   "cell_type": "code",
   "execution_count": 10,
   "metadata": {
    "id": "98jEJhqBjlox"
   },
   "outputs": [],
   "source": [
    "#drop date feature\n",
    "df_new = df.drop('date', axis=1)"
   ]
  },
  {
   "cell_type": "code",
   "execution_count": 11,
   "metadata": {
    "colab": {
     "base_uri": "https://localhost:8080/",
     "height": 423
    },
    "id": "fR21c5SYj3ew",
    "outputId": "ad2a3da9-2c28-4ca0-a8b8-10f349f50ba5"
   },
   "outputs": [
    {
     "data": {
      "text/html": [
       "\n",
       "  <div id=\"df-a7ea56c5-c36a-47b2-8719-c91d035dde56\">\n",
       "    <div class=\"colab-df-container\">\n",
       "      <div>\n",
       "<style scoped>\n",
       "    .dataframe tbody tr th:only-of-type {\n",
       "        vertical-align: middle;\n",
       "    }\n",
       "\n",
       "    .dataframe tbody tr th {\n",
       "        vertical-align: top;\n",
       "    }\n",
       "\n",
       "    .dataframe thead th {\n",
       "        text-align: right;\n",
       "    }\n",
       "</style>\n",
       "<table border=\"1\" class=\"dataframe\">\n",
       "  <thead>\n",
       "    <tr style=\"text-align: right;\">\n",
       "      <th></th>\n",
       "      <th>precipitation</th>\n",
       "      <th>temp_max</th>\n",
       "      <th>temp_min</th>\n",
       "      <th>wind</th>\n",
       "      <th>weather</th>\n",
       "    </tr>\n",
       "  </thead>\n",
       "  <tbody>\n",
       "    <tr>\n",
       "      <th>0</th>\n",
       "      <td>0.0</td>\n",
       "      <td>12.8</td>\n",
       "      <td>5.0</td>\n",
       "      <td>4.7</td>\n",
       "      <td>drizzle</td>\n",
       "    </tr>\n",
       "    <tr>\n",
       "      <th>1</th>\n",
       "      <td>10.9</td>\n",
       "      <td>10.6</td>\n",
       "      <td>2.8</td>\n",
       "      <td>4.5</td>\n",
       "      <td>rain</td>\n",
       "    </tr>\n",
       "    <tr>\n",
       "      <th>2</th>\n",
       "      <td>0.8</td>\n",
       "      <td>11.7</td>\n",
       "      <td>7.2</td>\n",
       "      <td>2.3</td>\n",
       "      <td>rain</td>\n",
       "    </tr>\n",
       "    <tr>\n",
       "      <th>3</th>\n",
       "      <td>20.3</td>\n",
       "      <td>12.2</td>\n",
       "      <td>5.6</td>\n",
       "      <td>4.7</td>\n",
       "      <td>rain</td>\n",
       "    </tr>\n",
       "    <tr>\n",
       "      <th>4</th>\n",
       "      <td>1.3</td>\n",
       "      <td>8.9</td>\n",
       "      <td>2.8</td>\n",
       "      <td>6.1</td>\n",
       "      <td>rain</td>\n",
       "    </tr>\n",
       "    <tr>\n",
       "      <th>...</th>\n",
       "      <td>...</td>\n",
       "      <td>...</td>\n",
       "      <td>...</td>\n",
       "      <td>...</td>\n",
       "      <td>...</td>\n",
       "    </tr>\n",
       "    <tr>\n",
       "      <th>1456</th>\n",
       "      <td>8.6</td>\n",
       "      <td>4.4</td>\n",
       "      <td>1.7</td>\n",
       "      <td>2.9</td>\n",
       "      <td>rain</td>\n",
       "    </tr>\n",
       "    <tr>\n",
       "      <th>1457</th>\n",
       "      <td>1.5</td>\n",
       "      <td>5.0</td>\n",
       "      <td>1.7</td>\n",
       "      <td>1.3</td>\n",
       "      <td>rain</td>\n",
       "    </tr>\n",
       "    <tr>\n",
       "      <th>1458</th>\n",
       "      <td>0.0</td>\n",
       "      <td>7.2</td>\n",
       "      <td>0.6</td>\n",
       "      <td>2.6</td>\n",
       "      <td>fog</td>\n",
       "    </tr>\n",
       "    <tr>\n",
       "      <th>1459</th>\n",
       "      <td>0.0</td>\n",
       "      <td>5.6</td>\n",
       "      <td>-1.0</td>\n",
       "      <td>3.4</td>\n",
       "      <td>sun</td>\n",
       "    </tr>\n",
       "    <tr>\n",
       "      <th>1460</th>\n",
       "      <td>0.0</td>\n",
       "      <td>5.6</td>\n",
       "      <td>-2.1</td>\n",
       "      <td>3.5</td>\n",
       "      <td>sun</td>\n",
       "    </tr>\n",
       "  </tbody>\n",
       "</table>\n",
       "<p>1461 rows × 5 columns</p>\n",
       "</div>\n",
       "      <button class=\"colab-df-convert\" onclick=\"convertToInteractive('df-a7ea56c5-c36a-47b2-8719-c91d035dde56')\"\n",
       "              title=\"Convert this dataframe to an interactive table.\"\n",
       "              style=\"display:none;\">\n",
       "        \n",
       "  <svg xmlns=\"http://www.w3.org/2000/svg\" height=\"24px\"viewBox=\"0 0 24 24\"\n",
       "       width=\"24px\">\n",
       "    <path d=\"M0 0h24v24H0V0z\" fill=\"none\"/>\n",
       "    <path d=\"M18.56 5.44l.94 2.06.94-2.06 2.06-.94-2.06-.94-.94-2.06-.94 2.06-2.06.94zm-11 1L8.5 8.5l.94-2.06 2.06-.94-2.06-.94L8.5 2.5l-.94 2.06-2.06.94zm10 10l.94 2.06.94-2.06 2.06-.94-2.06-.94-.94-2.06-.94 2.06-2.06.94z\"/><path d=\"M17.41 7.96l-1.37-1.37c-.4-.4-.92-.59-1.43-.59-.52 0-1.04.2-1.43.59L10.3 9.45l-7.72 7.72c-.78.78-.78 2.05 0 2.83L4 21.41c.39.39.9.59 1.41.59.51 0 1.02-.2 1.41-.59l7.78-7.78 2.81-2.81c.8-.78.8-2.07 0-2.86zM5.41 20L4 18.59l7.72-7.72 1.47 1.35L5.41 20z\"/>\n",
       "  </svg>\n",
       "      </button>\n",
       "      \n",
       "  <style>\n",
       "    .colab-df-container {\n",
       "      display:flex;\n",
       "      flex-wrap:wrap;\n",
       "      gap: 12px;\n",
       "    }\n",
       "\n",
       "    .colab-df-convert {\n",
       "      background-color: #E8F0FE;\n",
       "      border: none;\n",
       "      border-radius: 50%;\n",
       "      cursor: pointer;\n",
       "      display: none;\n",
       "      fill: #1967D2;\n",
       "      height: 32px;\n",
       "      padding: 0 0 0 0;\n",
       "      width: 32px;\n",
       "    }\n",
       "\n",
       "    .colab-df-convert:hover {\n",
       "      background-color: #E2EBFA;\n",
       "      box-shadow: 0px 1px 2px rgba(60, 64, 67, 0.3), 0px 1px 3px 1px rgba(60, 64, 67, 0.15);\n",
       "      fill: #174EA6;\n",
       "    }\n",
       "\n",
       "    [theme=dark] .colab-df-convert {\n",
       "      background-color: #3B4455;\n",
       "      fill: #D2E3FC;\n",
       "    }\n",
       "\n",
       "    [theme=dark] .colab-df-convert:hover {\n",
       "      background-color: #434B5C;\n",
       "      box-shadow: 0px 1px 3px 1px rgba(0, 0, 0, 0.15);\n",
       "      filter: drop-shadow(0px 1px 2px rgba(0, 0, 0, 0.3));\n",
       "      fill: #FFFFFF;\n",
       "    }\n",
       "  </style>\n",
       "\n",
       "      <script>\n",
       "        const buttonEl =\n",
       "          document.querySelector('#df-a7ea56c5-c36a-47b2-8719-c91d035dde56 button.colab-df-convert');\n",
       "        buttonEl.style.display =\n",
       "          google.colab.kernel.accessAllowed ? 'block' : 'none';\n",
       "\n",
       "        async function convertToInteractive(key) {\n",
       "          const element = document.querySelector('#df-a7ea56c5-c36a-47b2-8719-c91d035dde56');\n",
       "          const dataTable =\n",
       "            await google.colab.kernel.invokeFunction('convertToInteractive',\n",
       "                                                     [key], {});\n",
       "          if (!dataTable) return;\n",
       "\n",
       "          const docLinkHtml = 'Like what you see? Visit the ' +\n",
       "            '<a target=\"_blank\" href=https://colab.research.google.com/notebooks/data_table.ipynb>data table notebook</a>'\n",
       "            + ' to learn more about interactive tables.';\n",
       "          element.innerHTML = '';\n",
       "          dataTable['output_type'] = 'display_data';\n",
       "          await google.colab.output.renderOutput(dataTable, element);\n",
       "          const docLink = document.createElement('div');\n",
       "          docLink.innerHTML = docLinkHtml;\n",
       "          element.appendChild(docLink);\n",
       "        }\n",
       "      </script>\n",
       "    </div>\n",
       "  </div>\n",
       "  "
      ],
      "text/plain": [
       "      precipitation  temp_max  temp_min  wind  weather\n",
       "0               0.0      12.8       5.0   4.7  drizzle\n",
       "1              10.9      10.6       2.8   4.5     rain\n",
       "2               0.8      11.7       7.2   2.3     rain\n",
       "3              20.3      12.2       5.6   4.7     rain\n",
       "4               1.3       8.9       2.8   6.1     rain\n",
       "...             ...       ...       ...   ...      ...\n",
       "1456            8.6       4.4       1.7   2.9     rain\n",
       "1457            1.5       5.0       1.7   1.3     rain\n",
       "1458            0.0       7.2       0.6   2.6      fog\n",
       "1459            0.0       5.6      -1.0   3.4      sun\n",
       "1460            0.0       5.6      -2.1   3.5      sun\n",
       "\n",
       "[1461 rows x 5 columns]"
      ]
     },
     "execution_count": 11,
     "metadata": {},
     "output_type": "execute_result"
    }
   ],
   "source": [
    "df_new"
   ]
  },
  {
   "cell_type": "code",
   "execution_count": 12,
   "metadata": {
    "id": "K-14i_ZooOPA"
   },
   "outputs": [],
   "source": [
    "#convert the date feature to a datetime type\n",
    "df['date'] = pd.to_datetime(df['date'])"
   ]
  },
  {
   "cell_type": "code",
   "execution_count": 13,
   "metadata": {
    "colab": {
     "base_uri": "https://localhost:8080/"
    },
    "id": "s7PwZMTnMw-p",
    "outputId": "8c728749-01bf-414b-fae6-5db8a1ac3d2d"
   },
   "outputs": [
    {
     "data": {
      "text/plain": [
       "2012    366\n",
       "2013    365\n",
       "2014    365\n",
       "2015    365\n",
       "Name: date, dtype: int64"
      ]
     },
     "execution_count": 13,
     "metadata": {},
     "output_type": "execute_result"
    }
   ],
   "source": [
    "#check the year in the date feature\n",
    "df['date'].dt.year.value_counts()"
   ]
  },
  {
   "cell_type": "markdown",
   "metadata": {
    "id": "AiUkI-sfDKKv"
   },
   "source": [
    "So, we can see from the above result that we have data from 2012 to 2015 taken every day each year."
   ]
  },
  {
   "cell_type": "code",
   "execution_count": 14,
   "metadata": {
    "colab": {
     "base_uri": "https://localhost:8080/",
     "height": 472
    },
    "id": "nCrobPX4bGXg",
    "outputId": "ce04d64a-cc49-4be0-96c9-0495c1403942"
   },
   "outputs": [
    {
     "data": {
      "image/png": "[encoded data removed]",
      "text/plain": [
       "<Figure size 640x480 with 1 Axes>"
      ]
     },
     "metadata": {},
     "output_type": "display_data"
    }
   ],
   "source": [
    "df_new['weather'].value_counts().plot.barh()\n",
    "plt.title('Weather Distribution')\n",
    "plt.xlabel('Count')\n",
    "plt.ylabel('Weather')\n",
    "plt.show()"
   ]
  },
  {
   "cell_type": "code",
   "execution_count": 15,
   "metadata": {
    "colab": {
     "base_uri": "https://localhost:8080/"
    },
    "id": "V-FTk28YcUYR",
    "outputId": "c6a53907-b32a-40f6-ef52-77d19e0ce3b9"
   },
   "outputs": [
    {
     "data": {
      "text/plain": [
       "rain       641\n",
       "sun        640\n",
       "fog        101\n",
       "drizzle     53\n",
       "snow        26\n",
       "Name: weather, dtype: int64"
      ]
     },
     "execution_count": 15,
     "metadata": {},
     "output_type": "execute_result"
    }
   ],
   "source": [
    "df.weather.value_counts()"
   ]
  },
  {
   "cell_type": "markdown",
   "metadata": {
    "id": "83J9jzjqcsOj"
   },
   "source": [
    "From the above figure and table we can see that our dataset contains imballanced target feature. That is, we need to pay attention to this issue when applying algorithms in order to perform better results."
   ]
  },
  {
   "cell_type": "markdown",
   "metadata": {
    "id": "In-PnUz83p9A"
   },
   "source": [
    "Managing the categorical label feature"
   ]
  },
  {
   "cell_type": "code",
   "execution_count": 16,
   "metadata": {
    "colab": {
     "base_uri": "https://localhost:8080/",
     "height": 423
    },
    "id": "m_pFySgr8zBm",
    "outputId": "8c593c41-81a0-471c-e7fa-ac7af8722743"
   },
   "outputs": [
    {
     "data": {
      "text/html": [
       "\n",
       "  <div id=\"df-af7855d7-5ee3-42bf-8671-08285adaa34d\">\n",
       "    <div class=\"colab-df-container\">\n",
       "      <div>\n",
       "<style scoped>\n",
       "    .dataframe tbody tr th:only-of-type {\n",
       "        vertical-align: middle;\n",
       "    }\n",
       "\n",
       "    .dataframe tbody tr th {\n",
       "        vertical-align: top;\n",
       "    }\n",
       "\n",
       "    .dataframe thead th {\n",
       "        text-align: right;\n",
       "    }\n",
       "</style>\n",
       "<table border=\"1\" class=\"dataframe\">\n",
       "  <thead>\n",
       "    <tr style=\"text-align: right;\">\n",
       "      <th></th>\n",
       "      <th>precipitation</th>\n",
       "      <th>temp_max</th>\n",
       "      <th>temp_min</th>\n",
       "      <th>wind</th>\n",
       "      <th>weather</th>\n",
       "    </tr>\n",
       "  </thead>\n",
       "  <tbody>\n",
       "    <tr>\n",
       "      <th>0</th>\n",
       "      <td>0.0</td>\n",
       "      <td>12.8</td>\n",
       "      <td>5.0</td>\n",
       "      <td>4.7</td>\n",
       "      <td>drizzle</td>\n",
       "    </tr>\n",
       "    <tr>\n",
       "      <th>1</th>\n",
       "      <td>10.9</td>\n",
       "      <td>10.6</td>\n",
       "      <td>2.8</td>\n",
       "      <td>4.5</td>\n",
       "      <td>rain</td>\n",
       "    </tr>\n",
       "    <tr>\n",
       "      <th>2</th>\n",
       "      <td>0.8</td>\n",
       "      <td>11.7</td>\n",
       "      <td>7.2</td>\n",
       "      <td>2.3</td>\n",
       "      <td>rain</td>\n",
       "    </tr>\n",
       "    <tr>\n",
       "      <th>3</th>\n",
       "      <td>20.3</td>\n",
       "      <td>12.2</td>\n",
       "      <td>5.6</td>\n",
       "      <td>4.7</td>\n",
       "      <td>rain</td>\n",
       "    </tr>\n",
       "    <tr>\n",
       "      <th>4</th>\n",
       "      <td>1.3</td>\n",
       "      <td>8.9</td>\n",
       "      <td>2.8</td>\n",
       "      <td>6.1</td>\n",
       "      <td>rain</td>\n",
       "    </tr>\n",
       "    <tr>\n",
       "      <th>...</th>\n",
       "      <td>...</td>\n",
       "      <td>...</td>\n",
       "      <td>...</td>\n",
       "      <td>...</td>\n",
       "      <td>...</td>\n",
       "    </tr>\n",
       "    <tr>\n",
       "      <th>1456</th>\n",
       "      <td>8.6</td>\n",
       "      <td>4.4</td>\n",
       "      <td>1.7</td>\n",
       "      <td>2.9</td>\n",
       "      <td>rain</td>\n",
       "    </tr>\n",
       "    <tr>\n",
       "      <th>1457</th>\n",
       "      <td>1.5</td>\n",
       "      <td>5.0</td>\n",
       "      <td>1.7</td>\n",
       "      <td>1.3</td>\n",
       "      <td>rain</td>\n",
       "    </tr>\n",
       "    <tr>\n",
       "      <th>1458</th>\n",
       "      <td>0.0</td>\n",
       "      <td>7.2</td>\n",
       "      <td>0.6</td>\n",
       "      <td>2.6</td>\n",
       "      <td>fog</td>\n",
       "    </tr>\n",
       "    <tr>\n",
       "      <th>1459</th>\n",
       "      <td>0.0</td>\n",
       "      <td>5.6</td>\n",
       "      <td>-1.0</td>\n",
       "      <td>3.4</td>\n",
       "      <td>sun</td>\n",
       "    </tr>\n",
       "    <tr>\n",
       "      <th>1460</th>\n",
       "      <td>0.0</td>\n",
       "      <td>5.6</td>\n",
       "      <td>-2.1</td>\n",
       "      <td>3.5</td>\n",
       "      <td>sun</td>\n",
       "    </tr>\n",
       "  </tbody>\n",
       "</table>\n",
       "<p>1461 rows × 5 columns</p>\n",
       "</div>\n",
       "      <button class=\"colab-df-convert\" onclick=\"convertToInteractive('df-af7855d7-5ee3-42bf-8671-08285adaa34d')\"\n",
       "              title=\"Convert this dataframe to an interactive table.\"\n",
       "              style=\"display:none;\">\n",
       "        \n",
       "  <svg xmlns=\"http://www.w3.org/2000/svg\" height=\"24px\"viewBox=\"0 0 24 24\"\n",
       "       width=\"24px\">\n",
       "    <path d=\"M0 0h24v24H0V0z\" fill=\"none\"/>\n",
       "    <path d=\"M18.56 5.44l.94 2.06.94-2.06 2.06-.94-2.06-.94-.94-2.06-.94 2.06-2.06.94zm-11 1L8.5 8.5l.94-2.06 2.06-.94-2.06-.94L8.5 2.5l-.94 2.06-2.06.94zm10 10l.94 2.06.94-2.06 2.06-.94-2.06-.94-.94-2.06-.94 2.06-2.06.94z\"/><path d=\"M17.41 7.96l-1.37-1.37c-.4-.4-.92-.59-1.43-.59-.52 0-1.04.2-1.43.59L10.3 9.45l-7.72 7.72c-.78.78-.78 2.05 0 2.83L4 21.41c.39.39.9.59 1.41.59.51 0 1.02-.2 1.41-.59l7.78-7.78 2.81-2.81c.8-.78.8-2.07 0-2.86zM5.41 20L4 18.59l7.72-7.72 1.47 1.35L5.41 20z\"/>\n",
       "  </svg>\n",
       "      </button>\n",
       "      \n",
       "  <style>\n",
       "    .colab-df-container {\n",
       "      display:flex;\n",
       "      flex-wrap:wrap;\n",
       "      gap: 12px;\n",
       "    }\n",
       "\n",
       "    .colab-df-convert {\n",
       "      background-color: #E8F0FE;\n",
       "      border: none;\n",
       "      border-radius: 50%;\n",
       "      cursor: pointer;\n",
       "      display: none;\n",
       "      fill: #1967D2;\n",
       "      height: 32px;\n",
       "      padding: 0 0 0 0;\n",
       "      width: 32px;\n",
       "    }\n",
       "\n",
       "    .colab-df-convert:hover {\n",
       "      background-color: #E2EBFA;\n",
       "      box-shadow: 0px 1px 2px rgba(60, 64, 67, 0.3), 0px 1px 3px 1px rgba(60, 64, 67, 0.15);\n",
       "      fill: #174EA6;\n",
       "    }\n",
       "\n",
       "    [theme=dark] .colab-df-convert {\n",
       "      background-color: #3B4455;\n",
       "      fill: #D2E3FC;\n",
       "    }\n",
       "\n",
       "    [theme=dark] .colab-df-convert:hover {\n",
       "      background-color: #434B5C;\n",
       "      box-shadow: 0px 1px 3px 1px rgba(0, 0, 0, 0.15);\n",
       "      filter: drop-shadow(0px 1px 2px rgba(0, 0, 0, 0.3));\n",
       "      fill: #FFFFFF;\n",
       "    }\n",
       "  </style>\n",
       "\n",
       "      <script>\n",
       "        const buttonEl =\n",
       "          document.querySelector('#df-af7855d7-5ee3-42bf-8671-08285adaa34d button.colab-df-convert');\n",
       "        buttonEl.style.display =\n",
       "          google.colab.kernel.accessAllowed ? 'block' : 'none';\n",
       "\n",
       "        async function convertToInteractive(key) {\n",
       "          const element = document.querySelector('#df-af7855d7-5ee3-42bf-8671-08285adaa34d');\n",
       "          const dataTable =\n",
       "            await google.colab.kernel.invokeFunction('convertToInteractive',\n",
       "                                                     [key], {});\n",
       "          if (!dataTable) return;\n",
       "\n",
       "          const docLinkHtml = 'Like what you see? Visit the ' +\n",
       "            '<a target=\"_blank\" href=https://colab.research.google.com/notebooks/data_table.ipynb>data table notebook</a>'\n",
       "            + ' to learn more about interactive tables.';\n",
       "          element.innerHTML = '';\n",
       "          dataTable['output_type'] = 'display_data';\n",
       "          await google.colab.output.renderOutput(dataTable, element);\n",
       "          const docLink = document.createElement('div');\n",
       "          docLink.innerHTML = docLinkHtml;\n",
       "          element.appendChild(docLink);\n",
       "        }\n",
       "      </script>\n",
       "    </div>\n",
       "  </div>\n",
       "  "
      ],
      "text/plain": [
       "      precipitation  temp_max  temp_min  wind  weather\n",
       "0               0.0      12.8       5.0   4.7  drizzle\n",
       "1              10.9      10.6       2.8   4.5     rain\n",
       "2               0.8      11.7       7.2   2.3     rain\n",
       "3              20.3      12.2       5.6   4.7     rain\n",
       "4               1.3       8.9       2.8   6.1     rain\n",
       "...             ...       ...       ...   ...      ...\n",
       "1456            8.6       4.4       1.7   2.9     rain\n",
       "1457            1.5       5.0       1.7   1.3     rain\n",
       "1458            0.0       7.2       0.6   2.6      fog\n",
       "1459            0.0       5.6      -1.0   3.4      sun\n",
       "1460            0.0       5.6      -2.1   3.5      sun\n",
       "\n",
       "[1461 rows x 5 columns]"
      ]
     },
     "execution_count": 16,
     "metadata": {},
     "output_type": "execute_result"
    }
   ],
   "source": [
    "df_new"
   ]
  },
  {
   "cell_type": "code",
   "execution_count": 17,
   "metadata": {
    "colab": {
     "base_uri": "https://localhost:8080/",
     "height": 423
    },
    "id": "ysWKRbMO3tSX",
    "outputId": "c6b8cce6-289f-450b-ee33-61e88c2e5b21"
   },
   "outputs": [
    {
     "data": {
      "text/html": [
       "\n",
       "  <div id=\"df-e433676d-4a82-43ac-b74b-f67dc5c31202\">\n",
       "    <div class=\"colab-df-container\">\n",
       "      <div>\n",
       "<style scoped>\n",
       "    .dataframe tbody tr th:only-of-type {\n",
       "        vertical-align: middle;\n",
       "    }\n",
       "\n",
       "    .dataframe tbody tr th {\n",
       "        vertical-align: top;\n",
       "    }\n",
       "\n",
       "    .dataframe thead th {\n",
       "        text-align: right;\n",
       "    }\n",
       "</style>\n",
       "<table border=\"1\" class=\"dataframe\">\n",
       "  <thead>\n",
       "    <tr style=\"text-align: right;\">\n",
       "      <th></th>\n",
       "      <th>precipitation</th>\n",
       "      <th>temp_max</th>\n",
       "      <th>temp_min</th>\n",
       "      <th>wind</th>\n",
       "      <th>weather</th>\n",
       "    </tr>\n",
       "  </thead>\n",
       "  <tbody>\n",
       "    <tr>\n",
       "      <th>0</th>\n",
       "      <td>0.0</td>\n",
       "      <td>12.8</td>\n",
       "      <td>5.0</td>\n",
       "      <td>4.7</td>\n",
       "      <td>0</td>\n",
       "    </tr>\n",
       "    <tr>\n",
       "      <th>1</th>\n",
       "      <td>10.9</td>\n",
       "      <td>10.6</td>\n",
       "      <td>2.8</td>\n",
       "      <td>4.5</td>\n",
       "      <td>2</td>\n",
       "    </tr>\n",
       "    <tr>\n",
       "      <th>2</th>\n",
       "      <td>0.8</td>\n",
       "      <td>11.7</td>\n",
       "      <td>7.2</td>\n",
       "      <td>2.3</td>\n",
       "      <td>2</td>\n",
       "    </tr>\n",
       "    <tr>\n",
       "      <th>3</th>\n",
       "      <td>20.3</td>\n",
       "      <td>12.2</td>\n",
       "      <td>5.6</td>\n",
       "      <td>4.7</td>\n",
       "      <td>2</td>\n",
       "    </tr>\n",
       "    <tr>\n",
       "      <th>4</th>\n",
       "      <td>1.3</td>\n",
       "      <td>8.9</td>\n",
       "      <td>2.8</td>\n",
       "      <td>6.1</td>\n",
       "      <td>2</td>\n",
       "    </tr>\n",
       "    <tr>\n",
       "      <th>...</th>\n",
       "      <td>...</td>\n",
       "      <td>...</td>\n",
       "      <td>...</td>\n",
       "      <td>...</td>\n",
       "      <td>...</td>\n",
       "    </tr>\n",
       "    <tr>\n",
       "      <th>1456</th>\n",
       "      <td>8.6</td>\n",
       "      <td>4.4</td>\n",
       "      <td>1.7</td>\n",
       "      <td>2.9</td>\n",
       "      <td>2</td>\n",
       "    </tr>\n",
       "    <tr>\n",
       "      <th>1457</th>\n",
       "      <td>1.5</td>\n",
       "      <td>5.0</td>\n",
       "      <td>1.7</td>\n",
       "      <td>1.3</td>\n",
       "      <td>2</td>\n",
       "    </tr>\n",
       "    <tr>\n",
       "      <th>1458</th>\n",
       "      <td>0.0</td>\n",
       "      <td>7.2</td>\n",
       "      <td>0.6</td>\n",
       "      <td>2.6</td>\n",
       "      <td>1</td>\n",
       "    </tr>\n",
       "    <tr>\n",
       "      <th>1459</th>\n",
       "      <td>0.0</td>\n",
       "      <td>5.6</td>\n",
       "      <td>-1.0</td>\n",
       "      <td>3.4</td>\n",
       "      <td>4</td>\n",
       "    </tr>\n",
       "    <tr>\n",
       "      <th>1460</th>\n",
       "      <td>0.0</td>\n",
       "      <td>5.6</td>\n",
       "      <td>-2.1</td>\n",
       "      <td>3.5</td>\n",
       "      <td>4</td>\n",
       "    </tr>\n",
       "  </tbody>\n",
       "</table>\n",
       "<p>1461 rows × 5 columns</p>\n",
       "</div>\n",
       "      <button class=\"colab-df-convert\" onclick=\"convertToInteractive('df-e433676d-4a82-43ac-b74b-f67dc5c31202')\"\n",
       "              title=\"Convert this dataframe to an interactive table.\"\n",
       "              style=\"display:none;\">\n",
       "        \n",
       "  <svg xmlns=\"http://www.w3.org/2000/svg\" height=\"24px\"viewBox=\"0 0 24 24\"\n",
       "       width=\"24px\">\n",
       "    <path d=\"M0 0h24v24H0V0z\" fill=\"none\"/>\n",
       "    <path d=\"M18.56 5.44l.94 2.06.94-2.06 2.06-.94-2.06-.94-.94-2.06-.94 2.06-2.06.94zm-11 1L8.5 8.5l.94-2.06 2.06-.94-2.06-.94L8.5 2.5l-.94 2.06-2.06.94zm10 10l.94 2.06.94-2.06 2.06-.94-2.06-.94-.94-2.06-.94 2.06-2.06.94z\"/><path d=\"M17.41 7.96l-1.37-1.37c-.4-.4-.92-.59-1.43-.59-.52 0-1.04.2-1.43.59L10.3 9.45l-7.72 7.72c-.78.78-.78 2.05 0 2.83L4 21.41c.39.39.9.59 1.41.59.51 0 1.02-.2 1.41-.59l7.78-7.78 2.81-2.81c.8-.78.8-2.07 0-2.86zM5.41 20L4 18.59l7.72-7.72 1.47 1.35L5.41 20z\"/>\n",
       "  </svg>\n",
       "      </button>\n",
       "      \n",
       "  <style>\n",
       "    .colab-df-container {\n",
       "      display:flex;\n",
       "      flex-wrap:wrap;\n",
       "      gap: 12px;\n",
       "    }\n",
       "\n",
       "    .colab-df-convert {\n",
       "      background-color: #E8F0FE;\n",
       "      border: none;\n",
       "      border-radius: 50%;\n",
       "      cursor: pointer;\n",
       "      display: none;\n",
       "      fill: #1967D2;\n",
       "      height: 32px;\n",
       "      padding: 0 0 0 0;\n",
       "      width: 32px;\n",
       "    }\n",
       "\n",
       "    .colab-df-convert:hover {\n",
       "      background-color: #E2EBFA;\n",
       "      box-shadow: 0px 1px 2px rgba(60, 64, 67, 0.3), 0px 1px 3px 1px rgba(60, 64, 67, 0.15);\n",
       "      fill: #174EA6;\n",
       "    }\n",
       "\n",
       "    [theme=dark] .colab-df-convert {\n",
       "      background-color: #3B4455;\n",
       "      fill: #D2E3FC;\n",
       "    }\n",
       "\n",
       "    [theme=dark] .colab-df-convert:hover {\n",
       "      background-color: #434B5C;\n",
       "      box-shadow: 0px 1px 3px 1px rgba(0, 0, 0, 0.15);\n",
       "      filter: drop-shadow(0px 1px 2px rgba(0, 0, 0, 0.3));\n",
       "      fill: #FFFFFF;\n",
       "    }\n",
       "  </style>\n",
       "\n",
       "      <script>\n",
       "        const buttonEl =\n",
       "          document.querySelector('#df-e433676d-4a82-43ac-b74b-f67dc5c31202 button.colab-df-convert');\n",
       "        buttonEl.style.display =\n",
       "          google.colab.kernel.accessAllowed ? 'block' : 'none';\n",
       "\n",
       "        async function convertToInteractive(key) {\n",
       "          const element = document.querySelector('#df-e433676d-4a82-43ac-b74b-f67dc5c31202');\n",
       "          const dataTable =\n",
       "            await google.colab.kernel.invokeFunction('convertToInteractive',\n",
       "                                                     [key], {});\n",
       "          if (!dataTable) return;\n",
       "\n",
       "          const docLinkHtml = 'Like what you see? Visit the ' +\n",
       "            '<a target=\"_blank\" href=https://colab.research.google.com/notebooks/data_table.ipynb>data table notebook</a>'\n",
       "            + ' to learn more about interactive tables.';\n",
       "          element.innerHTML = '';\n",
       "          dataTable['output_type'] = 'display_data';\n",
       "          await google.colab.output.renderOutput(dataTable, element);\n",
       "          const docLink = document.createElement('div');\n",
       "          docLink.innerHTML = docLinkHtml;\n",
       "          element.appendChild(docLink);\n",
       "        }\n",
       "      </script>\n",
       "    </div>\n",
       "  </div>\n",
       "  "
      ],
      "text/plain": [
       "      precipitation  temp_max  temp_min  wind  weather\n",
       "0               0.0      12.8       5.0   4.7        0\n",
       "1              10.9      10.6       2.8   4.5        2\n",
       "2               0.8      11.7       7.2   2.3        2\n",
       "3              20.3      12.2       5.6   4.7        2\n",
       "4               1.3       8.9       2.8   6.1        2\n",
       "...             ...       ...       ...   ...      ...\n",
       "1456            8.6       4.4       1.7   2.9        2\n",
       "1457            1.5       5.0       1.7   1.3        2\n",
       "1458            0.0       7.2       0.6   2.6        1\n",
       "1459            0.0       5.6      -1.0   3.4        4\n",
       "1460            0.0       5.6      -2.1   3.5        4\n",
       "\n",
       "[1461 rows x 5 columns]"
      ]
     },
     "execution_count": 17,
     "metadata": {},
     "output_type": "execute_result"
    }
   ],
   "source": [
    "# create LabelEncoder object\n",
    "le = LabelEncoder()\n",
    "\n",
    "# transform the last column of the copied dataframe\n",
    "df_new['weather'] = le.fit_transform(df_new['weather'])\n",
    "\n",
    "# print the transformed dataframe\n",
    "df_new"
   ]
  },
  {
   "cell_type": "code",
   "execution_count": 18,
   "metadata": {
    "id": "R9T-s1gIznVH"
   },
   "outputs": [],
   "source": [
    "#Seperating the dataset into X and Y variables\n",
    "#X includes all the data except the target variable\n",
    "#Y has only the target feature\n",
    "\n",
    "X = df_new.drop('weather', axis=1)\n",
    "y = df_new['weather']"
   ]
  },
  {
   "cell_type": "code",
   "execution_count": 19,
   "metadata": {
    "colab": {
     "base_uri": "https://localhost:8080/",
     "height": 423
    },
    "id": "SkbNSYDSDi8y",
    "outputId": "98736072-90f0-43a4-b6d1-e70d40684396"
   },
   "outputs": [
    {
     "data": {
      "text/html": [
       "\n",
       "  <div id=\"df-3e376f29-7037-4cac-b0c2-934fd1f96f3c\">\n",
       "    <div class=\"colab-df-container\">\n",
       "      <div>\n",
       "<style scoped>\n",
       "    .dataframe tbody tr th:only-of-type {\n",
       "        vertical-align: middle;\n",
       "    }\n",
       "\n",
       "    .dataframe tbody tr th {\n",
       "        vertical-align: top;\n",
       "    }\n",
       "\n",
       "    .dataframe thead th {\n",
       "        text-align: right;\n",
       "    }\n",
       "</style>\n",
       "<table border=\"1\" class=\"dataframe\">\n",
       "  <thead>\n",
       "    <tr style=\"text-align: right;\">\n",
       "      <th></th>\n",
       "      <th>precipitation</th>\n",
       "      <th>temp_max</th>\n",
       "      <th>temp_min</th>\n",
       "      <th>wind</th>\n",
       "    </tr>\n",
       "  </thead>\n",
       "  <tbody>\n",
       "    <tr>\n",
       "      <th>0</th>\n",
       "      <td>0.0</td>\n",
       "      <td>12.8</td>\n",
       "      <td>5.0</td>\n",
       "      <td>4.7</td>\n",
       "    </tr>\n",
       "    <tr>\n",
       "      <th>1</th>\n",
       "      <td>10.9</td>\n",
       "      <td>10.6</td>\n",
       "      <td>2.8</td>\n",
       "      <td>4.5</td>\n",
       "    </tr>\n",
       "    <tr>\n",
       "      <th>2</th>\n",
       "      <td>0.8</td>\n",
       "      <td>11.7</td>\n",
       "      <td>7.2</td>\n",
       "      <td>2.3</td>\n",
       "    </tr>\n",
       "    <tr>\n",
       "      <th>3</th>\n",
       "      <td>20.3</td>\n",
       "      <td>12.2</td>\n",
       "      <td>5.6</td>\n",
       "      <td>4.7</td>\n",
       "    </tr>\n",
       "    <tr>\n",
       "      <th>4</th>\n",
       "      <td>1.3</td>\n",
       "      <td>8.9</td>\n",
       "      <td>2.8</td>\n",
       "      <td>6.1</td>\n",
       "    </tr>\n",
       "    <tr>\n",
       "      <th>...</th>\n",
       "      <td>...</td>\n",
       "      <td>...</td>\n",
       "      <td>...</td>\n",
       "      <td>...</td>\n",
       "    </tr>\n",
       "    <tr>\n",
       "      <th>1456</th>\n",
       "      <td>8.6</td>\n",
       "      <td>4.4</td>\n",
       "      <td>1.7</td>\n",
       "      <td>2.9</td>\n",
       "    </tr>\n",
       "    <tr>\n",
       "      <th>1457</th>\n",
       "      <td>1.5</td>\n",
       "      <td>5.0</td>\n",
       "      <td>1.7</td>\n",
       "      <td>1.3</td>\n",
       "    </tr>\n",
       "    <tr>\n",
       "      <th>1458</th>\n",
       "      <td>0.0</td>\n",
       "      <td>7.2</td>\n",
       "      <td>0.6</td>\n",
       "      <td>2.6</td>\n",
       "    </tr>\n",
       "    <tr>\n",
       "      <th>1459</th>\n",
       "      <td>0.0</td>\n",
       "      <td>5.6</td>\n",
       "      <td>-1.0</td>\n",
       "      <td>3.4</td>\n",
       "    </tr>\n",
       "    <tr>\n",
       "      <th>1460</th>\n",
       "      <td>0.0</td>\n",
       "      <td>5.6</td>\n",
       "      <td>-2.1</td>\n",
       "      <td>3.5</td>\n",
       "    </tr>\n",
       "  </tbody>\n",
       "</table>\n",
       "<p>1461 rows × 4 columns</p>\n",
       "</div>\n",
       "      <button class=\"colab-df-convert\" onclick=\"convertToInteractive('df-3e376f29-7037-4cac-b0c2-934fd1f96f3c')\"\n",
       "              title=\"Convert this dataframe to an interactive table.\"\n",
       "              style=\"display:none;\">\n",
       "        \n",
       "  <svg xmlns=\"http://www.w3.org/2000/svg\" height=\"24px\"viewBox=\"0 0 24 24\"\n",
       "       width=\"24px\">\n",
       "    <path d=\"M0 0h24v24H0V0z\" fill=\"none\"/>\n",
       "    <path d=\"M18.56 5.44l.94 2.06.94-2.06 2.06-.94-2.06-.94-.94-2.06-.94 2.06-2.06.94zm-11 1L8.5 8.5l.94-2.06 2.06-.94-2.06-.94L8.5 2.5l-.94 2.06-2.06.94zm10 10l.94 2.06.94-2.06 2.06-.94-2.06-.94-.94-2.06-.94 2.06-2.06.94z\"/><path d=\"M17.41 7.96l-1.37-1.37c-.4-.4-.92-.59-1.43-.59-.52 0-1.04.2-1.43.59L10.3 9.45l-7.72 7.72c-.78.78-.78 2.05 0 2.83L4 21.41c.39.39.9.59 1.41.59.51 0 1.02-.2 1.41-.59l7.78-7.78 2.81-2.81c.8-.78.8-2.07 0-2.86zM5.41 20L4 18.59l7.72-7.72 1.47 1.35L5.41 20z\"/>\n",
       "  </svg>\n",
       "      </button>\n",
       "      \n",
       "  <style>\n",
       "    .colab-df-container {\n",
       "      display:flex;\n",
       "      flex-wrap:wrap;\n",
       "      gap: 12px;\n",
       "    }\n",
       "\n",
       "    .colab-df-convert {\n",
       "      background-color: #E8F0FE;\n",
       "      border: none;\n",
       "      border-radius: 50%;\n",
       "      cursor: pointer;\n",
       "      display: none;\n",
       "      fill: #1967D2;\n",
       "      height: 32px;\n",
       "      padding: 0 0 0 0;\n",
       "      width: 32px;\n",
       "    }\n",
       "\n",
       "    .colab-df-convert:hover {\n",
       "      background-color: #E2EBFA;\n",
       "      box-shadow: 0px 1px 2px rgba(60, 64, 67, 0.3), 0px 1px 3px 1px rgba(60, 64, 67, 0.15);\n",
       "      fill: #174EA6;\n",
       "    }\n",
       "\n",
       "    [theme=dark] .colab-df-convert {\n",
       "      background-color: #3B4455;\n",
       "      fill: #D2E3FC;\n",
       "    }\n",
       "\n",
       "    [theme=dark] .colab-df-convert:hover {\n",
       "      background-color: #434B5C;\n",
       "      box-shadow: 0px 1px 3px 1px rgba(0, 0, 0, 0.15);\n",
       "      filter: drop-shadow(0px 1px 2px rgba(0, 0, 0, 0.3));\n",
       "      fill: #FFFFFF;\n",
       "    }\n",
       "  </style>\n",
       "\n",
       "      <script>\n",
       "        const buttonEl =\n",
       "          document.querySelector('#df-3e376f29-7037-4cac-b0c2-934fd1f96f3c button.colab-df-convert');\n",
       "        buttonEl.style.display =\n",
       "          google.colab.kernel.accessAllowed ? 'block' : 'none';\n",
       "\n",
       "        async function convertToInteractive(key) {\n",
       "          const element = document.querySelector('#df-3e376f29-7037-4cac-b0c2-934fd1f96f3c');\n",
       "          const dataTable =\n",
       "            await google.colab.kernel.invokeFunction('convertToInteractive',\n",
       "                                                     [key], {});\n",
       "          if (!dataTable) return;\n",
       "\n",
       "          const docLinkHtml = 'Like what you see? Visit the ' +\n",
       "            '<a target=\"_blank\" href=https://colab.research.google.com/notebooks/data_table.ipynb>data table notebook</a>'\n",
       "            + ' to learn more about interactive tables.';\n",
       "          element.innerHTML = '';\n",
       "          dataTable['output_type'] = 'display_data';\n",
       "          await google.colab.output.renderOutput(dataTable, element);\n",
       "          const docLink = document.createElement('div');\n",
       "          docLink.innerHTML = docLinkHtml;\n",
       "          element.appendChild(docLink);\n",
       "        }\n",
       "      </script>\n",
       "    </div>\n",
       "  </div>\n",
       "  "
      ],
      "text/plain": [
       "      precipitation  temp_max  temp_min  wind\n",
       "0               0.0      12.8       5.0   4.7\n",
       "1              10.9      10.6       2.8   4.5\n",
       "2               0.8      11.7       7.2   2.3\n",
       "3              20.3      12.2       5.6   4.7\n",
       "4               1.3       8.9       2.8   6.1\n",
       "...             ...       ...       ...   ...\n",
       "1456            8.6       4.4       1.7   2.9\n",
       "1457            1.5       5.0       1.7   1.3\n",
       "1458            0.0       7.2       0.6   2.6\n",
       "1459            0.0       5.6      -1.0   3.4\n",
       "1460            0.0       5.6      -2.1   3.5\n",
       "\n",
       "[1461 rows x 4 columns]"
      ]
     },
     "execution_count": 19,
     "metadata": {},
     "output_type": "execute_result"
    }
   ],
   "source": [
    "X"
   ]
  },
  {
   "cell_type": "code",
   "execution_count": 20,
   "metadata": {
    "colab": {
     "base_uri": "https://localhost:8080/"
    },
    "id": "fmTnMtMxDkCA",
    "outputId": "0732860c-f140-4cea-9482-4b8be69c4190"
   },
   "outputs": [
    {
     "data": {
      "text/plain": [
       "0       0\n",
       "1       2\n",
       "2       2\n",
       "3       2\n",
       "4       2\n",
       "       ..\n",
       "1456    2\n",
       "1457    2\n",
       "1458    1\n",
       "1459    4\n",
       "1460    4\n",
       "Name: weather, Length: 1461, dtype: int64"
      ]
     },
     "execution_count": 20,
     "metadata": {},
     "output_type": "execute_result"
    }
   ],
   "source": [
    "y"
   ]
  },
  {
   "cell_type": "markdown",
   "metadata": {
    "id": "WItnUbxHI6sx"
   },
   "source": [
    "So, now let's see how many values we have per class"
   ]
  },
  {
   "cell_type": "code",
   "execution_count": 21,
   "metadata": {
    "colab": {
     "base_uri": "https://localhost:8080/"
    },
    "id": "_TJt6Rm8I4rI",
    "outputId": "c8aead42-a1a7-4dee-9ff2-1bea98486752"
   },
   "outputs": [
    {
     "data": {
      "text/plain": [
       "2    641\n",
       "4    640\n",
       "1    101\n",
       "0     53\n",
       "3     26\n",
       "Name: weather, dtype: int64"
      ]
     },
     "execution_count": 21,
     "metadata": {},
     "output_type": "execute_result"
    }
   ],
   "source": [
    "y.value_counts()"
   ]
  },
  {
   "cell_type": "code",
   "execution_count": 22,
   "metadata": {
    "colab": {
     "base_uri": "https://localhost:8080/"
    },
    "id": "c6dauNP7JCY5",
    "outputId": "035b2472-045b-4bda-a93c-6b100e7f2cfb"
   },
   "outputs": [
    {
     "data": {
      "text/plain": [
       "rain       641\n",
       "sun        640\n",
       "fog        101\n",
       "drizzle     53\n",
       "snow        26\n",
       "Name: weather, dtype: int64"
      ]
     },
     "execution_count": 22,
     "metadata": {},
     "output_type": "execute_result"
    }
   ],
   "source": [
    "df.weather.value_counts()"
   ]
  },
  {
   "cell_type": "markdown",
   "metadata": {
    "id": "m2JuocsVJFE4"
   },
   "source": [
    "From the above information we can see firstly how the categories of our class attribute have been mapped to integers and secondly our minority classes are fog: 1, drizzle: 0 and snow: 3. Therefore, we will need a technique to address this problem in the following tasks."
   ]
  },
  {
   "cell_type": "code",
   "execution_count": 23,
   "metadata": {
    "colab": {
     "base_uri": "https://localhost:8080/"
    },
    "id": "U9PQeCgKMfdp",
    "outputId": "307f079b-953c-4525-d826-2c30fcb9097f"
   },
   "outputs": [
    {
     "data": {
      "text/plain": [
       "Index(['precipitation', 'temp_max', 'temp_min', 'wind'], dtype='object')"
      ]
     },
     "execution_count": 23,
     "metadata": {},
     "output_type": "execute_result"
    }
   ],
   "source": [
    "X.columns"
   ]
  },
  {
   "cell_type": "code",
   "execution_count": 24,
   "metadata": {
    "colab": {
     "base_uri": "https://localhost:8080/",
     "height": 435
    },
    "id": "JAlsWpHqQpDn",
    "outputId": "607a1435-aa21-49f3-fc9d-3897988930b9"
   },
   "outputs": [
    {
     "data": {
      "image/png": "[encoded data removed]",
      "text/plain": [
       "<Figure size 640x480 with 2 Axes>"
      ]
     },
     "metadata": {},
     "output_type": "display_data"
    }
   ],
   "source": [
    "# calculate Pearson correlation coefficients\n",
    "corr_matrix = X.corr()\n",
    "\n",
    "# create heatmap\n",
    "sns.heatmap(corr_matrix, cmap='YlGnBu', annot=True)\n",
    "plt.show()"
   ]
  },
  {
   "cell_type": "code",
   "execution_count": 25,
   "metadata": {
    "colab": {
     "base_uri": "https://localhost:8080/",
     "height": 546
    },
    "id": "gidGDUE0QBDY",
    "outputId": "9704458b-744c-437f-a5e6-545bb3911ca2"
   },
   "outputs": [
    {
     "data": {
      "image/png": "[encoded data removed]",
      "text/plain": [
       "<Figure size 600x600 with 16 Axes>"
      ]
     },
     "metadata": {},
     "output_type": "display_data"
    }
   ],
   "source": [
    "scatter_matrix(X, alpha=0.5, figsize=(6, 6))\n",
    "plt.show()"
   ]
  },
  {
   "cell_type": "code",
   "execution_count": 26,
   "metadata": {
    "colab": {
     "base_uri": "https://localhost:8080/",
     "height": 313
    },
    "id": "gYq0a8E5SUww",
    "outputId": "13c8cad6-393a-4b3d-84d2-dfc7969f54b3"
   },
   "outputs": [
    {
     "data": {
      "image/png": "[encoded data removed]",
      "text/plain": [
       "<Figure size 1800x1800 with 3 Axes>"
      ]
     },
     "metadata": {},
     "output_type": "display_data"
    }
   ],
   "source": [
    "from mpl_toolkits.mplot3d import Axes3D\n",
    "\n",
    "fig = plt.figure(figsize=(18, 18))\n",
    "colors = []\n",
    "for i in y:\n",
    "    if i == 0:\n",
    "        colors.append('r')\n",
    "    elif i == 1:\n",
    "        colors.append('b')\n",
    "    elif i == 2:\n",
    "        colors.append('g')\n",
    "    elif i == 3:\n",
    "        colors.append('k')\n",
    "    elif i == 4:\n",
    "        colors.append('y')\n",
    "    elif i == 5:\n",
    "        colors.append('purple')\n",
    "        \n",
    "# Figure 1 (wind, temp_min, class)\n",
    "# XYZ: Number of rows, number of columns, current figure\n",
    "ax = fig.add_subplot(131, projection = '3d')\n",
    "ax.scatter(df_new['wind'], df_new['temp_min'], y, c=colors)\n",
    "ax.set_xlabel(\"wind\")\n",
    "ax.set_ylabel(\"temp_min\")\n",
    "ax.set_zlabel(\"class\")\n",
    "\n",
    "# Figure 2 (wind, temp_max, class)\n",
    "ax = fig.add_subplot(132, projection = '3d')\n",
    "ax.scatter(df_new['wind'], df_new['temp_max'], y, c=colors)\n",
    "ax.set_xlabel(\"wind\")\n",
    "ax.set_ylabel(\"temp_max\")\n",
    "ax.set_zlabel(\"class\")\n",
    "\n",
    "# Figure 3 (temp_max, temp_min, class)\n",
    "ax = fig.add_subplot(133, projection = '3d')\n",
    "ax.scatter(df_new['temp_max'], df_new['temp_min'], y, c=colors)\n",
    "ax.set_xlabel(\"temp_max\")\n",
    "ax.set_ylabel(\"temp_min\")\n",
    "ax.set_zlabel(\"class\")\n",
    "\n",
    "\n",
    "\n",
    "\n",
    "plt.show()"
   ]
  },
  {
   "cell_type": "markdown",
   "metadata": {
    "id": "Y-P5Z2mAYXHG"
   },
   "source": [
    "From the above three figures we can extract some information that will be usefull for later on with the goal to increase the performance of our models.\n",
    "First of all, we can see a clear positive correlation between temperature max and temperature min. However, the features of wind and temp min or temp max attributes show a non correlation .\n",
    "\n"
   ]
  },
  {
   "cell_type": "code",
   "execution_count": 27,
   "metadata": {
    "colab": {
     "base_uri": "https://localhost:8080/",
     "height": 452
    },
    "id": "gZjzYFHIlhEQ",
    "outputId": "e8098975-b047-456a-f5ec-50731e29e56c"
   },
   "outputs": [
    {
     "data": {
      "image/png": "[encoded data removed]",
      "text/plain": [
       "<Figure size 640x480 with 1 Axes>"
      ]
     },
     "metadata": {},
     "output_type": "display_data"
    }
   ],
   "source": [
    "# Create a boxplot of the features\n",
    "X.boxplot()\n",
    "\n",
    "# Set the title of the plot\n",
    "plt.title('Boxplots of Features')\n",
    "\n",
    "# Show the plot\n",
    "plt.show()"
   ]
  },
  {
   "cell_type": "markdown",
   "metadata": {
    "id": "B43l0Nm8l4Kx"
   },
   "source": [
    "We can see from the above figure that the precipitation attribute has a significant amount of extreme values. The wind feature presents extreme values too. Thus, we need to take this into consideration when applying techniques aiming to improve the performance of the models. All in all, the features have values between approximately -5 and 40."
   ]
  },
  {
   "cell_type": "markdown",
   "metadata": {
    "id": "ocRNTUJtPJzp"
   },
   "source": [
    "2.1. Application of algorithms\n",
    "---\n",
    "\n",
    "\n",
    "\n",
    "In this section, we will apply a variety of algorithms on **unstandardized data** and with **all features** keeping **imballanced our target class**."
   ]
  },
  {
   "cell_type": "code",
   "execution_count": 28,
   "metadata": {
    "colab": {
     "base_uri": "https://localhost:8080/"
    },
    "id": "GsEA6F_g2XzT",
    "outputId": "772c5094-ccc7-49fb-dc21-372ff111bc83"
   },
   "outputs": [
    {
     "name": "stdout",
     "output_type": "stream",
     "text": [
      "<class 'pandas.core.frame.DataFrame'>\n",
      "RangeIndex: 1461 entries, 0 to 1460\n",
      "Data columns (total 5 columns):\n",
      " #   Column         Non-Null Count  Dtype  \n",
      "---  ------         --------------  -----  \n",
      " 0   precipitation  1461 non-null   float64\n",
      " 1   temp_max       1461 non-null   float64\n",
      " 2   temp_min       1461 non-null   float64\n",
      " 3   wind           1461 non-null   float64\n",
      " 4   weather        1461 non-null   int64  \n",
      "dtypes: float64(4), int64(1)\n",
      "memory usage: 57.2 KB\n"
     ]
    }
   ],
   "source": [
    "df_new.info()"
   ]
  },
  {
   "cell_type": "markdown",
   "metadata": {
    "id": "3mzVDu0rY8y1"
   },
   "source": [
    "Firstly, we are going to apply a variety of models with naive parameters meaning the complexity of the models will be at low level. This is done since we are now exploring the dataset and we want to see how each of the algorithms react to the dataset.\n",
    "Specifically:\n",
    "*   **Logistic regression:** no use of any hyperparameter\n",
    "*   **SVC:** just a linear kernel\n",
    "*   **Perceptron:** no use of any hyperparameter\n",
    "*   **MLP:** hidden layer with 50 neurons\n",
    "*   **Decision Tree:** with a depth of 3 (shallow tree)\n",
    "*   **Random Forest:** with 25 estimators and depth of 3\n",
    "\n",
    "We will use a function that takes input and returns a classification report for each of the models specified. Since, we have 5 classes and our dataset is highly imballanced we are more interested in f1-score for each of the classes. That is, we need to have high f1-score for each class and not for a subset of our classes. In other words, our goal is to make a model to be able to predict every class even if the class is the minority of the dataset and as we have stated earlier the minority classes are 0, 1 and 3."
   ]
  },
  {
   "cell_type": "code",
   "execution_count": 29,
   "metadata": {
    "id": "jUbxE8Weh-Y4"
   },
   "outputs": [],
   "source": [
    "X_train, X_test, y_train, y_test = train_test_split(X, y, test_size=0.3, random_state=1, stratify=y)"
   ]
  },
  {
   "cell_type": "code",
   "execution_count": 30,
   "metadata": {
    "id": "rb_yjGXJHVoB"
   },
   "outputs": [],
   "source": [
    "#create a function that take the X and y train and test data and the parameters of each model.\n",
    "#Then, it trains, tests and returns a classification report for each model\n",
    "\n",
    "def run_classifiers(X_train, X_test, y_train, y_test, models_params={}):\n",
    "    reports = {}\n",
    "    for model, params in models_params.items():\n",
    "        clf = model(**params)\n",
    "        clf.fit(X_train, y_train)\n",
    "        y_pred = clf.predict(X_test)\n",
    "        report = classification_report(y_test, y_pred)\n",
    "        reports[clf.__class__.__name__] = report\n",
    "        \n",
    "    return reports"
   ]
  },
  {
   "cell_type": "code",
   "execution_count": 31,
   "metadata": {
    "colab": {
     "base_uri": "https://localhost:8080/"
    },
    "id": "kjgeai_DG6hP",
    "outputId": "8aa2ad93-cf79-412f-b615-05d63cea27ed"
   },
   "outputs": [
    {
     "name": "stderr",
     "output_type": "stream",
     "text": [
      "/usr/local/lib/python3.10/dist-packages/sklearn/linear_model/_logistic.py:458: ConvergenceWarning: lbfgs failed to converge (status=1):\n",
      "STOP: TOTAL NO. of ITERATIONS REACHED LIMIT.\n",
      "\n",
      "Increase the number of iterations (max_iter) or scale the data as shown in:\n",
      "    https://scikit-learn.org/stable/modules/preprocessing.html\n",
      "Please also refer to the documentation for alternative solver options:\n",
      "    https://scikit-learn.org/stable/modules/linear_model.html#logistic-regression\n",
      "  n_iter_i = _check_optimize_result(\n",
      "/usr/local/lib/python3.10/dist-packages/sklearn/metrics/_classification.py:1344: UndefinedMetricWarning: Precision and F-score are ill-defined and being set to 0.0 in labels with no predicted samples. Use `zero_division` parameter to control this behavior.\n",
      "  _warn_prf(average, modifier, msg_start, len(result))\n",
      "/usr/local/lib/python3.10/dist-packages/sklearn/metrics/_classification.py:1344: UndefinedMetricWarning: Precision and F-score are ill-defined and being set to 0.0 in labels with no predicted samples. Use `zero_division` parameter to control this behavior.\n",
      "  _warn_prf(average, modifier, msg_start, len(result))\n",
      "/usr/local/lib/python3.10/dist-packages/sklearn/metrics/_classification.py:1344: UndefinedMetricWarning: Precision and F-score are ill-defined and being set to 0.0 in labels with no predicted samples. Use `zero_division` parameter to control this behavior.\n",
      "  _warn_prf(average, modifier, msg_start, len(result))\n",
      "/usr/local/lib/python3.10/dist-packages/sklearn/metrics/_classification.py:1344: UndefinedMetricWarning: Precision and F-score are ill-defined and being set to 0.0 in labels with no predicted samples. Use `zero_division` parameter to control this behavior.\n",
      "  _warn_prf(average, modifier, msg_start, len(result))\n",
      "/usr/local/lib/python3.10/dist-packages/sklearn/metrics/_classification.py:1344: UndefinedMetricWarning: Precision and F-score are ill-defined and being set to 0.0 in labels with no predicted samples. Use `zero_division` parameter to control this behavior.\n",
      "  _warn_prf(average, modifier, msg_start, len(result))\n",
      "/usr/local/lib/python3.10/dist-packages/sklearn/metrics/_classification.py:1344: UndefinedMetricWarning: Precision and F-score are ill-defined and being set to 0.0 in labels with no predicted samples. Use `zero_division` parameter to control this behavior.\n",
      "  _warn_prf(average, modifier, msg_start, len(result))\n",
      "/usr/local/lib/python3.10/dist-packages/sklearn/neural_network/_multilayer_perceptron.py:686: ConvergenceWarning: Stochastic Optimizer: Maximum iterations (200) reached and the optimization hasn't converged yet.\n",
      "  warnings.warn(\n",
      "/usr/local/lib/python3.10/dist-packages/sklearn/metrics/_classification.py:1344: UndefinedMetricWarning: Precision and F-score are ill-defined and being set to 0.0 in labels with no predicted samples. Use `zero_division` parameter to control this behavior.\n",
      "  _warn_prf(average, modifier, msg_start, len(result))\n",
      "/usr/local/lib/python3.10/dist-packages/sklearn/metrics/_classification.py:1344: UndefinedMetricWarning: Precision and F-score are ill-defined and being set to 0.0 in labels with no predicted samples. Use `zero_division` parameter to control this behavior.\n",
      "  _warn_prf(average, modifier, msg_start, len(result))\n",
      "/usr/local/lib/python3.10/dist-packages/sklearn/metrics/_classification.py:1344: UndefinedMetricWarning: Precision and F-score are ill-defined and being set to 0.0 in labels with no predicted samples. Use `zero_division` parameter to control this behavior.\n",
      "  _warn_prf(average, modifier, msg_start, len(result))\n",
      "/usr/local/lib/python3.10/dist-packages/sklearn/metrics/_classification.py:1344: UndefinedMetricWarning: Precision and F-score are ill-defined and being set to 0.0 in labels with no predicted samples. Use `zero_division` parameter to control this behavior.\n",
      "  _warn_prf(average, modifier, msg_start, len(result))\n",
      "/usr/local/lib/python3.10/dist-packages/sklearn/metrics/_classification.py:1344: UndefinedMetricWarning: Precision and F-score are ill-defined and being set to 0.0 in labels with no predicted samples. Use `zero_division` parameter to control this behavior.\n",
      "  _warn_prf(average, modifier, msg_start, len(result))\n",
      "/usr/local/lib/python3.10/dist-packages/sklearn/metrics/_classification.py:1344: UndefinedMetricWarning: Precision and F-score are ill-defined and being set to 0.0 in labels with no predicted samples. Use `zero_division` parameter to control this behavior.\n",
      "  _warn_prf(average, modifier, msg_start, len(result))\n",
      "/usr/local/lib/python3.10/dist-packages/sklearn/metrics/_classification.py:1344: UndefinedMetricWarning: Precision and F-score are ill-defined and being set to 0.0 in labels with no predicted samples. Use `zero_division` parameter to control this behavior.\n",
      "  _warn_prf(average, modifier, msg_start, len(result))\n",
      "/usr/local/lib/python3.10/dist-packages/sklearn/metrics/_classification.py:1344: UndefinedMetricWarning: Precision and F-score are ill-defined and being set to 0.0 in labels with no predicted samples. Use `zero_division` parameter to control this behavior.\n",
      "  _warn_prf(average, modifier, msg_start, len(result))\n",
      "/usr/local/lib/python3.10/dist-packages/sklearn/metrics/_classification.py:1344: UndefinedMetricWarning: Precision and F-score are ill-defined and being set to 0.0 in labels with no predicted samples. Use `zero_division` parameter to control this behavior.\n",
      "  _warn_prf(average, modifier, msg_start, len(result))\n"
     ]
    }
   ],
   "source": [
    "#specify the models and the corresponding parameters\n",
    "models_params_naive = {\n",
    "    LogisticRegression: {'random_state':1},\n",
    "    SVC: {'kernel': 'linear', 'random_state':1},\n",
    "    Perceptron: {'random_state':1},\n",
    "    MLPClassifier: {'hidden_layer_sizes': (50,), 'random_state':1},\n",
    "    DecisionTreeClassifier: {'max_depth': 3, 'random_state': 1},\n",
    "    RandomForestClassifier: {'n_estimators': 25, 'max_depth': 3, 'random_state': 1}\n",
    "}\n",
    "\n",
    "results_naive = run_classifiers(X_train, X_test, y_train, y_test, models_params_naive)"
   ]
  },
  {
   "cell_type": "code",
   "execution_count": 32,
   "metadata": {
    "colab": {
     "base_uri": "https://localhost:8080/"
    },
    "id": "-BDuA_lLiNVY",
    "outputId": "1c0de468-15fa-4b21-f104-91bbde4c554b"
   },
   "outputs": [
    {
     "name": "stdout",
     "output_type": "stream",
     "text": [
      "LogisticRegression:\n",
      "              precision    recall  f1-score   support\n",
      "\n",
      "           0       0.00      0.00      0.00        16\n",
      "           1       0.00      0.00      0.00        30\n",
      "           2       0.97      0.93      0.95       193\n",
      "           3       0.67      0.25      0.36         8\n",
      "           4       0.76      0.99      0.86       192\n",
      "\n",
      "    accuracy                           0.85       439\n",
      "   macro avg       0.48      0.43      0.43       439\n",
      "weighted avg       0.77      0.85      0.80       439\n",
      "\n",
      "\n",
      "SVC:\n",
      "              precision    recall  f1-score   support\n",
      "\n",
      "           0       0.00      0.00      0.00        16\n",
      "           1       0.00      0.00      0.00        30\n",
      "           2       0.98      0.91      0.95       193\n",
      "           3       0.62      0.62      0.62         8\n",
      "           4       0.76      1.00      0.86       192\n",
      "\n",
      "    accuracy                           0.85       439\n",
      "   macro avg       0.47      0.51      0.49       439\n",
      "weighted avg       0.78      0.85      0.81       439\n",
      "\n",
      "\n",
      "Perceptron:\n",
      "              precision    recall  f1-score   support\n",
      "\n",
      "           0       0.00      0.00      0.00        16\n",
      "           1       0.00      0.00      0.00        30\n",
      "           2       0.90      0.84      0.87       193\n",
      "           3       0.00      0.00      0.00         8\n",
      "           4       0.72      0.94      0.82       192\n",
      "\n",
      "    accuracy                           0.78       439\n",
      "   macro avg       0.32      0.36      0.34       439\n",
      "weighted avg       0.71      0.78      0.74       439\n",
      "\n",
      "\n",
      "MLPClassifier:\n",
      "              precision    recall  f1-score   support\n",
      "\n",
      "           0       0.00      0.00      0.00        16\n",
      "           1       0.00      0.00      0.00        30\n",
      "           2       0.98      0.91      0.94       193\n",
      "           3       0.71      0.62      0.67         8\n",
      "           4       0.76      1.00      0.86       192\n",
      "\n",
      "    accuracy                           0.85       439\n",
      "   macro avg       0.49      0.51      0.49       439\n",
      "weighted avg       0.78      0.85      0.80       439\n",
      "\n",
      "\n",
      "DecisionTreeClassifier:\n",
      "              precision    recall  f1-score   support\n",
      "\n",
      "           0       0.00      0.00      0.00        16\n",
      "           1       0.00      0.00      0.00        30\n",
      "           2       0.97      0.91      0.94       193\n",
      "           3       0.50      0.38      0.43         8\n",
      "           4       0.76      1.00      0.86       192\n",
      "\n",
      "    accuracy                           0.85       439\n",
      "   macro avg       0.45      0.46      0.45       439\n",
      "weighted avg       0.77      0.85      0.80       439\n",
      "\n",
      "\n",
      "RandomForestClassifier:\n",
      "              precision    recall  f1-score   support\n",
      "\n",
      "           0       0.00      0.00      0.00        16\n",
      "           1       0.00      0.00      0.00        30\n",
      "           2       0.98      0.92      0.95       193\n",
      "           3       0.67      0.50      0.57         8\n",
      "           4       0.76      1.00      0.86       192\n",
      "\n",
      "    accuracy                           0.85       439\n",
      "   macro avg       0.48      0.48      0.48       439\n",
      "weighted avg       0.78      0.85      0.80       439\n",
      "\n",
      "\n"
     ]
    }
   ],
   "source": [
    "#print each model and its classification report\n",
    "for model_name, report in results_naive.items():\n",
    "    print(f\"{model_name}:\\n{report}\\n\")"
   ]
  },
  {
   "cell_type": "markdown",
   "metadata": {
    "id": "K1RM5v4S3Q5_"
   },
   "source": [
    "As an overall view, we can see that all models except Perceptron algorithm produced over 80% accuracy where Perceptron model slightly lower. However, we are not interested in the accuracy but in f1-score of each class. With that being said, the 0 and 1 classes have been totally misclassified. The MLP classifier does a pretty good job where it classifies the other 3 classes better than any other model.\n",
    "\n",
    "Some of the reasons can be the following:\n",
    "*   **Logistic Regression:** works good with multiclass classification problems, low risk of overfitting\n",
    "*   **SVC:** can handle multiclass classification problems, can capture complex relationships through the use of different kernels, low risk of overfitting, good for small or medium-sized datasets\n",
    "*   **Perceptron:** can handle noise datasets and if they are well linearly seperable\n",
    "*   **MLPClassifier:** Can capture complex relationships\n",
    "*   **DecisionTreeClassifier:** can capture nonlinear relationships, performs well on small and medium-sized datasets, low risk of overfitting\n",
    "*   **RandomForestClassifier:** reduces the variance and overfitting of decision trees, can capture complex nonlinear relationships\n",
    "\n",
    "However, there is room for improvement since we used only **naive hyperparameters** as it was stated in the beggining.\n",
    "\n",
    "Some of the disadvantages that the selected models have are the following:\n",
    "*   **Logistic Regression:** can underperform when there are complex nonlinear relationships, may suffer from multicollinearity when the input variables are highly correlated\n",
    "*   **SVC:** requires careful tuning of hyperparameters and choice of kernel\n",
    "*   **Perceptron:** not effective for capturing complex relationships\n",
    "*   **MLPClassifier:** requires careful tuning of hyperparameters, sensitive to feature scaling\n",
    "*   **DecisionTreeClassifier:** requires careful tuning of hyperparameters, sensitive to feature scaling, prone to overfitting if the network architecture is too complex\n",
    "*   **RandomForestClassifier:** requires careful tuning of hyperparameters\n",
    "\n",
    "From the above, we can conclude that some algorithms can underperform when they face complex non linear relationships such as Perceptron. Furthermore, we can say that logistic regression is not affective when the dataset has highly correlated features in our case there are two features meaning temperature max and temperature min that are highly correlated.\n",
    "\n",
    "In addition, the other algorithms are prone to feature scaling. Most of the approaches require carefull tuning of hyperparameters and selection of features. Last but not least, the dataset characterizes of highly imballanced class attribute leading to the decrease of some of key evaluation metrics.\n",
    "\n",
    "To overcome the above chalenges, firstly we will try to tune efficiently the hyperparameters of the selected models since this is a vital process when dealing with a dataset. There is no golden rule of picking one algorithm and performing better from others on every dataset given. That is why, we use a variety of models and different hyperparameters as the next cell block shows. In the next step, we will encounter some techniques that help to increase the performance of the models."
   ]
  },
  {
   "cell_type": "markdown",
   "metadata": {
    "id": "N5FjjUyk6P2d"
   },
   "source": [
    "2.2. Fine tuning the hyperparameteres\n",
    "---\n",
    "\n",
    "*   **LogisticRegression:** the `C` is set to `2000` which controls the regularization strength. The `max_iter` hyperparameter is set to `5000` since it did not converged in the previous run of the algorithm. This allows the optimization algorithm to run during the training process. This can be helpful in improving the accuracy of the model by allowing it to learn more complex patterns in the data\n",
    "*   **SVC:** the `kernel` is set to `rbf` since it is more flexible kernel and can handle non-linear boundaries better than the linear kernel. In our case, we have seen earlier that we have non-linear patterns for example between the attributes wind and temp_min or temp_max. In addition, `C` hyperparameter is set with a value of `2000`. When this value increases the model is more rigid meaning it does not allow the training data to be wrong classified. The `gamma` hyperparameter with a value of `0.000001` which cotrols the kernel coeffiecient. A low value of gamma results in a more flexible model since it creates a smoother decision boundary\n",
    "*   **Perceptron:** added the `penalty` hyperparameter with a value of `l1` and the `alpha` hyperparameter to a value of `0.01`. The `max_iter` hyperparameter is set to `5000` too since this will allow the algorithm to explore more of the parameter space and find a better solution. The `shuffle` parameter is enabled to shuffle the training data before each epoch. It is useful to shuffle the data in order to prevent the model from overfitting and to improve the generalization of the model\n",
    "*   **MLPClassifier:** the `activation` function is set to `relu` which is a commonly used activation function that helps improve the performance of the MLP algorithm. Also, `adam` is an adaptive learning rate optimization algorithm that can help speed up convergence, improve performance and is less sensitive to the choice of the hyperparameters. We increased the number of `hidden layers and neurons` to improve the model's ability to capture complex patterns in the dataset. The `alpha` hyperparamenter is set to `0.001` and the `learning rate` which controls how fast the model learns its value is set to `0.01`. The `max_iter` hyperparameter is `2000`. That is, the neural network has the ability to train for longer and potentially learn more complex features. Here the `shuffle` parameter is also used as in the case of Perceptron in order to prevent overfitting and generatilize better the performance of the model. In addition, the `max_iter` hyperparameter is used with a value of `500`.\n",
    "*   **DecisionTreeClassifier:** The `criterion` of split is set to `entropy` that is the information gain. Preferably, here it would be a good choice to select the gain_ratio. However, it is not supported by the scikit learn library. We changed the default value that was 'gini' since this setting has difficulty when the number of classes is large. The `max depth` of the tree is increased to `6` in order to build a deeper tree and capture more complex patterns as we show that exists in our dataset. Furthermore, the `minimum samples split` as set to `2`\n",
    "*   **RandomForectClassifier:** As with the dicision tree we specified for the `criterion` hyperparameter the value `entropy` since this setting tends to produce more balanced trees. Also, we increased the `n_estimators` hyperparameter to `100`, which increases the number of trees in the forest to improve the model's ability to generalize to new data. In addition, the `max_depth` meaning the depth of the trees are getting to be deeper and capture more complex patterns in the data, and added the `min_samples_split` hyperparameter with a default value of `2`"
   ]
  },
  {
   "cell_type": "code",
   "execution_count": 33,
   "metadata": {
    "id": "YCEJm7B76acu"
   },
   "outputs": [],
   "source": [
    "models_params_complex = {\n",
    "    LogisticRegression: {'C': 2000, 'max_iter': 5000, 'random_state':1},\n",
    "    SVC: {'kernel': 'rbf', 'C': 2000, 'gamma': 0.000001, 'random_state':1},\n",
    "    Perceptron: {'penalty': 'l1', 'alpha': 0.01, 'random_state':1,'shuffle': True, 'max_iter': 5000},\n",
    "    MLPClassifier: {'activation': 'relu', 'solver': 'adam', 'hidden_layer_sizes': (50, 100, 50), 'batch_size':40, 'shuffle': True, 'alpha': 0.001, 'learning_rate_init': 0.01, 'random_state':1, 'max_iter': 2000},\n",
    "    DecisionTreeClassifier: {'criterion': 'entropy', 'max_depth': 6, 'min_samples_split': 2, 'random_state': 1},\n",
    "    RandomForestClassifier: {'criterion': 'entropy', 'n_estimators': 100, 'max_depth': 10, 'min_samples_split': 2, 'random_state': 1}\n",
    "}"
   ]
  },
  {
   "cell_type": "code",
   "execution_count": 34,
   "metadata": {
    "colab": {
     "base_uri": "https://localhost:8080/"
    },
    "id": "KnLMdAY9MjoQ",
    "outputId": "21980338-692b-4582-a554-4091f0fe3775"
   },
   "outputs": [
    {
     "name": "stderr",
     "output_type": "stream",
     "text": [
      "/usr/local/lib/python3.10/dist-packages/sklearn/metrics/_classification.py:1344: UndefinedMetricWarning: Precision and F-score are ill-defined and being set to 0.0 in labels with no predicted samples. Use `zero_division` parameter to control this behavior.\n",
      "  _warn_prf(average, modifier, msg_start, len(result))\n",
      "/usr/local/lib/python3.10/dist-packages/sklearn/metrics/_classification.py:1344: UndefinedMetricWarning: Precision and F-score are ill-defined and being set to 0.0 in labels with no predicted samples. Use `zero_division` parameter to control this behavior.\n",
      "  _warn_prf(average, modifier, msg_start, len(result))\n",
      "/usr/local/lib/python3.10/dist-packages/sklearn/metrics/_classification.py:1344: UndefinedMetricWarning: Precision and F-score are ill-defined and being set to 0.0 in labels with no predicted samples. Use `zero_division` parameter to control this behavior.\n",
      "  _warn_prf(average, modifier, msg_start, len(result))\n",
      "/usr/local/lib/python3.10/dist-packages/sklearn/metrics/_classification.py:1344: UndefinedMetricWarning: Precision and F-score are ill-defined and being set to 0.0 in labels with no predicted samples. Use `zero_division` parameter to control this behavior.\n",
      "  _warn_prf(average, modifier, msg_start, len(result))\n",
      "/usr/local/lib/python3.10/dist-packages/sklearn/metrics/_classification.py:1344: UndefinedMetricWarning: Precision and F-score are ill-defined and being set to 0.0 in labels with no predicted samples. Use `zero_division` parameter to control this behavior.\n",
      "  _warn_prf(average, modifier, msg_start, len(result))\n",
      "/usr/local/lib/python3.10/dist-packages/sklearn/metrics/_classification.py:1344: UndefinedMetricWarning: Precision and F-score are ill-defined and being set to 0.0 in labels with no predicted samples. Use `zero_division` parameter to control this behavior.\n",
      "  _warn_prf(average, modifier, msg_start, len(result))\n",
      "/usr/local/lib/python3.10/dist-packages/sklearn/metrics/_classification.py:1344: UndefinedMetricWarning: Precision and F-score are ill-defined and being set to 0.0 in labels with no predicted samples. Use `zero_division` parameter to control this behavior.\n",
      "  _warn_prf(average, modifier, msg_start, len(result))\n",
      "/usr/local/lib/python3.10/dist-packages/sklearn/metrics/_classification.py:1344: UndefinedMetricWarning: Precision and F-score are ill-defined and being set to 0.0 in labels with no predicted samples. Use `zero_division` parameter to control this behavior.\n",
      "  _warn_prf(average, modifier, msg_start, len(result))\n",
      "/usr/local/lib/python3.10/dist-packages/sklearn/metrics/_classification.py:1344: UndefinedMetricWarning: Precision and F-score are ill-defined and being set to 0.0 in labels with no predicted samples. Use `zero_division` parameter to control this behavior.\n",
      "  _warn_prf(average, modifier, msg_start, len(result))\n",
      "/usr/local/lib/python3.10/dist-packages/sklearn/metrics/_classification.py:1344: UndefinedMetricWarning: Precision and F-score are ill-defined and being set to 0.0 in labels with no predicted samples. Use `zero_division` parameter to control this behavior.\n",
      "  _warn_prf(average, modifier, msg_start, len(result))\n",
      "/usr/local/lib/python3.10/dist-packages/sklearn/metrics/_classification.py:1344: UndefinedMetricWarning: Precision and F-score are ill-defined and being set to 0.0 in labels with no predicted samples. Use `zero_division` parameter to control this behavior.\n",
      "  _warn_prf(average, modifier, msg_start, len(result))\n",
      "/usr/local/lib/python3.10/dist-packages/sklearn/metrics/_classification.py:1344: UndefinedMetricWarning: Precision and F-score are ill-defined and being set to 0.0 in labels with no predicted samples. Use `zero_division` parameter to control this behavior.\n",
      "  _warn_prf(average, modifier, msg_start, len(result))\n",
      "/usr/local/lib/python3.10/dist-packages/sklearn/metrics/_classification.py:1344: UndefinedMetricWarning: Precision and F-score are ill-defined and being set to 0.0 in labels with no predicted samples. Use `zero_division` parameter to control this behavior.\n",
      "  _warn_prf(average, modifier, msg_start, len(result))\n",
      "/usr/local/lib/python3.10/dist-packages/sklearn/metrics/_classification.py:1344: UndefinedMetricWarning: Precision and F-score are ill-defined and being set to 0.0 in labels with no predicted samples. Use `zero_division` parameter to control this behavior.\n",
      "  _warn_prf(average, modifier, msg_start, len(result))\n",
      "/usr/local/lib/python3.10/dist-packages/sklearn/metrics/_classification.py:1344: UndefinedMetricWarning: Precision and F-score are ill-defined and being set to 0.0 in labels with no predicted samples. Use `zero_division` parameter to control this behavior.\n",
      "  _warn_prf(average, modifier, msg_start, len(result))\n"
     ]
    }
   ],
   "source": [
    "results_complex = run_classifiers(X_train, X_test, y_train, y_test, models_params_complex)"
   ]
  },
  {
   "cell_type": "code",
   "execution_count": 35,
   "metadata": {
    "colab": {
     "base_uri": "https://localhost:8080/"
    },
    "id": "MQsgHN_5MmEX",
    "outputId": "b71f9f28-1b15-4c68-c817-ed7f441ecf20"
   },
   "outputs": [
    {
     "name": "stdout",
     "output_type": "stream",
     "text": [
      "LogisticRegression:\n",
      "              precision    recall  f1-score   support\n",
      "\n",
      "           0       0.00      0.00      0.00        16\n",
      "           1       0.00      0.00      0.00        30\n",
      "           2       0.97      0.93      0.95       193\n",
      "           3       0.67      0.25      0.36         8\n",
      "           4       0.76      0.99      0.86       192\n",
      "\n",
      "    accuracy                           0.85       439\n",
      "   macro avg       0.48      0.43      0.43       439\n",
      "weighted avg       0.77      0.85      0.80       439\n",
      "\n",
      "\n",
      "SVC:\n",
      "              precision    recall  f1-score   support\n",
      "\n",
      "           0       0.00      0.00      0.00        16\n",
      "           1       0.00      0.00      0.00        30\n",
      "           2       0.95      0.76      0.84       193\n",
      "           3       0.00      0.00      0.00         8\n",
      "           4       0.68      1.00      0.81       192\n",
      "\n",
      "    accuracy                           0.77       439\n",
      "   macro avg       0.32      0.35      0.33       439\n",
      "weighted avg       0.71      0.77      0.72       439\n",
      "\n",
      "\n",
      "Perceptron:\n",
      "              precision    recall  f1-score   support\n",
      "\n",
      "           0       0.03      0.06      0.04        16\n",
      "           1       0.00      0.00      0.00        30\n",
      "           2       0.94      0.58      0.72       193\n",
      "           3       0.00      0.00      0.00         8\n",
      "           4       0.67      1.00      0.80       192\n",
      "\n",
      "    accuracy                           0.69       439\n",
      "   macro avg       0.33      0.33      0.31       439\n",
      "weighted avg       0.71      0.69      0.67       439\n",
      "\n",
      "\n",
      "MLPClassifier:\n",
      "              precision    recall  f1-score   support\n",
      "\n",
      "           0       0.00      0.00      0.00        16\n",
      "           1       0.00      0.00      0.00        30\n",
      "           2       0.98      0.88      0.93       193\n",
      "           3       0.36      0.62      0.45         8\n",
      "           4       0.76      1.00      0.86       192\n",
      "\n",
      "    accuracy                           0.84       439\n",
      "   macro avg       0.42      0.50      0.45       439\n",
      "weighted avg       0.77      0.84      0.79       439\n",
      "\n",
      "\n",
      "DecisionTreeClassifier:\n",
      "              precision    recall  f1-score   support\n",
      "\n",
      "           0       0.00      0.00      0.00        16\n",
      "           1       0.11      0.03      0.05        30\n",
      "           2       0.98      0.92      0.95       193\n",
      "           3       0.67      0.50      0.57         8\n",
      "           4       0.77      0.97      0.86       192\n",
      "\n",
      "    accuracy                           0.84       439\n",
      "   macro avg       0.50      0.48      0.48       439\n",
      "weighted avg       0.78      0.84      0.80       439\n",
      "\n",
      "\n",
      "RandomForestClassifier:\n",
      "              precision    recall  f1-score   support\n",
      "\n",
      "           0       0.50      0.06      0.11        16\n",
      "           1       0.17      0.03      0.06        30\n",
      "           2       0.97      0.91      0.94       193\n",
      "           3       0.57      0.50      0.53         8\n",
      "           4       0.77      0.97      0.86       192\n",
      "\n",
      "    accuracy                           0.84       439\n",
      "   macro avg       0.60      0.50      0.50       439\n",
      "weighted avg       0.80      0.84      0.81       439\n",
      "\n",
      "\n"
     ]
    }
   ],
   "source": [
    "#print each model and its classification report\n",
    "for model_name, report in results_complex.items():\n",
    "    print(f\"{model_name}:\\n{report}\\n\")"
   ]
  },
  {
   "cell_type": "markdown",
   "metadata": {
    "id": "BwcTO2vQV1AX"
   },
   "source": [
    "From the above results, we can conclude the following:\n",
    "*   **the logistic regression** do not change its performance at all. This is due to that the dataset is simple in terms of records and features and this algorithm converged to the optimal it could find\n",
    "*   **the svc** model decreased its performance a lot. This can be due to a variety of reasons such as the kernel or C or gamma selection. Maybe if altering the gamma hyperparameter and making it more strict it can help increase the performance\n",
    "*   **the perceptron** decreased its performance. This model stills misclassifies three classes even when using complex and naive settings. The alpha parameter can be tested through a variety of range values in order the optimal to be found\n",
    "*   **the mlpclassifier** method, stays approximately to the same level since there are some metrics that increased whereas some other quantitative indicators decreased in comparison to the naive approach tested previously. However, the f1-score for the class 3 has been decreased when using complex hyperparameters.\n",
    "*   **the decisiontreeclassifier** approach resulted approximately to the same results as with the naive method. However, when using complex settings the f1-score for the class 3 have been increased.\n",
    "*   **the randomforestclassifier** algorithm led to slightly better results for the f1-score metric especially for the class 0, 1 and 3. In this case, we used 100 estimators and when the trees combined resulted to better results than the previous where we used only 25 trees\n",
    "\n",
    "All in all, we can see that RandomForestClassifier is the model that achieves the best performance out of the 5 selected complex with hyperparameters algorithms. In other words, this model classifies is the only model that have f1-score for each of the 5 classes. We could say that second comes both DecisionTreeClassifier, MLP Classifier and Logistic Regression with minor differences between their metrics values. Both of these models capture the 3 out of the 5 classes. SVC and Perceptron fail to capture 3 classes."
   ]
  },
  {
   "cell_type": "markdown",
   "metadata": {
    "id": "XsMlzhmYRPRK"
   },
   "source": [
    "To conclude, when using naive settings we had the MLP model where it captured 3 out of 5 classes. On the other hand, when we used more complex hyperparameters we saw that the Random Forest Classifier did a good job capturing 5 out of 5 classes although the f1-score was low in some classes."
   ]
  },
  {
   "cell_type": "markdown",
   "metadata": {
    "id": "WVlCMoXsS2-g"
   },
   "source": [
    "# Task 3: Handling the imballanced class issue\n",
    "\n",
    "Since, our biggest problem is that our models misclassify the classes especially the minority ones we are going to solve the imballanced class issue in this task and then apply again the naive and complex hyperparameters again and compare the models and the approaches again.\n",
    "\n",
    "To handle this imballanced issue, there is a variety of approaches one can use for example undersampling the majority class or oversampling the minority class. However, here we are going to use the Synthetic Minority Oversampling Technique aka SMOTE which creates synthetic data points based on the original data points. The advantage of SMOTE is that you are not generating duplicates, but rather creating synthetic data points that are slightly different from the original data points."
   ]
  },
  {
   "cell_type": "markdown",
   "metadata": {
    "id": "xF7qwlAJW4kw"
   },
   "source": [
    "SMOTE Application\n",
    "---\n",
    "\n",
    "\n",
    "We can see from the below cells that we have 3 classes that are minority meaning class 0, 1 and 3. We are going to perform 3 times the SMOTE algorithm each time for a different minority class."
   ]
  },
  {
   "cell_type": "code",
   "execution_count": 36,
   "metadata": {
    "colab": {
     "base_uri": "https://localhost:8080/"
    },
    "id": "gAfFqzz5UWtv",
    "outputId": "bcd9d1a1-0a63-44c7-91d4-4f3dc292f013"
   },
   "outputs": [
    {
     "data": {
      "text/plain": [
       "2    641\n",
       "4    640\n",
       "1    101\n",
       "0     53\n",
       "3     26\n",
       "Name: weather, dtype: int64"
      ]
     },
     "execution_count": 36,
     "metadata": {},
     "output_type": "execute_result"
    }
   ],
   "source": [
    "y.value_counts()"
   ]
  },
  {
   "cell_type": "code",
   "execution_count": 37,
   "metadata": {
    "id": "j2bzAB0TUWrH"
   },
   "outputs": [],
   "source": [
    "#create the smote object and fit the X and y variables\n",
    "smote = SMOTE(sampling_strategy='minority')\n",
    "X_sm, y_sm = smote.fit_resample(X,y)"
   ]
  },
  {
   "cell_type": "code",
   "execution_count": 38,
   "metadata": {
    "colab": {
     "base_uri": "https://localhost:8080/"
    },
    "id": "FltqGYJAXZkE",
    "outputId": "307770f7-8499-460d-b5e4-7354904bdcee"
   },
   "outputs": [
    {
     "data": {
      "text/plain": [
       "2    641\n",
       "3    641\n",
       "4    640\n",
       "1    101\n",
       "0     53\n",
       "Name: weather, dtype: int64"
      ]
     },
     "execution_count": 38,
     "metadata": {},
     "output_type": "execute_result"
    }
   ],
   "source": [
    "y_sm.value_counts()"
   ]
  },
  {
   "cell_type": "markdown",
   "metadata": {
    "id": "pcyQ0_mXXnX4"
   },
   "source": [
    "From the above example we can see that the minority class where it was class 3 now it has 641 samples the same number as the majority class. We are going to perform this exactly operation two more times for the two remaing minority classes one at a time."
   ]
  },
  {
   "cell_type": "code",
   "execution_count": 39,
   "metadata": {
    "id": "jDVVtzUPXZhf"
   },
   "outputs": [],
   "source": [
    "#create the smote object and fit the X_sm and y_sm variables\n",
    "smote = SMOTE(sampling_strategy='minority')\n",
    "X_sm2, y_sm2 = smote.fit_resample(X_sm,y_sm)"
   ]
  },
  {
   "cell_type": "code",
   "execution_count": 40,
   "metadata": {
    "colab": {
     "base_uri": "https://localhost:8080/"
    },
    "id": "F4cdewwwXZfP",
    "outputId": "04be2a99-092f-4c50-82b1-a48b7f955bd2"
   },
   "outputs": [
    {
     "data": {
      "text/plain": [
       "0    641\n",
       "2    641\n",
       "3    641\n",
       "4    640\n",
       "1    101\n",
       "Name: weather, dtype: int64"
      ]
     },
     "execution_count": 40,
     "metadata": {},
     "output_type": "execute_result"
    }
   ],
   "source": [
    "y_sm2.value_counts()"
   ]
  },
  {
   "cell_type": "code",
   "execution_count": 41,
   "metadata": {
    "id": "ILSl_Vs9XZc2"
   },
   "outputs": [],
   "source": [
    "#create the smote object and fit the X_sm2 and y_sm2 variables\n",
    "smote = SMOTE(sampling_strategy='minority')\n",
    "X_sm3, y_sm3 = smote.fit_resample(X_sm2,y_sm2)"
   ]
  },
  {
   "cell_type": "code",
   "execution_count": 42,
   "metadata": {
    "colab": {
     "base_uri": "https://localhost:8080/"
    },
    "id": "ioXDUcnbUWg_",
    "outputId": "edd7dc7c-5043-4d79-dfce-d4437c2435f1"
   },
   "outputs": [
    {
     "data": {
      "text/plain": [
       "0    641\n",
       "2    641\n",
       "3    641\n",
       "1    641\n",
       "4    640\n",
       "Name: weather, dtype: int64"
      ]
     },
     "execution_count": 42,
     "metadata": {},
     "output_type": "execute_result"
    }
   ],
   "source": [
    "y_sm3.value_counts()"
   ]
  },
  {
   "cell_type": "code",
   "execution_count": 43,
   "metadata": {
    "colab": {
     "base_uri": "https://localhost:8080/"
    },
    "id": "mlxitNDSUWVn",
    "outputId": "9a131584-b4ee-491f-85d4-6fdd7b317e47"
   },
   "outputs": [
    {
     "data": {
      "text/plain": [
       "((3204, 4), (3204,))"
      ]
     },
     "execution_count": 43,
     "metadata": {},
     "output_type": "execute_result"
    }
   ],
   "source": [
    "#dataset after applying the SMOTE operation 3 times\n",
    "X_sm3.shape, y_sm3.shape"
   ]
  },
  {
   "cell_type": "code",
   "execution_count": 44,
   "metadata": {
    "colab": {
     "base_uri": "https://localhost:8080/"
    },
    "id": "z96j-56eYT3Z",
    "outputId": "4ddab1c6-d3ed-4f0b-a6f0-9239e1cc92e3"
   },
   "outputs": [
    {
     "data": {
      "text/plain": [
       "((1461, 4), (1461,))"
      ]
     },
     "execution_count": 44,
     "metadata": {},
     "output_type": "execute_result"
    }
   ],
   "source": [
    "#dataset without applying the SMOTE operation\n",
    "X.shape, y.shape"
   ]
  },
  {
   "cell_type": "markdown",
   "metadata": {
    "id": "iwB0VwosZOzA"
   },
   "source": [
    "Naive settings on ballanced dataset\n",
    "---\n",
    "\n",
    "\n",
    "\n",
    "Let's now apply the models again using firstly the naive hyperparameters and then the complex ones and see if we have increased the performance of the models meaning if the models now capture all the classes and with high f1-score."
   ]
  },
  {
   "cell_type": "code",
   "execution_count": 45,
   "metadata": {
    "id": "L-gKTYoOZboG"
   },
   "outputs": [],
   "source": [
    "#pass the new X_sm3 and y_sm3\n",
    "X_train, X_test, y_train, y_test = train_test_split(X_sm3, y_sm3, test_size=0.3, random_state=1, stratify=y_sm3)"
   ]
  },
  {
   "cell_type": "code",
   "execution_count": 46,
   "metadata": {
    "colab": {
     "base_uri": "https://localhost:8080/"
    },
    "id": "DGweITXOZblv",
    "outputId": "d3c577f1-2703-4db4-b0f0-2af84d8170f7"
   },
   "outputs": [
    {
     "data": {
      "text/plain": [
       "(2242, 4)"
      ]
     },
     "execution_count": 46,
     "metadata": {},
     "output_type": "execute_result"
    }
   ],
   "source": [
    "X_train.shape"
   ]
  },
  {
   "cell_type": "code",
   "execution_count": 47,
   "metadata": {
    "colab": {
     "base_uri": "https://localhost:8080/"
    },
    "id": "J9xd9BhWZbjK",
    "outputId": "df247b95-a185-4837-da21-aa032c214935"
   },
   "outputs": [
    {
     "data": {
      "text/plain": [
       "3    449\n",
       "2    449\n",
       "4    448\n",
       "0    448\n",
       "1    448\n",
       "Name: weather, dtype: int64"
      ]
     },
     "execution_count": 47,
     "metadata": {},
     "output_type": "execute_result"
    }
   ],
   "source": [
    "y_train.value_counts()"
   ]
  },
  {
   "cell_type": "code",
   "execution_count": 48,
   "metadata": {
    "colab": {
     "base_uri": "https://localhost:8080/"
    },
    "id": "VxY9_uKFZbg0",
    "outputId": "27a63403-7b9b-4e46-dbb6-a353c3e3d1c2"
   },
   "outputs": [
    {
     "data": {
      "text/plain": [
       "(962, 4)"
      ]
     },
     "execution_count": 48,
     "metadata": {},
     "output_type": "execute_result"
    }
   ],
   "source": [
    "X_test.shape"
   ]
  },
  {
   "cell_type": "code",
   "execution_count": 49,
   "metadata": {
    "colab": {
     "base_uri": "https://localhost:8080/"
    },
    "id": "l5JV2RYNZbeB",
    "outputId": "04a30c73-f372-49b3-80dd-a448c40ab1f9"
   },
   "outputs": [
    {
     "data": {
      "text/plain": [
       "1    193\n",
       "0    193\n",
       "3    192\n",
       "2    192\n",
       "4    192\n",
       "Name: weather, dtype: int64"
      ]
     },
     "execution_count": 49,
     "metadata": {},
     "output_type": "execute_result"
    }
   ],
   "source": [
    "y_test.value_counts()"
   ]
  },
  {
   "cell_type": "code",
   "execution_count": 50,
   "metadata": {
    "colab": {
     "base_uri": "https://localhost:8080/"
    },
    "id": "w2lDNvuoe2x9",
    "outputId": "f8e5b91e-e239-4746-d374-dccfc685de0e"
   },
   "outputs": [
    {
     "name": "stderr",
     "output_type": "stream",
     "text": [
      "/usr/local/lib/python3.10/dist-packages/sklearn/linear_model/_logistic.py:458: ConvergenceWarning: lbfgs failed to converge (status=1):\n",
      "STOP: TOTAL NO. of ITERATIONS REACHED LIMIT.\n",
      "\n",
      "Increase the number of iterations (max_iter) or scale the data as shown in:\n",
      "    https://scikit-learn.org/stable/modules/preprocessing.html\n",
      "Please also refer to the documentation for alternative solver options:\n",
      "    https://scikit-learn.org/stable/modules/linear_model.html#logistic-regression\n",
      "  n_iter_i = _check_optimize_result(\n",
      "/usr/local/lib/python3.10/dist-packages/sklearn/neural_network/_multilayer_perceptron.py:686: ConvergenceWarning: Stochastic Optimizer: Maximum iterations (200) reached and the optimization hasn't converged yet.\n",
      "  warnings.warn(\n"
     ]
    }
   ],
   "source": [
    "results_naive_sm = run_classifiers(X_train, X_test, y_train, y_test, models_params_naive)"
   ]
  },
  {
   "cell_type": "code",
   "execution_count": 51,
   "metadata": {
    "colab": {
     "base_uri": "https://localhost:8080/"
    },
    "id": "X_Hbwcebe2vY",
    "outputId": "75ab5b40-9814-4e56-9443-24bf92c6a119"
   },
   "outputs": [
    {
     "name": "stdout",
     "output_type": "stream",
     "text": [
      "LogisticRegression:\n",
      "              precision    recall  f1-score   support\n",
      "\n",
      "           0       0.42      0.46      0.44       193\n",
      "           1       0.39      0.29      0.33       193\n",
      "           2       0.93      0.85      0.89       192\n",
      "           3       0.91      0.94      0.93       192\n",
      "           4       0.46      0.57      0.51       192\n",
      "\n",
      "    accuracy                           0.62       962\n",
      "   macro avg       0.62      0.62      0.62       962\n",
      "weighted avg       0.62      0.62      0.62       962\n",
      "\n",
      "\n",
      "SVC:\n",
      "              precision    recall  f1-score   support\n",
      "\n",
      "           0       0.43      0.41      0.42       193\n",
      "           1       0.42      0.34      0.38       193\n",
      "           2       0.91      0.88      0.89       192\n",
      "           3       0.93      0.92      0.92       192\n",
      "           4       0.47      0.60      0.52       192\n",
      "\n",
      "    accuracy                           0.63       962\n",
      "   macro avg       0.63      0.63      0.63       962\n",
      "weighted avg       0.63      0.63      0.63       962\n",
      "\n",
      "\n",
      "Perceptron:\n",
      "              precision    recall  f1-score   support\n",
      "\n",
      "           0       0.37      0.52      0.43       193\n",
      "           1       0.00      0.00      0.00       193\n",
      "           2       0.57      0.73      0.64       192\n",
      "           3       0.91      0.47      0.62       192\n",
      "           4       0.40      0.70      0.51       192\n",
      "\n",
      "    accuracy                           0.48       962\n",
      "   macro avg       0.45      0.48      0.44       962\n",
      "weighted avg       0.45      0.48      0.44       962\n",
      "\n",
      "\n",
      "MLPClassifier:\n",
      "              precision    recall  f1-score   support\n",
      "\n",
      "           0       0.71      0.35      0.47       193\n",
      "           1       0.47      0.56      0.51       193\n",
      "           2       0.93      0.90      0.91       192\n",
      "           3       0.96      0.93      0.94       192\n",
      "           4       0.49      0.67      0.56       192\n",
      "\n",
      "    accuracy                           0.68       962\n",
      "   macro avg       0.71      0.68      0.68       962\n",
      "weighted avg       0.71      0.68      0.68       962\n",
      "\n",
      "\n",
      "DecisionTreeClassifier:\n",
      "              precision    recall  f1-score   support\n",
      "\n",
      "           0       0.85      0.15      0.25       193\n",
      "           1       0.38      0.75      0.51       193\n",
      "           2       0.97      0.90      0.93       192\n",
      "           3       0.95      0.97      0.96       192\n",
      "           4       0.53      0.48      0.51       192\n",
      "\n",
      "    accuracy                           0.65       962\n",
      "   macro avg       0.74      0.65      0.63       962\n",
      "weighted avg       0.74      0.65      0.63       962\n",
      "\n",
      "\n",
      "RandomForestClassifier:\n",
      "              precision    recall  f1-score   support\n",
      "\n",
      "           0       0.83      0.18      0.29       193\n",
      "           1       0.41      0.80      0.54       193\n",
      "           2       0.97      0.90      0.93       192\n",
      "           3       0.95      0.97      0.96       192\n",
      "           4       0.59      0.52      0.55       192\n",
      "\n",
      "    accuracy                           0.67       962\n",
      "   macro avg       0.75      0.67      0.66       962\n",
      "weighted avg       0.75      0.67      0.65       962\n",
      "\n",
      "\n"
     ]
    }
   ],
   "source": [
    "#print each model and its classification report\n",
    "for model_name, report in results_naive_sm.items():\n",
    "    print(f\"{model_name}:\\n{report}\\n\")"
   ]
  },
  {
   "cell_type": "markdown",
   "metadata": {
    "id": "QhhtFnLJfmDf"
   },
   "source": [
    "From the above results, we can now say that all models capture all of the 5 classes. Some f1-scores are high some others are low. It is important to be mentioned here that although the accuracy of the 5 models has been dropped the models can now capture all classes. We care only about the f1-score of each class. The MLP classifier performs the best our of the 5 models. Then comes the RandomForest classifier and third the Decision Tree with small flunctuations between the previous referred model."
   ]
  },
  {
   "cell_type": "markdown",
   "metadata": {
    "id": "XyCuPmgqhQG_"
   },
   "source": [
    "Complex settings on ballanced dataset\n",
    "---\n",
    "\n",
    "\n",
    "Let's use the complex hyperparameters."
   ]
  },
  {
   "cell_type": "code",
   "execution_count": 52,
   "metadata": {
    "colab": {
     "base_uri": "https://localhost:8080/"
    },
    "id": "CgBZBdTke2s9",
    "outputId": "0d961577-ceb9-4141-9b82-050399d54a91"
   },
   "outputs": [
    {
     "name": "stderr",
     "output_type": "stream",
     "text": [
      "/usr/local/lib/python3.10/dist-packages/sklearn/metrics/_classification.py:1344: UndefinedMetricWarning: Precision and F-score are ill-defined and being set to 0.0 in labels with no predicted samples. Use `zero_division` parameter to control this behavior.\n",
      "  _warn_prf(average, modifier, msg_start, len(result))\n",
      "/usr/local/lib/python3.10/dist-packages/sklearn/metrics/_classification.py:1344: UndefinedMetricWarning: Precision and F-score are ill-defined and being set to 0.0 in labels with no predicted samples. Use `zero_division` parameter to control this behavior.\n",
      "  _warn_prf(average, modifier, msg_start, len(result))\n",
      "/usr/local/lib/python3.10/dist-packages/sklearn/metrics/_classification.py:1344: UndefinedMetricWarning: Precision and F-score are ill-defined and being set to 0.0 in labels with no predicted samples. Use `zero_division` parameter to control this behavior.\n",
      "  _warn_prf(average, modifier, msg_start, len(result))\n"
     ]
    }
   ],
   "source": [
    "results_complex_sm = run_classifiers(X_train, X_test, y_train, y_test, models_params_complex)"
   ]
  },
  {
   "cell_type": "code",
   "execution_count": 53,
   "metadata": {
    "colab": {
     "base_uri": "https://localhost:8080/"
    },
    "id": "LrvbBclte2qn",
    "outputId": "b26390d2-e8a0-490e-d25d-4d5bed470db8"
   },
   "outputs": [
    {
     "name": "stdout",
     "output_type": "stream",
     "text": [
      "LogisticRegression:\n",
      "              precision    recall  f1-score   support\n",
      "\n",
      "           0       0.42      0.42      0.42       193\n",
      "           1       0.41      0.32      0.36       193\n",
      "           2       0.92      0.87      0.89       192\n",
      "           3       0.92      0.92      0.92       192\n",
      "           4       0.46      0.58      0.52       192\n",
      "\n",
      "    accuracy                           0.62       962\n",
      "   macro avg       0.62      0.62      0.62       962\n",
      "weighted avg       0.62      0.62      0.62       962\n",
      "\n",
      "\n",
      "SVC:\n",
      "              precision    recall  f1-score   support\n",
      "\n",
      "           0       0.37      0.42      0.40       193\n",
      "           1       0.37      0.33      0.35       193\n",
      "           2       0.94      0.65      0.77       192\n",
      "           3       0.92      0.89      0.90       192\n",
      "           4       0.43      0.57      0.49       192\n",
      "\n",
      "    accuracy                           0.57       962\n",
      "   macro avg       0.61      0.57      0.58       962\n",
      "weighted avg       0.61      0.57      0.58       962\n",
      "\n",
      "\n",
      "Perceptron:\n",
      "              precision    recall  f1-score   support\n",
      "\n",
      "           0       0.26      0.17      0.20       193\n",
      "           1       0.00      0.00      0.00       193\n",
      "           2       0.75      0.57      0.64       192\n",
      "           3       0.97      0.57      0.72       192\n",
      "           4       0.32      0.94      0.47       192\n",
      "\n",
      "    accuracy                           0.45       962\n",
      "   macro avg       0.46      0.45      0.41       962\n",
      "weighted avg       0.46      0.45      0.41       962\n",
      "\n",
      "\n",
      "MLPClassifier:\n",
      "              precision    recall  f1-score   support\n",
      "\n",
      "           0       0.71      0.18      0.29       193\n",
      "           1       0.41      0.83      0.55       193\n",
      "           2       0.91      0.94      0.92       192\n",
      "           3       0.99      0.91      0.95       192\n",
      "           4       0.59      0.44      0.50       192\n",
      "\n",
      "    accuracy                           0.66       962\n",
      "   macro avg       0.72      0.66      0.64       962\n",
      "weighted avg       0.72      0.66      0.64       962\n",
      "\n",
      "\n",
      "DecisionTreeClassifier:\n",
      "              precision    recall  f1-score   support\n",
      "\n",
      "           0       0.72      0.23      0.35       193\n",
      "           1       0.40      0.82      0.54       193\n",
      "           2       0.96      0.91      0.94       192\n",
      "           3       0.96      0.96      0.96       192\n",
      "           4       0.63      0.43      0.51       192\n",
      "\n",
      "    accuracy                           0.67       962\n",
      "   macro avg       0.74      0.67      0.66       962\n",
      "weighted avg       0.73      0.67      0.66       962\n",
      "\n",
      "\n",
      "RandomForestClassifier:\n",
      "              precision    recall  f1-score   support\n",
      "\n",
      "           0       0.76      0.79      0.78       193\n",
      "           1       0.68      0.78      0.72       193\n",
      "           2       0.99      0.92      0.95       192\n",
      "           3       0.97      0.99      0.98       192\n",
      "           4       0.76      0.66      0.71       192\n",
      "\n",
      "    accuracy                           0.83       962\n",
      "   macro avg       0.83      0.83      0.83       962\n",
      "weighted avg       0.83      0.83      0.83       962\n",
      "\n",
      "\n"
     ]
    }
   ],
   "source": [
    "#print each model and its classification report\n",
    "for model_name, report in results_complex_sm.items():\n",
    "    print(f\"{model_name}:\\n{report}\\n\")"
   ]
  },
  {
   "cell_type": "markdown",
   "metadata": {
    "id": "XdcjIkrdhnoP"
   },
   "source": [
    "Using the complex hyperparameters we can actually see that Random Forest classifier performs extraordinary good with 82% weighted avg. All the models now capture all the 5 classes except Perceptron algorithm where it misclassifies an entirely class meaning class 0. Second method comes MLP classifier where it achieves 70% accuracy."
   ]
  },
  {
   "cell_type": "markdown",
   "metadata": {
    "id": "CFSY69uWiYzH"
   },
   "source": [
    "It is important to make a comparison between the naive and complex hyperparameters here. When using the complex settings we achieve 82% accuracy classifying all classes using Random Forest classifier. This classifier achieves almost 70% accuracy with the naive hyperparameters. "
   ]
  },
  {
   "cell_type": "markdown",
   "metadata": {
    "id": "E7KFBDt6f3rw"
   },
   "source": [
    "# Task 4: Feature Scaling\n",
    "\n",
    "In this stage, we are going to standardize our dataset since its values are not quite in the same scale. A variety of algorithms require feature scaling for optimal performance, while others are relatively insensitive to it. The following methods are sensitive to feature scaling:\n",
    "\n",
    "*   LogisticRegression\n",
    "*   SVC\n",
    "*   Perceptron\n",
    "*   MLPClassifier\n",
    "\n",
    "On the other hand, the following algorithms are less sensitive to feature scaling:\n",
    "\n",
    "*   DecisionTreeClassifier\n",
    "*   RandomForestClassifier\n",
    "\n",
    "It is always a good practice to perform feature scaling on the data before training a machine learning model, regardless of whether or not the algorithm is sensitive to it.\n",
    "\n",
    "However, there may be cases where standardization could negatively impact the performance of your machine learning model. That is why, one should experiment with different feature scaling techniques and evaluate their impact on the performance of the models on the specific dataset.\n",
    "\n",
    "Below two features scaling techniques are presented. Firstly, we will perform **standardization** and evaluate the models. Then, we will use another technique called **normalization** and evaluate again the models. We will test the performance of the models using the hyperparameters both from the naive and complex approaches. Therefore, in the end we will compare if the two feature scaling techniques have a singificant role in this dataset or not."
   ]
  },
  {
   "cell_type": "code",
   "execution_count": 54,
   "metadata": {
    "id": "TbkBBE6aMr26"
   },
   "outputs": [],
   "source": [
    "stdsc = StandardScaler()\n",
    "X_train_std = stdsc.fit_transform(X_train)\n",
    "X_test_std = stdsc.transform(X_test)"
   ]
  },
  {
   "cell_type": "markdown",
   "metadata": {
    "id": "uh4bRpwOrkNB"
   },
   "source": [
    "Standardization - Naive settings\n",
    "---\n",
    "\n",
    "\n",
    "Firstly, we will try to use the same hyperparameters as used before when we tried the naive approach."
   ]
  },
  {
   "cell_type": "code",
   "execution_count": 55,
   "metadata": {
    "colab": {
     "base_uri": "https://localhost:8080/"
    },
    "id": "czQ6WQsq3g53",
    "outputId": "96c6800b-278f-4471-8ccb-f16dabe168b3"
   },
   "outputs": [
    {
     "name": "stderr",
     "output_type": "stream",
     "text": [
      "/usr/local/lib/python3.10/dist-packages/sklearn/neural_network/_multilayer_perceptron.py:686: ConvergenceWarning: Stochastic Optimizer: Maximum iterations (200) reached and the optimization hasn't converged yet.\n",
      "  warnings.warn(\n"
     ]
    }
   ],
   "source": [
    "results_naive_sm_std = run_classifiers(X_train_std, X_test_std, y_train, y_test, models_params_naive)"
   ]
  },
  {
   "cell_type": "code",
   "execution_count": 56,
   "metadata": {
    "colab": {
     "base_uri": "https://localhost:8080/"
    },
    "id": "lOrcPe9V4cKY",
    "outputId": "93064cf0-260f-47d0-936e-38923871c33c"
   },
   "outputs": [
    {
     "name": "stdout",
     "output_type": "stream",
     "text": [
      "LogisticRegression:\n",
      "              precision    recall  f1-score   support\n",
      "\n",
      "           0       0.40      0.43      0.41       193\n",
      "           1       0.39      0.31      0.34       193\n",
      "           2       0.89      0.73      0.80       192\n",
      "           3       0.89      0.91      0.90       192\n",
      "           4       0.45      0.57      0.50       192\n",
      "\n",
      "    accuracy                           0.59       962\n",
      "   macro avg       0.60      0.59      0.59       962\n",
      "weighted avg       0.60      0.59      0.59       962\n",
      "\n",
      "\n",
      "SVC:\n",
      "              precision    recall  f1-score   support\n",
      "\n",
      "           0       0.41      0.40      0.41       193\n",
      "           1       0.40      0.35      0.37       193\n",
      "           2       0.89      0.74      0.81       192\n",
      "           3       0.91      0.86      0.89       192\n",
      "           4       0.44      0.60      0.51       192\n",
      "\n",
      "    accuracy                           0.59       962\n",
      "   macro avg       0.61      0.59      0.60       962\n",
      "weighted avg       0.61      0.59      0.60       962\n",
      "\n",
      "\n",
      "Perceptron:\n",
      "              precision    recall  f1-score   support\n",
      "\n",
      "           0       0.38      0.36      0.37       193\n",
      "           1       0.40      0.50      0.45       193\n",
      "           2       0.71      0.76      0.73       192\n",
      "           3       0.92      0.85      0.89       192\n",
      "           4       0.48      0.39      0.43       192\n",
      "\n",
      "    accuracy                           0.57       962\n",
      "   macro avg       0.58      0.57      0.57       962\n",
      "weighted avg       0.58      0.57      0.57       962\n",
      "\n",
      "\n",
      "MLPClassifier:\n",
      "              precision    recall  f1-score   support\n",
      "\n",
      "           0       0.51      0.53      0.52       193\n",
      "           1       0.51      0.52      0.51       193\n",
      "           2       0.91      0.83      0.87       192\n",
      "           3       0.94      0.94      0.94       192\n",
      "           4       0.55      0.57      0.56       192\n",
      "\n",
      "    accuracy                           0.68       962\n",
      "   macro avg       0.68      0.68      0.68       962\n",
      "weighted avg       0.68      0.68      0.68       962\n",
      "\n",
      "\n",
      "DecisionTreeClassifier:\n",
      "              precision    recall  f1-score   support\n",
      "\n",
      "           0       0.85      0.15      0.25       193\n",
      "           1       0.38      0.75      0.51       193\n",
      "           2       0.97      0.90      0.93       192\n",
      "           3       0.95      0.97      0.96       192\n",
      "           4       0.53      0.48      0.51       192\n",
      "\n",
      "    accuracy                           0.65       962\n",
      "   macro avg       0.74      0.65      0.63       962\n",
      "weighted avg       0.74      0.65      0.63       962\n",
      "\n",
      "\n",
      "RandomForestClassifier:\n",
      "              precision    recall  f1-score   support\n",
      "\n",
      "           0       0.83      0.18      0.29       193\n",
      "           1       0.41      0.80      0.54       193\n",
      "           2       0.97      0.90      0.93       192\n",
      "           3       0.95      0.97      0.96       192\n",
      "           4       0.59      0.52      0.55       192\n",
      "\n",
      "    accuracy                           0.67       962\n",
      "   macro avg       0.75      0.67      0.66       962\n",
      "weighted avg       0.75      0.67      0.65       962\n",
      "\n",
      "\n"
     ]
    }
   ],
   "source": [
    "#print each model and its classification report\n",
    "for model_name, report in results_naive_sm_std.items():\n",
    "    print(f\"{model_name}:\\n{report}\\n\")"
   ]
  },
  {
   "cell_type": "markdown",
   "metadata": {
    "id": "U_085oE7uw_l"
   },
   "source": [
    "We can see from the above results that Logistic Regression decreased its performance. SVC remained to the same level as without using standardization. Perceptron, again, misclassifies an entirely class as before. DecisionTreeClassifier and RandomForestClassifier performed exactly the same. As it was stated previously these two algorithms are insensitive to feature scaling. The best performance comes from MLP Classifier. All in all, we can conclude that standardization does not help with this dataset when using naive hyperparameters."
   ]
  },
  {
   "cell_type": "markdown",
   "metadata": {
    "id": "Z3_Eb2jXr6Yk"
   },
   "source": [
    "Standardization - Complex settings\n",
    "---\n",
    "\n",
    "\n",
    "Below, we used the more complex settings of the hyperparameters and tested the models on the standardized data."
   ]
  },
  {
   "cell_type": "code",
   "execution_count": 57,
   "metadata": {
    "id": "nRHAXrCfsDnc"
   },
   "outputs": [],
   "source": [
    "results_complex_sm_std = run_classifiers(X_train_std, X_test_std, y_train, y_test, models_params_complex)"
   ]
  },
  {
   "cell_type": "code",
   "execution_count": 58,
   "metadata": {
    "colab": {
     "base_uri": "https://localhost:8080/"
    },
    "id": "nHmS6aC0sHDU",
    "outputId": "8d3e9f9b-3483-42d6-9cb1-a2392c772f0c"
   },
   "outputs": [
    {
     "name": "stdout",
     "output_type": "stream",
     "text": [
      "LogisticRegression:\n",
      "              precision    recall  f1-score   support\n",
      "\n",
      "           0       0.42      0.42      0.42       193\n",
      "           1       0.41      0.32      0.36       193\n",
      "           2       0.92      0.87      0.89       192\n",
      "           3       0.92      0.92      0.92       192\n",
      "           4       0.46      0.58      0.52       192\n",
      "\n",
      "    accuracy                           0.62       962\n",
      "   macro avg       0.62      0.62      0.62       962\n",
      "weighted avg       0.62      0.62      0.62       962\n",
      "\n",
      "\n",
      "SVC:\n",
      "              precision    recall  f1-score   support\n",
      "\n",
      "           0       0.32      0.46      0.38       193\n",
      "           1       0.42      0.24      0.31       193\n",
      "           2       0.88      0.42      0.57       192\n",
      "           3       0.80      0.86      0.83       192\n",
      "           4       0.42      0.60      0.49       192\n",
      "\n",
      "    accuracy                           0.52       962\n",
      "   macro avg       0.57      0.52      0.52       962\n",
      "weighted avg       0.57      0.52      0.52       962\n",
      "\n",
      "\n",
      "Perceptron:\n",
      "              precision    recall  f1-score   support\n",
      "\n",
      "           0       0.30      0.99      0.46       193\n",
      "           1       0.00      0.00      0.00       193\n",
      "           2       0.69      0.41      0.52       192\n",
      "           3       0.78      0.49      0.61       192\n",
      "           4       0.28      0.07      0.11       192\n",
      "\n",
      "    accuracy                           0.39       962\n",
      "   macro avg       0.41      0.39      0.34       962\n",
      "weighted avg       0.41      0.39      0.34       962\n",
      "\n",
      "\n",
      "MLPClassifier:\n",
      "              precision    recall  f1-score   support\n",
      "\n",
      "           0       0.62      0.81      0.70       193\n",
      "           1       0.69      0.44      0.54       193\n",
      "           2       0.99      0.88      0.93       192\n",
      "           3       0.96      1.00      0.98       192\n",
      "           4       0.56      0.63      0.59       192\n",
      "\n",
      "    accuracy                           0.75       962\n",
      "   macro avg       0.76      0.75      0.75       962\n",
      "weighted avg       0.76      0.75      0.75       962\n",
      "\n",
      "\n",
      "DecisionTreeClassifier:\n",
      "              precision    recall  f1-score   support\n",
      "\n",
      "           0       0.72      0.23      0.35       193\n",
      "           1       0.40      0.82      0.54       193\n",
      "           2       0.96      0.91      0.94       192\n",
      "           3       0.96      0.96      0.96       192\n",
      "           4       0.63      0.43      0.51       192\n",
      "\n",
      "    accuracy                           0.67       962\n",
      "   macro avg       0.74      0.67      0.66       962\n",
      "weighted avg       0.73      0.67      0.66       962\n",
      "\n",
      "\n",
      "RandomForestClassifier:\n",
      "              precision    recall  f1-score   support\n",
      "\n",
      "           0       0.76      0.79      0.78       193\n",
      "           1       0.68      0.77      0.72       193\n",
      "           2       0.99      0.92      0.95       192\n",
      "           3       0.97      0.99      0.98       192\n",
      "           4       0.75      0.66      0.70       192\n",
      "\n",
      "    accuracy                           0.83       962\n",
      "   macro avg       0.83      0.83      0.83       962\n",
      "weighted avg       0.83      0.83      0.83       962\n",
      "\n",
      "\n"
     ]
    }
   ],
   "source": [
    "#print each model and its classification report\n",
    "for model_name, report in results_complex_sm_std.items():\n",
    "    print(f\"{model_name}:\\n{report}\\n\")"
   ]
  },
  {
   "cell_type": "markdown",
   "metadata": {
    "id": "zj83xHv78DY_"
   },
   "source": [
    "We can see from the above results that Logistic Regression, Decision Tree and Random Forest classifiers do not alter perfomance. SVC slightly decreases its performance. Perceptron again misclassifies an entirely class."
   ]
  },
  {
   "cell_type": "markdown",
   "metadata": {
    "id": "22WvGMr8sXIF"
   },
   "source": [
    "The Random Forest classifier and then MLP classifier are the two models that perform better using the complex settings compare to using naive hyperparameters."
   ]
  },
  {
   "cell_type": "markdown",
   "metadata": {
    "id": "b79dzam15HqK"
   },
   "source": [
    "Normalization - Naive settings\n",
    "---\n",
    "\n",
    "Below, we perform normalization to the dataset first using the naive hyperparameters and test the models performance.\n"
   ]
  },
  {
   "cell_type": "code",
   "execution_count": 59,
   "metadata": {
    "id": "Bq-6CBMxulFw"
   },
   "outputs": [],
   "source": [
    "# MinMax Normalization\n",
    "mms = MinMaxScaler()\n",
    "X_train_norm = mms.fit_transform(X_train)\n",
    "X_test_norm = mms.transform(X_test)"
   ]
  },
  {
   "cell_type": "code",
   "execution_count": 60,
   "metadata": {
    "colab": {
     "base_uri": "https://localhost:8080/"
    },
    "id": "N4Z_DFyt_cUX",
    "outputId": "3f42ca2c-a8d4-43dd-87fa-9ffd05cb9012"
   },
   "outputs": [
    {
     "name": "stderr",
     "output_type": "stream",
     "text": [
      "/usr/local/lib/python3.10/dist-packages/sklearn/metrics/_classification.py:1344: UndefinedMetricWarning: Precision and F-score are ill-defined and being set to 0.0 in labels with no predicted samples. Use `zero_division` parameter to control this behavior.\n",
      "  _warn_prf(average, modifier, msg_start, len(result))\n",
      "/usr/local/lib/python3.10/dist-packages/sklearn/metrics/_classification.py:1344: UndefinedMetricWarning: Precision and F-score are ill-defined and being set to 0.0 in labels with no predicted samples. Use `zero_division` parameter to control this behavior.\n",
      "  _warn_prf(average, modifier, msg_start, len(result))\n",
      "/usr/local/lib/python3.10/dist-packages/sklearn/metrics/_classification.py:1344: UndefinedMetricWarning: Precision and F-score are ill-defined and being set to 0.0 in labels with no predicted samples. Use `zero_division` parameter to control this behavior.\n",
      "  _warn_prf(average, modifier, msg_start, len(result))\n",
      "/usr/local/lib/python3.10/dist-packages/sklearn/neural_network/_multilayer_perceptron.py:686: ConvergenceWarning: Stochastic Optimizer: Maximum iterations (200) reached and the optimization hasn't converged yet.\n",
      "  warnings.warn(\n"
     ]
    }
   ],
   "source": [
    "results_naive_sm_norm = run_classifiers(X_train_norm, X_test_norm, y_train, y_test, models_params_naive)"
   ]
  },
  {
   "cell_type": "code",
   "execution_count": 61,
   "metadata": {
    "colab": {
     "base_uri": "https://localhost:8080/"
    },
    "id": "X7KSTkWY_3KW",
    "outputId": "638b74a1-6ce7-4e87-8f6d-b55a8ccffd8e"
   },
   "outputs": [
    {
     "name": "stdout",
     "output_type": "stream",
     "text": [
      "LogisticRegression:\n",
      "              precision    recall  f1-score   support\n",
      "\n",
      "           0       0.33      0.36      0.35       193\n",
      "           1       0.37      0.24      0.29       193\n",
      "           2       0.79      0.65      0.71       192\n",
      "           3       0.79      0.96      0.87       192\n",
      "           4       0.44      0.54      0.48       192\n",
      "\n",
      "    accuracy                           0.55       962\n",
      "   macro avg       0.54      0.55      0.54       962\n",
      "weighted avg       0.54      0.55      0.54       962\n",
      "\n",
      "\n",
      "SVC:\n",
      "              precision    recall  f1-score   support\n",
      "\n",
      "           0       0.37      0.41      0.39       193\n",
      "           1       0.39      0.37      0.38       193\n",
      "           2       0.84      0.56      0.67       192\n",
      "           3       0.84      0.88      0.85       192\n",
      "           4       0.44      0.55      0.49       192\n",
      "\n",
      "    accuracy                           0.55       962\n",
      "   macro avg       0.58      0.55      0.56       962\n",
      "weighted avg       0.58      0.55      0.56       962\n",
      "\n",
      "\n",
      "Perceptron:\n",
      "              precision    recall  f1-score   support\n",
      "\n",
      "           0       0.00      0.00      0.00       193\n",
      "           1       0.58      0.04      0.07       193\n",
      "           2       0.32      0.85      0.46       192\n",
      "           3       0.63      0.99      0.77       192\n",
      "           4       0.44      0.30      0.36       192\n",
      "\n",
      "    accuracy                           0.44       962\n",
      "   macro avg       0.39      0.44      0.33       962\n",
      "weighted avg       0.39      0.44      0.33       962\n",
      "\n",
      "\n",
      "MLPClassifier:\n",
      "              precision    recall  f1-score   support\n",
      "\n",
      "           0       0.53      0.26      0.35       193\n",
      "           1       0.43      0.55      0.48       193\n",
      "           2       0.79      0.74      0.77       192\n",
      "           3       0.91      0.89      0.90       192\n",
      "           4       0.44      0.57      0.49       192\n",
      "\n",
      "    accuracy                           0.60       962\n",
      "   macro avg       0.62      0.60      0.60       962\n",
      "weighted avg       0.62      0.60      0.60       962\n",
      "\n",
      "\n",
      "DecisionTreeClassifier:\n",
      "              precision    recall  f1-score   support\n",
      "\n",
      "           0       0.85      0.15      0.25       193\n",
      "           1       0.38      0.75      0.51       193\n",
      "           2       0.97      0.90      0.93       192\n",
      "           3       0.95      0.97      0.96       192\n",
      "           4       0.53      0.48      0.51       192\n",
      "\n",
      "    accuracy                           0.65       962\n",
      "   macro avg       0.74      0.65      0.63       962\n",
      "weighted avg       0.74      0.65      0.63       962\n",
      "\n",
      "\n",
      "RandomForestClassifier:\n",
      "              precision    recall  f1-score   support\n",
      "\n",
      "           0       0.83      0.18      0.29       193\n",
      "           1       0.41      0.80      0.54       193\n",
      "           2       0.97      0.90      0.93       192\n",
      "           3       0.95      0.97      0.96       192\n",
      "           4       0.59      0.52      0.55       192\n",
      "\n",
      "    accuracy                           0.67       962\n",
      "   macro avg       0.75      0.67      0.66       962\n",
      "weighted avg       0.75      0.67      0.65       962\n",
      "\n",
      "\n"
     ]
    }
   ],
   "source": [
    "#print each model and its classification report\n",
    "for model_name, report in results_naive_sm_norm.items():\n",
    "    print(f\"{model_name}:\\n{report}\\n\")"
   ]
  },
  {
   "cell_type": "markdown",
   "metadata": {
    "id": "Aluf2ISa5o_8"
   },
   "source": [
    "As with standardization the last two models meaning decisiontreeclassifier and randomforestclassifier resulted with the same evaluation metrics values. This is because these two models are not sensitive to feature scaling. Moreover, the first four algorithms performed pourer than in the case where there was no normalization."
   ]
  },
  {
   "cell_type": "markdown",
   "metadata": {
    "id": "bn92u30f61Gs"
   },
   "source": [
    "Normalization - Complex settings\n",
    "---\n",
    "\n",
    "Now, we are performing normalization but using the complex settings."
   ]
  },
  {
   "cell_type": "code",
   "execution_count": 62,
   "metadata": {
    "colab": {
     "base_uri": "https://localhost:8080/"
    },
    "id": "4gMwBYWqn8OX",
    "outputId": "3d5bba82-733f-4cd5-f4cf-731bf867fb7e"
   },
   "outputs": [
    {
     "name": "stderr",
     "output_type": "stream",
     "text": [
      "/usr/local/lib/python3.10/dist-packages/sklearn/metrics/_classification.py:1344: UndefinedMetricWarning: Precision and F-score are ill-defined and being set to 0.0 in labels with no predicted samples. Use `zero_division` parameter to control this behavior.\n",
      "  _warn_prf(average, modifier, msg_start, len(result))\n",
      "/usr/local/lib/python3.10/dist-packages/sklearn/metrics/_classification.py:1344: UndefinedMetricWarning: Precision and F-score are ill-defined and being set to 0.0 in labels with no predicted samples. Use `zero_division` parameter to control this behavior.\n",
      "  _warn_prf(average, modifier, msg_start, len(result))\n",
      "/usr/local/lib/python3.10/dist-packages/sklearn/metrics/_classification.py:1344: UndefinedMetricWarning: Precision and F-score are ill-defined and being set to 0.0 in labels with no predicted samples. Use `zero_division` parameter to control this behavior.\n",
      "  _warn_prf(average, modifier, msg_start, len(result))\n",
      "/usr/local/lib/python3.10/dist-packages/sklearn/metrics/_classification.py:1344: UndefinedMetricWarning: Precision and F-score are ill-defined and being set to 0.0 in labels with no predicted samples. Use `zero_division` parameter to control this behavior.\n",
      "  _warn_prf(average, modifier, msg_start, len(result))\n",
      "/usr/local/lib/python3.10/dist-packages/sklearn/metrics/_classification.py:1344: UndefinedMetricWarning: Precision and F-score are ill-defined and being set to 0.0 in labels with no predicted samples. Use `zero_division` parameter to control this behavior.\n",
      "  _warn_prf(average, modifier, msg_start, len(result))\n",
      "/usr/local/lib/python3.10/dist-packages/sklearn/metrics/_classification.py:1344: UndefinedMetricWarning: Precision and F-score are ill-defined and being set to 0.0 in labels with no predicted samples. Use `zero_division` parameter to control this behavior.\n",
      "  _warn_prf(average, modifier, msg_start, len(result))\n"
     ]
    }
   ],
   "source": [
    "results_complex_sm_norm = run_classifiers(X_train_norm, X_test_norm, y_train, y_test, models_params_complex)"
   ]
  },
  {
   "cell_type": "code",
   "execution_count": 63,
   "metadata": {
    "colab": {
     "base_uri": "https://localhost:8080/"
    },
    "id": "6WJZPzvmCX_-",
    "outputId": "5303f4c0-43e5-4987-f9ee-aff9661c9a79"
   },
   "outputs": [
    {
     "name": "stdout",
     "output_type": "stream",
     "text": [
      "LogisticRegression:\n",
      "              precision    recall  f1-score   support\n",
      "\n",
      "           0       0.42      0.42      0.42       193\n",
      "           1       0.41      0.32      0.36       193\n",
      "           2       0.93      0.85      0.89       192\n",
      "           3       0.91      0.94      0.93       192\n",
      "           4       0.47      0.58      0.52       192\n",
      "\n",
      "    accuracy                           0.62       962\n",
      "   macro avg       0.63      0.62      0.62       962\n",
      "weighted avg       0.63      0.62      0.62       962\n",
      "\n",
      "\n",
      "SVC:\n",
      "              precision    recall  f1-score   support\n",
      "\n",
      "           0       0.00      0.00      0.00       193\n",
      "           1       0.00      0.00      0.00       193\n",
      "           2       0.19      0.47      0.27       192\n",
      "           3       0.39      1.00      0.57       192\n",
      "           4       0.00      0.00      0.00       192\n",
      "\n",
      "    accuracy                           0.29       962\n",
      "   macro avg       0.12      0.29      0.17       962\n",
      "weighted avg       0.12      0.29      0.17       962\n",
      "\n",
      "\n",
      "Perceptron:\n",
      "              precision    recall  f1-score   support\n",
      "\n",
      "           0       0.27      0.77      0.40       193\n",
      "           1       0.00      0.00      0.00       193\n",
      "           2       0.00      0.00      0.00       192\n",
      "           3       0.45      0.98      0.62       192\n",
      "           4       1.00      0.01      0.02       192\n",
      "\n",
      "    accuracy                           0.35       962\n",
      "   macro avg       0.34      0.35      0.21       962\n",
      "weighted avg       0.34      0.35      0.21       962\n",
      "\n",
      "\n",
      "MLPClassifier:\n",
      "              precision    recall  f1-score   support\n",
      "\n",
      "           0       0.53      0.64      0.58       193\n",
      "           1       0.56      0.40      0.47       193\n",
      "           2       0.89      0.92      0.90       192\n",
      "           3       0.97      0.92      0.94       192\n",
      "           4       0.56      0.62      0.59       192\n",
      "\n",
      "    accuracy                           0.70       962\n",
      "   macro avg       0.70      0.70      0.70       962\n",
      "weighted avg       0.70      0.70      0.70       962\n",
      "\n",
      "\n",
      "DecisionTreeClassifier:\n",
      "              precision    recall  f1-score   support\n",
      "\n",
      "           0       0.72      0.23      0.35       193\n",
      "           1       0.40      0.82      0.54       193\n",
      "           2       0.96      0.91      0.94       192\n",
      "           3       0.96      0.96      0.96       192\n",
      "           4       0.63      0.43      0.51       192\n",
      "\n",
      "    accuracy                           0.67       962\n",
      "   macro avg       0.74      0.67      0.66       962\n",
      "weighted avg       0.73      0.67      0.66       962\n",
      "\n",
      "\n",
      "RandomForestClassifier:\n",
      "              precision    recall  f1-score   support\n",
      "\n",
      "           0       0.76      0.79      0.78       193\n",
      "           1       0.68      0.77      0.72       193\n",
      "           2       0.99      0.92      0.95       192\n",
      "           3       0.97      0.99      0.98       192\n",
      "           4       0.75      0.66      0.70       192\n",
      "\n",
      "    accuracy                           0.83       962\n",
      "   macro avg       0.83      0.83      0.83       962\n",
      "weighted avg       0.83      0.83      0.83       962\n",
      "\n",
      "\n"
     ]
    }
   ],
   "source": [
    "#print each model and its classification report\n",
    "for model_name, report in results_complex_sm_norm.items():\n",
    "    print(f\"{model_name}:\\n{report}\\n\")"
   ]
  },
  {
   "cell_type": "markdown",
   "metadata": {
    "id": "xFc67xx67eMM"
   },
   "source": [
    "Again, the last two algorithms do not change their performance. Most of the remaining algorithms decrease their performance with normalization."
   ]
  },
  {
   "cell_type": "markdown",
   "metadata": {
    "id": "3ibPWU-x8gmD"
   },
   "source": [
    "Results\n",
    "---\n",
    "\n",
    "All in all, both with standardization and normalization the algorithms did not performed better than without using these techniques. Therefore, we cannot say which model performed better with these techniques since the techniques did not help for better performance.\n",
    "\n",
    "This could have been for several reasons such as the scale of the features is already meaningful and important for the problem we are trying to solve. In this case, standardization or normalization is removing some of the valuable information contained in the original features. Furthermore, standardization or normalization may not be helpful for a particular dataset or problem.\n"
   ]
  },
  {
   "cell_type": "markdown",
   "metadata": {
    "id": "jnhSXHuJ8-LX"
   },
   "source": [
    "# Task 4: Feature selection\n",
    "\n",
    "In this task, we are going to select some features of our dataset and then apply the algorithms selected with the purpose of increasing the performance of the selected models."
   ]
  },
  {
   "cell_type": "markdown",
   "metadata": {
    "id": "nR9R2XpldHQ2"
   },
   "source": [
    "Two correlated features - Naive settings\n",
    "---\n",
    "\n",
    "\n",
    "As we have seen in task 1 the two features meaning temp_max and temp_min are highly correlated. Let's use only these two features in order to see if our models perform better."
   ]
  },
  {
   "cell_type": "code",
   "execution_count": 64,
   "metadata": {
    "id": "41flQ-IN866K"
   },
   "outputs": [],
   "source": [
    "#extract the relevant features\n",
    "X_train_temp_max_min = X_train[['temp_max','temp_min']]\n",
    "X_test_temp_max_min = X_test[['temp_max','temp_min']]"
   ]
  },
  {
   "cell_type": "code",
   "execution_count": 65,
   "metadata": {
    "colab": {
     "base_uri": "https://localhost:8080/"
    },
    "id": "waPHqEDre4U3",
    "outputId": "9a781c26-46c4-4378-c80a-e3ee991f06ee"
   },
   "outputs": [
    {
     "name": "stderr",
     "output_type": "stream",
     "text": [
      "/usr/local/lib/python3.10/dist-packages/sklearn/linear_model/_logistic.py:458: ConvergenceWarning: lbfgs failed to converge (status=1):\n",
      "STOP: TOTAL NO. of ITERATIONS REACHED LIMIT.\n",
      "\n",
      "Increase the number of iterations (max_iter) or scale the data as shown in:\n",
      "    https://scikit-learn.org/stable/modules/preprocessing.html\n",
      "Please also refer to the documentation for alternative solver options:\n",
      "    https://scikit-learn.org/stable/modules/linear_model.html#logistic-regression\n",
      "  n_iter_i = _check_optimize_result(\n",
      "/usr/local/lib/python3.10/dist-packages/sklearn/metrics/_classification.py:1344: UndefinedMetricWarning: Precision and F-score are ill-defined and being set to 0.0 in labels with no predicted samples. Use `zero_division` parameter to control this behavior.\n",
      "  _warn_prf(average, modifier, msg_start, len(result))\n",
      "/usr/local/lib/python3.10/dist-packages/sklearn/metrics/_classification.py:1344: UndefinedMetricWarning: Precision and F-score are ill-defined and being set to 0.0 in labels with no predicted samples. Use `zero_division` parameter to control this behavior.\n",
      "  _warn_prf(average, modifier, msg_start, len(result))\n",
      "/usr/local/lib/python3.10/dist-packages/sklearn/metrics/_classification.py:1344: UndefinedMetricWarning: Precision and F-score are ill-defined and being set to 0.0 in labels with no predicted samples. Use `zero_division` parameter to control this behavior.\n",
      "  _warn_prf(average, modifier, msg_start, len(result))\n"
     ]
    }
   ],
   "source": [
    "results_naive_sm_temp_max_min = run_classifiers(X_train_temp_max_min, X_test_temp_max_min, y_train, y_test, models_params_naive)"
   ]
  },
  {
   "cell_type": "code",
   "execution_count": 66,
   "metadata": {
    "colab": {
     "base_uri": "https://localhost:8080/"
    },
    "id": "Rufo-9xtgqQj",
    "outputId": "d09ea728-04af-4a30-9536-bf04aa53c6fa"
   },
   "outputs": [
    {
     "name": "stdout",
     "output_type": "stream",
     "text": [
      "LogisticRegression:\n",
      "              precision    recall  f1-score   support\n",
      "\n",
      "           0       0.26      0.18      0.21       193\n",
      "           1       0.28      0.10      0.15       193\n",
      "           2       0.55      0.69      0.61       192\n",
      "           3       0.62      0.89      0.73       192\n",
      "           4       0.41      0.52      0.46       192\n",
      "\n",
      "    accuracy                           0.48       962\n",
      "   macro avg       0.42      0.48      0.43       962\n",
      "weighted avg       0.42      0.48      0.43       962\n",
      "\n",
      "\n",
      "SVC:\n",
      "              precision    recall  f1-score   support\n",
      "\n",
      "           0       0.33      0.16      0.22       193\n",
      "           1       0.29      0.15      0.19       193\n",
      "           2       0.54      0.69      0.61       192\n",
      "           3       0.63      0.95      0.76       192\n",
      "           4       0.42      0.52      0.46       192\n",
      "\n",
      "    accuracy                           0.49       962\n",
      "   macro avg       0.44      0.49      0.45       962\n",
      "weighted avg       0.44      0.49      0.45       962\n",
      "\n",
      "\n",
      "Perceptron:\n",
      "              precision    recall  f1-score   support\n",
      "\n",
      "           0       0.50      0.02      0.03       193\n",
      "           1       0.00      0.00      0.00       193\n",
      "           2       0.72      0.48      0.58       192\n",
      "           3       0.59      0.93      0.73       192\n",
      "           4       0.30      0.83      0.44       192\n",
      "\n",
      "    accuracy                           0.45       962\n",
      "   macro avg       0.42      0.45      0.36       962\n",
      "weighted avg       0.42      0.45      0.35       962\n",
      "\n",
      "\n",
      "MLPClassifier:\n",
      "              precision    recall  f1-score   support\n",
      "\n",
      "           0       0.42      0.32      0.36       193\n",
      "           1       0.28      0.15      0.20       193\n",
      "           2       0.48      0.73      0.58       192\n",
      "           3       0.69      0.85      0.77       192\n",
      "           4       0.48      0.46      0.47       192\n",
      "\n",
      "    accuracy                           0.50       962\n",
      "   macro avg       0.47      0.50      0.47       962\n",
      "weighted avg       0.47      0.50      0.47       962\n",
      "\n",
      "\n",
      "DecisionTreeClassifier:\n",
      "              precision    recall  f1-score   support\n",
      "\n",
      "           0       0.43      0.12      0.19       193\n",
      "           1       0.33      0.30      0.32       193\n",
      "           2       0.50      0.66      0.57       192\n",
      "           3       0.68      0.86      0.76       192\n",
      "           4       0.39      0.48      0.43       192\n",
      "\n",
      "    accuracy                           0.49       962\n",
      "   macro avg       0.47      0.49      0.45       962\n",
      "weighted avg       0.47      0.49      0.45       962\n",
      "\n",
      "\n",
      "RandomForestClassifier:\n",
      "              precision    recall  f1-score   support\n",
      "\n",
      "           0       0.60      0.02      0.03       193\n",
      "           1       0.56      0.11      0.19       193\n",
      "           2       0.47      0.72      0.57       192\n",
      "           3       0.64      0.96      0.77       192\n",
      "           4       0.37      0.65      0.47       192\n",
      "\n",
      "    accuracy                           0.49       962\n",
      "   macro avg       0.53      0.49      0.41       962\n",
      "weighted avg       0.53      0.49      0.41       962\n",
      "\n",
      "\n"
     ]
    }
   ],
   "source": [
    "#print each model and its classification report\n",
    "for model_name, report in results_naive_sm_temp_max_min.items():\n",
    "    print(f\"{model_name}:\\n{report}\\n\")"
   ]
  },
  {
   "cell_type": "markdown",
   "metadata": {
    "id": "uHsCmS4tgxv6"
   },
   "source": [
    "From the above results we can see that all 5 models do not perform good compare to when we had all 4 features. That is, using only the 2 correlated features do not improve the performance of the models."
   ]
  },
  {
   "cell_type": "markdown",
   "metadata": {
    "id": "NY6B8r5mg88Y"
   },
   "source": [
    "Two correlated features - Complex settings\n",
    "---\n",
    "\n"
   ]
  },
  {
   "cell_type": "code",
   "execution_count": 67,
   "metadata": {
    "colab": {
     "base_uri": "https://localhost:8080/"
    },
    "id": "jGPFbFlBhAXr",
    "outputId": "0c1a23b7-0fce-405f-cbf9-f7ccd9c7feda"
   },
   "outputs": [
    {
     "name": "stderr",
     "output_type": "stream",
     "text": [
      "/usr/local/lib/python3.10/dist-packages/sklearn/metrics/_classification.py:1344: UndefinedMetricWarning: Precision and F-score are ill-defined and being set to 0.0 in labels with no predicted samples. Use `zero_division` parameter to control this behavior.\n",
      "  _warn_prf(average, modifier, msg_start, len(result))\n",
      "/usr/local/lib/python3.10/dist-packages/sklearn/metrics/_classification.py:1344: UndefinedMetricWarning: Precision and F-score are ill-defined and being set to 0.0 in labels with no predicted samples. Use `zero_division` parameter to control this behavior.\n",
      "  _warn_prf(average, modifier, msg_start, len(result))\n",
      "/usr/local/lib/python3.10/dist-packages/sklearn/metrics/_classification.py:1344: UndefinedMetricWarning: Precision and F-score are ill-defined and being set to 0.0 in labels with no predicted samples. Use `zero_division` parameter to control this behavior.\n",
      "  _warn_prf(average, modifier, msg_start, len(result))\n"
     ]
    }
   ],
   "source": [
    "results_complex_sm_temp_max_min = run_classifiers(X_train_temp_max_min, X_test_temp_max_min, y_train, y_test, models_params_complex)"
   ]
  },
  {
   "cell_type": "code",
   "execution_count": 68,
   "metadata": {
    "colab": {
     "base_uri": "https://localhost:8080/"
    },
    "id": "UJZsMnnSip4L",
    "outputId": "3eb869ad-410b-43b7-9574-616116cd5f02"
   },
   "outputs": [
    {
     "name": "stdout",
     "output_type": "stream",
     "text": [
      "LogisticRegression:\n",
      "              precision    recall  f1-score   support\n",
      "\n",
      "           0       0.26      0.18      0.21       193\n",
      "           1       0.28      0.10      0.15       193\n",
      "           2       0.55      0.69      0.61       192\n",
      "           3       0.62      0.89      0.73       192\n",
      "           4       0.41      0.52      0.46       192\n",
      "\n",
      "    accuracy                           0.48       962\n",
      "   macro avg       0.42      0.48      0.43       962\n",
      "weighted avg       0.42      0.48      0.43       962\n",
      "\n",
      "\n",
      "SVC:\n",
      "              precision    recall  f1-score   support\n",
      "\n",
      "           0       0.32      0.16      0.21       193\n",
      "           1       0.29      0.11      0.16       193\n",
      "           2       0.54      0.66      0.59       192\n",
      "           3       0.60      0.95      0.74       192\n",
      "           4       0.41      0.54      0.46       192\n",
      "\n",
      "    accuracy                           0.48       962\n",
      "   macro avg       0.43      0.48      0.43       962\n",
      "weighted avg       0.43      0.48      0.43       962\n",
      "\n",
      "\n",
      "Perceptron:\n",
      "              precision    recall  f1-score   support\n",
      "\n",
      "           0       0.27      0.44      0.34       193\n",
      "           1       0.00      0.00      0.00       193\n",
      "           2       0.67      0.11      0.20       192\n",
      "           3       0.31      0.98      0.47       192\n",
      "           4       0.00      0.00      0.00       192\n",
      "\n",
      "    accuracy                           0.31       962\n",
      "   macro avg       0.25      0.31      0.20       962\n",
      "weighted avg       0.25      0.31      0.20       962\n",
      "\n",
      "\n",
      "MLPClassifier:\n",
      "              precision    recall  f1-score   support\n",
      "\n",
      "           0       0.51      0.13      0.21       193\n",
      "           1       0.32      0.50      0.39       193\n",
      "           2       0.58      0.59      0.58       192\n",
      "           3       0.65      0.89      0.75       192\n",
      "           4       0.47      0.38      0.42       192\n",
      "\n",
      "    accuracy                           0.50       962\n",
      "   macro avg       0.50      0.50      0.47       962\n",
      "weighted avg       0.50      0.50      0.47       962\n",
      "\n",
      "\n",
      "DecisionTreeClassifier:\n",
      "              precision    recall  f1-score   support\n",
      "\n",
      "           0       0.46      0.60      0.52       193\n",
      "           1       0.47      0.26      0.33       193\n",
      "           2       0.56      0.72      0.63       192\n",
      "           3       0.70      0.84      0.76       192\n",
      "           4       0.52      0.33      0.41       192\n",
      "\n",
      "    accuracy                           0.55       962\n",
      "   macro avg       0.54      0.55      0.53       962\n",
      "weighted avg       0.54      0.55      0.53       962\n",
      "\n",
      "\n",
      "RandomForestClassifier:\n",
      "              precision    recall  f1-score   support\n",
      "\n",
      "           0       0.67      0.57      0.62       193\n",
      "           1       0.68      0.56      0.62       193\n",
      "           2       0.63      0.74      0.68       192\n",
      "           3       0.76      0.91      0.83       192\n",
      "           4       0.64      0.61      0.63       192\n",
      "\n",
      "    accuracy                           0.68       962\n",
      "   macro avg       0.68      0.68      0.67       962\n",
      "weighted avg       0.68      0.68      0.67       962\n",
      "\n",
      "\n"
     ]
    }
   ],
   "source": [
    "#print each model and its classification report\n",
    "for model_name, report in results_complex_sm_temp_max_min.items():\n",
    "    print(f\"{model_name}:\\n{report}\\n\")"
   ]
  },
  {
   "cell_type": "markdown",
   "metadata": {
    "id": "kGnzzoh9ivkD"
   },
   "source": [
    "From the above results we can conclude that all 5 models decreased their performance when having only two correlated features as input."
   ]
  },
  {
   "cell_type": "markdown",
   "metadata": {
    "id": "_z48bQDYi45q"
   },
   "source": [
    "All in all, it is undeniable that 2 correlated features when used as the only input in this dataset lead to poor performance of the selected models."
   ]
  },
  {
   "cell_type": "markdown",
   "metadata": {
    "id": "henznkUifZfH"
   },
   "source": [
    "As we see from the above results the two features that are highly correlated do not provide good results. This is known as multicollinearity which can lead to unstable parameter estimates and reduce the precision of the model. Also, when having two features highly correlated one should be omitted since they do not add any other information that can be usefull for the analysis."
   ]
  },
  {
   "cell_type": "markdown",
   "metadata": {
    "id": "jPCTKkFDg5WY"
   },
   "source": [
    "Evaluation without using one correlated feature - Naive settings\n",
    "---\n",
    "\n",
    "\n",
    "\n",
    "Let's now see how our models perform when we omit the temp_min."
   ]
  },
  {
   "cell_type": "code",
   "execution_count": 69,
   "metadata": {
    "id": "2jOYNE73fWAz"
   },
   "outputs": [],
   "source": [
    "#omit the temp_min feature\n",
    "X_train_without_temp_min = X_train.drop('temp_min', axis=1)\n",
    "X_test_without_temp_min = X_test.drop('temp_min', axis=1)"
   ]
  },
  {
   "cell_type": "markdown",
   "metadata": {
    "id": "6l2PyLaejY9y"
   },
   "source": [
    "Apply the models with the naive settings"
   ]
  },
  {
   "cell_type": "code",
   "execution_count": 70,
   "metadata": {
    "colab": {
     "base_uri": "https://localhost:8080/"
    },
    "id": "0xopaVdChvIS",
    "outputId": "fd14abc0-1caa-43d9-d5aa-7c0e1697a791"
   },
   "outputs": [
    {
     "name": "stderr",
     "output_type": "stream",
     "text": [
      "/usr/local/lib/python3.10/dist-packages/sklearn/linear_model/_logistic.py:458: ConvergenceWarning: lbfgs failed to converge (status=1):\n",
      "STOP: TOTAL NO. of ITERATIONS REACHED LIMIT.\n",
      "\n",
      "Increase the number of iterations (max_iter) or scale the data as shown in:\n",
      "    https://scikit-learn.org/stable/modules/preprocessing.html\n",
      "Please also refer to the documentation for alternative solver options:\n",
      "    https://scikit-learn.org/stable/modules/linear_model.html#logistic-regression\n",
      "  n_iter_i = _check_optimize_result(\n",
      "/usr/local/lib/python3.10/dist-packages/sklearn/metrics/_classification.py:1344: UndefinedMetricWarning: Precision and F-score are ill-defined and being set to 0.0 in labels with no predicted samples. Use `zero_division` parameter to control this behavior.\n",
      "  _warn_prf(average, modifier, msg_start, len(result))\n",
      "/usr/local/lib/python3.10/dist-packages/sklearn/metrics/_classification.py:1344: UndefinedMetricWarning: Precision and F-score are ill-defined and being set to 0.0 in labels with no predicted samples. Use `zero_division` parameter to control this behavior.\n",
      "  _warn_prf(average, modifier, msg_start, len(result))\n",
      "/usr/local/lib/python3.10/dist-packages/sklearn/metrics/_classification.py:1344: UndefinedMetricWarning: Precision and F-score are ill-defined and being set to 0.0 in labels with no predicted samples. Use `zero_division` parameter to control this behavior.\n",
      "  _warn_prf(average, modifier, msg_start, len(result))\n",
      "/usr/local/lib/python3.10/dist-packages/sklearn/neural_network/_multilayer_perceptron.py:686: ConvergenceWarning: Stochastic Optimizer: Maximum iterations (200) reached and the optimization hasn't converged yet.\n",
      "  warnings.warn(\n"
     ]
    }
   ],
   "source": [
    "results_naive_sm_without_temp_min = run_classifiers(X_train_without_temp_min, X_test_without_temp_min, y_train, y_test, models_params_naive)"
   ]
  },
  {
   "cell_type": "code",
   "execution_count": 71,
   "metadata": {
    "colab": {
     "base_uri": "https://localhost:8080/"
    },
    "id": "EAZ-ePnJlA7J",
    "outputId": "349ecf84-e131-4d8a-f422-7202205bf769"
   },
   "outputs": [
    {
     "name": "stdout",
     "output_type": "stream",
     "text": [
      "LogisticRegression:\n",
      "              precision    recall  f1-score   support\n",
      "\n",
      "           0       0.39      0.44      0.42       193\n",
      "           1       0.35      0.20      0.25       193\n",
      "           2       0.84      0.81      0.82       192\n",
      "           3       0.86      0.84      0.85       192\n",
      "           4       0.47      0.65      0.54       192\n",
      "\n",
      "    accuracy                           0.59       962\n",
      "   macro avg       0.58      0.59      0.58       962\n",
      "weighted avg       0.58      0.59      0.58       962\n",
      "\n",
      "\n",
      "SVC:\n",
      "              precision    recall  f1-score   support\n",
      "\n",
      "           0       0.44      0.42      0.43       193\n",
      "           1       0.49      0.37      0.42       193\n",
      "           2       0.84      0.81      0.82       192\n",
      "           3       0.86      0.84      0.85       192\n",
      "           4       0.47      0.64      0.54       192\n",
      "\n",
      "    accuracy                           0.62       962\n",
      "   macro avg       0.62      0.62      0.61       962\n",
      "weighted avg       0.62      0.62      0.61       962\n",
      "\n",
      "\n",
      "Perceptron:\n",
      "              precision    recall  f1-score   support\n",
      "\n",
      "           0       0.31      0.99      0.47       193\n",
      "           1       0.00      0.00      0.00       193\n",
      "           2       1.00      0.18      0.30       192\n",
      "           3       0.66      0.97      0.79       192\n",
      "           4       0.41      0.07      0.12       192\n",
      "\n",
      "    accuracy                           0.44       962\n",
      "   macro avg       0.48      0.44      0.34       962\n",
      "weighted avg       0.48      0.44      0.34       962\n",
      "\n",
      "\n",
      "MLPClassifier:\n",
      "              precision    recall  f1-score   support\n",
      "\n",
      "           0       0.80      0.19      0.31       193\n",
      "           1       0.42      0.70      0.52       193\n",
      "           2       0.85      0.86      0.86       192\n",
      "           3       0.91      0.84      0.88       192\n",
      "           4       0.50      0.57      0.54       192\n",
      "\n",
      "    accuracy                           0.63       962\n",
      "   macro avg       0.70      0.63      0.62       962\n",
      "weighted avg       0.70      0.63      0.62       962\n",
      "\n",
      "\n",
      "DecisionTreeClassifier:\n",
      "              precision    recall  f1-score   support\n",
      "\n",
      "           0       0.90      0.15      0.25       193\n",
      "           1       0.38      0.75      0.51       193\n",
      "           2       0.95      0.73      0.83       192\n",
      "           3       0.81      0.96      0.88       192\n",
      "           4       0.53      0.49      0.51       192\n",
      "\n",
      "    accuracy                           0.62       962\n",
      "   macro avg       0.72      0.62      0.60       962\n",
      "weighted avg       0.72      0.62      0.60       962\n",
      "\n",
      "\n",
      "RandomForestClassifier:\n",
      "              precision    recall  f1-score   support\n",
      "\n",
      "           0       0.69      0.24      0.35       193\n",
      "           1       0.43      0.69      0.53       193\n",
      "           2       0.94      0.75      0.83       192\n",
      "           3       0.83      0.94      0.88       192\n",
      "           4       0.51      0.57      0.54       192\n",
      "\n",
      "    accuracy                           0.64       962\n",
      "   macro avg       0.68      0.64      0.63       962\n",
      "weighted avg       0.68      0.64      0.63       962\n",
      "\n",
      "\n"
     ]
    }
   ],
   "source": [
    "#print each model and its classification report\n",
    "for model_name, report in results_naive_sm_without_temp_min.items():\n",
    "    print(f\"{model_name}:\\n{report}\\n\")"
   ]
  },
  {
   "cell_type": "markdown",
   "metadata": {
    "id": "ffciG_uupFUb"
   },
   "source": [
    "From the above results, we can say that for some models the performance drops a little for example Random Forest Classifier and Decision Tree Classifier in comparison when we use all the features. All the other models either their performance decreased or it remained the same with small deviations."
   ]
  },
  {
   "cell_type": "markdown",
   "metadata": {
    "id": "pNmn0J8IjMDx"
   },
   "source": [
    "Evaluation without using one correlated feature - Complex settings\n",
    "---\n",
    "\n"
   ]
  },
  {
   "cell_type": "code",
   "execution_count": 72,
   "metadata": {
    "colab": {
     "base_uri": "https://localhost:8080/"
    },
    "id": "CF0MRoSPiYON",
    "outputId": "4b76ce4d-0806-4768-d885-e54d39126e61"
   },
   "outputs": [
    {
     "name": "stderr",
     "output_type": "stream",
     "text": [
      "/usr/local/lib/python3.10/dist-packages/sklearn/metrics/_classification.py:1344: UndefinedMetricWarning: Precision and F-score are ill-defined and being set to 0.0 in labels with no predicted samples. Use `zero_division` parameter to control this behavior.\n",
      "  _warn_prf(average, modifier, msg_start, len(result))\n",
      "/usr/local/lib/python3.10/dist-packages/sklearn/metrics/_classification.py:1344: UndefinedMetricWarning: Precision and F-score are ill-defined and being set to 0.0 in labels with no predicted samples. Use `zero_division` parameter to control this behavior.\n",
      "  _warn_prf(average, modifier, msg_start, len(result))\n",
      "/usr/local/lib/python3.10/dist-packages/sklearn/metrics/_classification.py:1344: UndefinedMetricWarning: Precision and F-score are ill-defined and being set to 0.0 in labels with no predicted samples. Use `zero_division` parameter to control this behavior.\n",
      "  _warn_prf(average, modifier, msg_start, len(result))\n"
     ]
    }
   ],
   "source": [
    "results_complex_sm_without_temp_min = run_classifiers(X_train_without_temp_min, X_test_without_temp_min, y_train, y_test, models_params_complex)"
   ]
  },
  {
   "cell_type": "code",
   "execution_count": 73,
   "metadata": {
    "colab": {
     "base_uri": "https://localhost:8080/"
    },
    "id": "jnn3tffhmW83",
    "outputId": "192340a0-784e-4728-d535-c04af516633e"
   },
   "outputs": [
    {
     "name": "stdout",
     "output_type": "stream",
     "text": [
      "LogisticRegression:\n",
      "              precision    recall  f1-score   support\n",
      "\n",
      "           0       0.39      0.45      0.42       193\n",
      "           1       0.34      0.18      0.23       193\n",
      "           2       0.83      0.81      0.82       192\n",
      "           3       0.86      0.84      0.85       192\n",
      "           4       0.47      0.64      0.54       192\n",
      "\n",
      "    accuracy                           0.58       962\n",
      "   macro avg       0.58      0.58      0.57       962\n",
      "weighted avg       0.58      0.58      0.57       962\n",
      "\n",
      "\n",
      "SVC:\n",
      "              precision    recall  f1-score   support\n",
      "\n",
      "           0       0.37      0.45      0.40       193\n",
      "           1       0.47      0.30      0.36       193\n",
      "           2       0.79      0.54      0.64       192\n",
      "           3       0.84      0.78      0.81       192\n",
      "           4       0.41      0.64      0.50       192\n",
      "\n",
      "    accuracy                           0.54       962\n",
      "   macro avg       0.58      0.54      0.54       962\n",
      "weighted avg       0.58      0.54      0.54       962\n",
      "\n",
      "\n",
      "Perceptron:\n",
      "              precision    recall  f1-score   support\n",
      "\n",
      "           0       0.32      0.96      0.49       193\n",
      "           1       0.15      0.10      0.12       193\n",
      "           2       0.67      0.29      0.41       192\n",
      "           3       0.81      0.76      0.78       192\n",
      "           4       0.00      0.00      0.00       192\n",
      "\n",
      "    accuracy                           0.42       962\n",
      "   macro avg       0.39      0.42      0.36       962\n",
      "weighted avg       0.39      0.42      0.36       962\n",
      "\n",
      "\n",
      "MLPClassifier:\n",
      "              precision    recall  f1-score   support\n",
      "\n",
      "           0       0.87      0.18      0.29       193\n",
      "           1       0.40      0.77      0.53       193\n",
      "           2       1.00      0.83      0.91       192\n",
      "           3       0.89      1.00      0.94       192\n",
      "           4       0.54      0.51      0.52       192\n",
      "\n",
      "    accuracy                           0.66       962\n",
      "   macro avg       0.74      0.66      0.64       962\n",
      "weighted avg       0.74      0.66      0.64       962\n",
      "\n",
      "\n",
      "DecisionTreeClassifier:\n",
      "              precision    recall  f1-score   support\n",
      "\n",
      "           0       0.49      0.47      0.48       193\n",
      "           1       0.42      0.60      0.49       193\n",
      "           2       0.93      0.84      0.88       192\n",
      "           3       0.90      0.94      0.92       192\n",
      "           4       0.62      0.41      0.49       192\n",
      "\n",
      "    accuracy                           0.65       962\n",
      "   macro avg       0.67      0.65      0.65       962\n",
      "weighted avg       0.67      0.65      0.65       962\n",
      "\n",
      "\n",
      "RandomForestClassifier:\n",
      "              precision    recall  f1-score   support\n",
      "\n",
      "           0       0.69      0.65      0.67       193\n",
      "           1       0.59      0.73      0.66       193\n",
      "           2       0.96      0.85      0.90       192\n",
      "           3       0.91      0.97      0.94       192\n",
      "           4       0.71      0.62      0.66       192\n",
      "\n",
      "    accuracy                           0.76       962\n",
      "   macro avg       0.77      0.76      0.77       962\n",
      "weighted avg       0.77      0.76      0.77       962\n",
      "\n",
      "\n"
     ]
    }
   ],
   "source": [
    "#print each model and its classification report\n",
    "for model_name, report in results_complex_sm_without_temp_min.items():\n",
    "    print(f\"{model_name}:\\n{report}\\n\")"
   ]
  },
  {
   "cell_type": "markdown",
   "metadata": {
    "id": "mcdNURKtp65Z"
   },
   "source": [
    "Again, we can see that for Random Forest Classifier the performance drops when using the 3 features. However, the performance of the Perceptron algorithm increased. But for the majority of the models the 3 features resulted in poor performance or to the same performance as when using the 4 features."
   ]
  },
  {
   "cell_type": "markdown",
   "metadata": {
    "id": "s3F5tQwwkHIG"
   },
   "source": [
    "Results\n",
    "---\n",
    "\n",
    "To conclude, we saw that when we select two highly correlated features and apply classification models lead to poor results. This is due to the fact that these attributes do not add any information so in most cases we should omit one of these.\n",
    "After excluding one of the two highly correlated features in both cases meaning with naive and complex hyperparameters some models got the same results as with the case where we had all the features while others decreased their performance. Only the Perceptron algorithm increased its performance a lot when using complex settings and the 3 features."
   ]
  },
  {
   "cell_type": "markdown",
   "metadata": {
    "id": "I5PTUOHaVUSZ"
   },
   "source": [
    "# Conclusion so far\n",
    "---\n",
    "\n",
    "So far, we have seen a variety of models and their application on a dataset aiming to predict the weather for example if it will be snowy based on multiple attributes. We determined two approaches. The first one using naive hyperparameters meaning the most simple parameters and the second one using complex settings for example in the concept of decision tree a very deep one. After applying the models, we concluded that the performance of all models were not good since they were unable to capture all the classes. This was due to the highly imballanced class attribute. To adress this issue we used a tecnique called SMOTE in order to create some new relevant points so as to have a ballanced dataset. After applying the algorithms again we determined that when using the naive settings the most appropriate algorithm is MLP classifier and when increasing the complexity of the models meaning complex hyperparameters Random Forest classifier produced the highest f1-score. The random forst here produced the highest results from both naive and complex settings. After that, we saw how standardization and normalization impact the performance of the models where we concluded that they do not play a significant role for this dataset and most importantly in some algorithms they decrease their performance too. Next, we used as input two correlated features leading to poor performance when using naive and complex settings. After that, we exluded one of the two correlated features leaving 3 attributes as input. This resulted in the same or lower performance than having all the features as input in both naive and complex hyperparameters.\n",
    "\n",
    "In the next task, we are going to use the apprach Grid Search using the ballanced dataset and since neither feature scaling or feature selection helped to increase the performance of the models we will not exploit any of these techniques.\n",
    "\n",
    "\n",
    "\n"
   ]
  },
  {
   "cell_type": "markdown",
   "metadata": {
    "id": "yjIBzjFYx6kS"
   },
   "source": [
    "# Grid Search Approach\n",
    "\n",
    "Grid search is a technique used for hyperparameter tuning in machine learning. It involves creating a grid of all possible combinations of hyperparameter values, training a model on each combination, and evaluating each model's performance to determine the best set of hyperparameters for the given problem.\n",
    "\n",
    "This method is very important since the performance of a machine learning model is highly dependent on the choice of hyperparameters. By exhaustively searching through the hyperparameter space, grid search helps to find the combination of hyperparameters that results in the best possible model performance. This can lead to significant improvements in classification accuracy and generalization performance.\n",
    "\n",
    "As it was stated previously, we are going to use the ballanced dataset after applying the SMOTE method and neither feaure scaling or feature selection technique since none of these led to better results for the majority of the algorithms."
   ]
  },
  {
   "cell_type": "markdown",
   "metadata": {
    "id": "aUbxBMpccfXI"
   },
   "source": [
    "Algorithms settings modification\n",
    "\n",
    "---\n",
    "\n",
    "Logistic Regression: both with naive and complex hyperparameters we had almost the same results. Now, we will try different values of the `C` and maybe the same iterations. Tesing a range of C values will give us a sign what is more appropriate to have either a strict model or a generalized algorithm for this dataset\n",
    "\n",
    "SVC: although the `linear` kernel resulted in better results we will stick to `rbf` kernel and try a range of `C`  and `gamma` values since this kernel is more powerful\n",
    "\n",
    "\n",
    "Perceptron: this model resulted in lower performance again using complex settings. This could be because we used `l1` instead of `l2` penalty and a small value of `alpha` hyperparameter. Again, a range of different values of the last referred hyperparameter will be tested\n",
    "\n",
    "MLP classifier: here the complex settings helped to increase the performance of the model. This can be since more layers and more neurons were used. Also, the `relu` activation function was used. In order to increase the performance of the selected model different values of the hyperparameters will be tested for example more layers or more neurons, the learning rate or alpha and more\n",
    "\n",
    "Decision Tree classifier: the complex hyperparameters helped to better performance than using naive settings. The increase of the tree depth or the selection of different split criterion maybe resulted in better results. However, a range of values will be tested for both hyperparameters\n",
    "\n",
    "Random Forest classifier: this model performed better using complex settings than any other model both with naive and complex hyperparameters. The number of the trees and the depth of them was crucial for increasing the performance of the model\n",
    "\n",
    "Below, you can see the diffent hyperparameters used on naive and complex approaches. Also, the results from the application of the models on the ballanced dataset are observed too.\n"
   ]
  },
  {
   "cell_type": "code",
   "execution_count": 74,
   "metadata": {
    "id": "6_QXLISid8gQ"
   },
   "outputs": [],
   "source": [
    "#specify the models and the corresponding parameters\n",
    "models_params_naive = {\n",
    "    LogisticRegression: {'random_state':1},\n",
    "    SVC: {'kernel': 'linear', 'random_state':1},\n",
    "    Perceptron: {'random_state':1},\n",
    "    MLPClassifier: {'hidden_layer_sizes': (50,), 'random_state':1},\n",
    "    DecisionTreeClassifier: {'max_depth': 3, 'random_state': 1},\n",
    "    RandomForestClassifier: {'n_estimators': 25, 'max_depth': 3, 'random_state': 1}\n",
    "}\n"
   ]
  },
  {
   "cell_type": "code",
   "execution_count": 75,
   "metadata": {
    "id": "rxuzOwh8eEag"
   },
   "outputs": [],
   "source": [
    "models_params_complex = {\n",
    "    LogisticRegression: {'C': 2000, 'max_iter': 5000, 'random_state':1},\n",
    "    SVC: {'kernel': 'rbf', 'C': 2000, 'gamma': 0.000001, 'random_state':1},\n",
    "    Perceptron: {'penalty': 'l1', 'alpha': 0.01, 'random_state':1,'shuffle': True, 'max_iter': 5000},\n",
    "    MLPClassifier: {'activation': 'relu', 'solver': 'adam', 'hidden_layer_sizes': (50, 100, 50), 'batch_size':40, 'shuffle': True, 'alpha': 0.001, 'learning_rate_init': 0.01, 'random_state':1, 'max_iter': 2000},\n",
    "    DecisionTreeClassifier: {'criterion': 'entropy', 'max_depth': 6, 'min_samples_split': 2, 'random_state': 1},\n",
    "    RandomForestClassifier: {'criterion': 'entropy', 'n_estimators': 100, 'max_depth': 10, 'min_samples_split': 2, 'random_state': 1}\n",
    "}"
   ]
  },
  {
   "cell_type": "code",
   "execution_count": 116,
   "metadata": {
    "colab": {
     "base_uri": "https://localhost:8080/"
    },
    "id": "Dmh8vRLxjtiR",
    "outputId": "88c8c4ee-7619-4107-e5b8-7a3acc0c0d5d"
   },
   "outputs": [
    {
     "name": "stdout",
     "output_type": "stream",
     "text": [
      "LogisticRegression:\n",
      "              precision    recall  f1-score   support\n",
      "\n",
      "           0       0.42      0.46      0.44       193\n",
      "           1       0.39      0.29      0.33       193\n",
      "           2       0.93      0.85      0.89       192\n",
      "           3       0.91      0.94      0.93       192\n",
      "           4       0.46      0.57      0.51       192\n",
      "\n",
      "    accuracy                           0.62       962\n",
      "   macro avg       0.62      0.62      0.62       962\n",
      "weighted avg       0.62      0.62      0.62       962\n",
      "\n",
      "\n",
      "SVC:\n",
      "              precision    recall  f1-score   support\n",
      "\n",
      "           0       0.43      0.41      0.42       193\n",
      "           1       0.42      0.34      0.38       193\n",
      "           2       0.91      0.88      0.89       192\n",
      "           3       0.93      0.92      0.92       192\n",
      "           4       0.47      0.60      0.52       192\n",
      "\n",
      "    accuracy                           0.63       962\n",
      "   macro avg       0.63      0.63      0.63       962\n",
      "weighted avg       0.63      0.63      0.63       962\n",
      "\n",
      "\n",
      "Perceptron:\n",
      "              precision    recall  f1-score   support\n",
      "\n",
      "           0       0.37      0.52      0.43       193\n",
      "           1       0.00      0.00      0.00       193\n",
      "           2       0.57      0.73      0.64       192\n",
      "           3       0.91      0.47      0.62       192\n",
      "           4       0.40      0.70      0.51       192\n",
      "\n",
      "    accuracy                           0.48       962\n",
      "   macro avg       0.45      0.48      0.44       962\n",
      "weighted avg       0.45      0.48      0.44       962\n",
      "\n",
      "\n",
      "MLPClassifier:\n",
      "              precision    recall  f1-score   support\n",
      "\n",
      "           0       0.71      0.35      0.47       193\n",
      "           1       0.47      0.56      0.51       193\n",
      "           2       0.93      0.90      0.91       192\n",
      "           3       0.96      0.93      0.94       192\n",
      "           4       0.49      0.67      0.56       192\n",
      "\n",
      "    accuracy                           0.68       962\n",
      "   macro avg       0.71      0.68      0.68       962\n",
      "weighted avg       0.71      0.68      0.68       962\n",
      "\n",
      "\n",
      "DecisionTreeClassifier:\n",
      "              precision    recall  f1-score   support\n",
      "\n",
      "           0       0.85      0.15      0.25       193\n",
      "           1       0.38      0.75      0.51       193\n",
      "           2       0.97      0.90      0.93       192\n",
      "           3       0.95      0.97      0.96       192\n",
      "           4       0.53      0.48      0.51       192\n",
      "\n",
      "    accuracy                           0.65       962\n",
      "   macro avg       0.74      0.65      0.63       962\n",
      "weighted avg       0.74      0.65      0.63       962\n",
      "\n",
      "\n",
      "RandomForestClassifier:\n",
      "              precision    recall  f1-score   support\n",
      "\n",
      "           0       0.83      0.18      0.29       193\n",
      "           1       0.41      0.80      0.54       193\n",
      "           2       0.97      0.90      0.93       192\n",
      "           3       0.95      0.97      0.96       192\n",
      "           4       0.59      0.52      0.55       192\n",
      "\n",
      "    accuracy                           0.67       962\n",
      "   macro avg       0.75      0.67      0.66       962\n",
      "weighted avg       0.75      0.67      0.65       962\n",
      "\n",
      "\n"
     ]
    }
   ],
   "source": [
    "#print each model and its classification report\n",
    "for model_name, report in results_naive_sm.items():\n",
    "    print(f\"{model_name}:\\n{report}\\n\")"
   ]
  },
  {
   "cell_type": "code",
   "execution_count": 117,
   "metadata": {
    "colab": {
     "base_uri": "https://localhost:8080/"
    },
    "id": "yXSsd5S6c7WG",
    "outputId": "2267e3cc-0f00-4ab4-d079-8a93c7c643d6"
   },
   "outputs": [
    {
     "name": "stdout",
     "output_type": "stream",
     "text": [
      "LogisticRegression:\n",
      "              precision    recall  f1-score   support\n",
      "\n",
      "           0       0.42      0.42      0.42       193\n",
      "           1       0.41      0.32      0.36       193\n",
      "           2       0.92      0.87      0.89       192\n",
      "           3       0.92      0.92      0.92       192\n",
      "           4       0.46      0.58      0.52       192\n",
      "\n",
      "    accuracy                           0.62       962\n",
      "   macro avg       0.62      0.62      0.62       962\n",
      "weighted avg       0.62      0.62      0.62       962\n",
      "\n",
      "\n",
      "SVC:\n",
      "              precision    recall  f1-score   support\n",
      "\n",
      "           0       0.37      0.42      0.40       193\n",
      "           1       0.37      0.33      0.35       193\n",
      "           2       0.94      0.65      0.77       192\n",
      "           3       0.92      0.89      0.90       192\n",
      "           4       0.43      0.57      0.49       192\n",
      "\n",
      "    accuracy                           0.57       962\n",
      "   macro avg       0.61      0.57      0.58       962\n",
      "weighted avg       0.61      0.57      0.58       962\n",
      "\n",
      "\n",
      "Perceptron:\n",
      "              precision    recall  f1-score   support\n",
      "\n",
      "           0       0.26      0.17      0.20       193\n",
      "           1       0.00      0.00      0.00       193\n",
      "           2       0.75      0.57      0.64       192\n",
      "           3       0.97      0.57      0.72       192\n",
      "           4       0.32      0.94      0.47       192\n",
      "\n",
      "    accuracy                           0.45       962\n",
      "   macro avg       0.46      0.45      0.41       962\n",
      "weighted avg       0.46      0.45      0.41       962\n",
      "\n",
      "\n",
      "MLPClassifier:\n",
      "              precision    recall  f1-score   support\n",
      "\n",
      "           0       0.71      0.18      0.29       193\n",
      "           1       0.41      0.83      0.55       193\n",
      "           2       0.91      0.94      0.92       192\n",
      "           3       0.99      0.91      0.95       192\n",
      "           4       0.59      0.44      0.50       192\n",
      "\n",
      "    accuracy                           0.66       962\n",
      "   macro avg       0.72      0.66      0.64       962\n",
      "weighted avg       0.72      0.66      0.64       962\n",
      "\n",
      "\n",
      "DecisionTreeClassifier:\n",
      "              precision    recall  f1-score   support\n",
      "\n",
      "           0       0.72      0.23      0.35       193\n",
      "           1       0.40      0.82      0.54       193\n",
      "           2       0.96      0.91      0.94       192\n",
      "           3       0.96      0.96      0.96       192\n",
      "           4       0.63      0.43      0.51       192\n",
      "\n",
      "    accuracy                           0.67       962\n",
      "   macro avg       0.74      0.67      0.66       962\n",
      "weighted avg       0.73      0.67      0.66       962\n",
      "\n",
      "\n",
      "RandomForestClassifier:\n",
      "              precision    recall  f1-score   support\n",
      "\n",
      "           0       0.76      0.79      0.78       193\n",
      "           1       0.68      0.78      0.72       193\n",
      "           2       0.99      0.92      0.95       192\n",
      "           3       0.97      0.99      0.98       192\n",
      "           4       0.76      0.66      0.71       192\n",
      "\n",
      "    accuracy                           0.83       962\n",
      "   macro avg       0.83      0.83      0.83       962\n",
      "weighted avg       0.83      0.83      0.83       962\n",
      "\n",
      "\n"
     ]
    }
   ],
   "source": [
    "#print each model and its classification report\n",
    "for model_name, report in results_complex_sm.items():\n",
    "    print(f\"{model_name}:\\n{report}\\n\")"
   ]
  },
  {
   "cell_type": "code",
   "execution_count": 83,
   "metadata": {
    "id": "sWFh1Ym4wLw4"
   },
   "outputs": [],
   "source": [
    "models_params_grid_search = {\n",
    "    LogisticRegression: {'C': [2000, 5000, 7000], 'max_iter': [2000, 5000, 7000], 'random_state':[1]}\n",
    "    }\n"
   ]
  },
  {
   "cell_type": "code",
   "execution_count": 84,
   "metadata": {
    "id": "qKBWNdu8wPcN"
   },
   "outputs": [],
   "source": [
    "from sklearn.model_selection import GridSearchCV\n",
    "\n",
    "def run_classifiers_with_gridsearch(X_train, X_test, y_train, y_test, models_params={}):\n",
    "    results = {}\n",
    "    best_params = {}\n",
    "    for model, params in models_params.items():\n",
    "        clf = model()\n",
    "        grid_search = GridSearchCV(clf, params, cv=5, scoring='f1_weighted', n_jobs=-1)\n",
    "        grid_search.fit(X_train, y_train)\n",
    "        y_pred = grid_search.predict(X_test)\n",
    "        results[clf.__class__.__name__] = classification_report(y_test, y_pred)\n",
    "        best_params[clf.__class__.__name__] = grid_search.best_params_\n",
    "        \n",
    "    return results, best_params\n"
   ]
  },
  {
   "cell_type": "code",
   "execution_count": 85,
   "metadata": {
    "id": "1F1-_TnLwQuj"
   },
   "outputs": [],
   "source": [
    "results_grid_search, best_params_grid_search = run_classifiers_with_gridsearch(X_train, X_test, y_train, y_test, models_params_grid_search)\n"
   ]
  },
  {
   "cell_type": "code",
   "execution_count": 86,
   "metadata": {
    "colab": {
     "base_uri": "https://localhost:8080/"
    },
    "id": "4CQAzi15wR4G",
    "outputId": "ae4e1b66-4dc3-4edb-a270-74dcfe0bd14c"
   },
   "outputs": [
    {
     "name": "stdout",
     "output_type": "stream",
     "text": [
      "LogisticRegression:\n",
      "Best parameters: {'C': 2000, 'max_iter': 2000, 'random_state': 1}\n",
      "Classification report:\n",
      "              precision    recall  f1-score   support\n",
      "\n",
      "           0       0.42      0.42      0.42       193\n",
      "           1       0.41      0.32      0.36       193\n",
      "           2       0.92      0.87      0.89       192\n",
      "           3       0.92      0.92      0.92       192\n",
      "           4       0.46      0.58      0.52       192\n",
      "\n",
      "    accuracy                           0.62       962\n",
      "   macro avg       0.62      0.62      0.62       962\n",
      "weighted avg       0.62      0.62      0.62       962\n",
      "\n",
      "\n"
     ]
    }
   ],
   "source": [
    "for model_name, report in results_grid_search.items():\n",
    "    print(f\"{model_name}:\")\n",
    "    print(f\"Best parameters: {best_params_grid_search[model_name]}\")\n",
    "    print(f\"Classification report:\\n{report}\\n\")"
   ]
  },
  {
   "cell_type": "code",
   "execution_count": 125,
   "metadata": {
    "id": "UIdz-aTPwalE"
   },
   "outputs": [],
   "source": [
    "models_params_grid_search = {\n",
    "    SVC: {'kernel': ['rbf'], 'C': [2000, 4000, 10000], 'gamma': [0.00001, 0.00000316, 0.02], 'random_state':[1]}\n",
    "    }\n"
   ]
  },
  {
   "cell_type": "code",
   "execution_count": 126,
   "metadata": {
    "id": "cM0u3XNlwl-2"
   },
   "outputs": [],
   "source": [
    "results_grid_search, best_params_grid_search = run_classifiers_with_gridsearch(X_train, X_test, y_train, y_test, models_params_grid_search)\n"
   ]
  },
  {
   "cell_type": "code",
   "execution_count": 127,
   "metadata": {
    "colab": {
     "base_uri": "https://localhost:8080/"
    },
    "id": "jel2QCFm5cox",
    "outputId": "ef597049-919f-4645-cce4-6732c9c15eda"
   },
   "outputs": [
    {
     "name": "stdout",
     "output_type": "stream",
     "text": [
      "SVC:\n",
      "Best parameters: {'C': 10000, 'gamma': 0.02, 'kernel': 'rbf', 'random_state': 1}\n",
      "Classification report:\n",
      "              precision    recall  f1-score   support\n",
      "\n",
      "           0       0.69      0.87      0.77       193\n",
      "           1       0.67      0.72      0.69       193\n",
      "           2       0.97      0.83      0.90       192\n",
      "           3       0.95      0.98      0.96       192\n",
      "           4       0.69      0.54      0.60       192\n",
      "\n",
      "    accuracy                           0.79       962\n",
      "   macro avg       0.79      0.79      0.79       962\n",
      "weighted avg       0.79      0.79      0.78       962\n",
      "\n",
      "\n"
     ]
    }
   ],
   "source": [
    "for model_name, report in results_grid_search.items():\n",
    "    print(f\"{model_name}:\")\n",
    "    print(f\"Best parameters: {best_params_grid_search[model_name]}\")\n",
    "    print(f\"Classification report:\\n{report}\\n\")"
   ]
  },
  {
   "cell_type": "code",
   "execution_count": 142,
   "metadata": {
    "id": "ik2r4J5ZzKtQ"
   },
   "outputs": [],
   "source": [
    "models_params_grid_search = {\n",
    "    Perceptron: {'penalty': ['l1', 'l2'], 'alpha': [10, 0.01, 0.0001, 0.00001, 0.0000001], 'random_state':[1],'shuffle': [True, False], 'max_iter': [2000, 5000, 7000, 10000]}\n",
    "    }"
   ]
  },
  {
   "cell_type": "code",
   "execution_count": 143,
   "metadata": {
    "id": "vxn2PXeKzKrB"
   },
   "outputs": [],
   "source": [
    "results_grid_search, best_params_grid_search = run_classifiers_with_gridsearch(X_train, X_test, y_train, y_test, models_params_grid_search)\n"
   ]
  },
  {
   "cell_type": "code",
   "execution_count": 144,
   "metadata": {
    "colab": {
     "base_uri": "https://localhost:8080/"
    },
    "id": "H3oHbpG9zKok",
    "outputId": "15a9698f-858d-4708-f8db-9970b1a36e0a"
   },
   "outputs": [
    {
     "name": "stdout",
     "output_type": "stream",
     "text": [
      "Perceptron:\n",
      "Best parameters: {'alpha': 1e-07, 'max_iter': 2000, 'penalty': 'l1', 'random_state': 1, 'shuffle': True}\n",
      "Classification report:\n",
      "              precision    recall  f1-score   support\n",
      "\n",
      "           0       0.37      0.52      0.43       193\n",
      "           1       0.00      0.00      0.00       193\n",
      "           2       0.57      0.73      0.64       192\n",
      "           3       0.91      0.47      0.62       192\n",
      "           4       0.40      0.70      0.51       192\n",
      "\n",
      "    accuracy                           0.48       962\n",
      "   macro avg       0.45      0.48      0.44       962\n",
      "weighted avg       0.45      0.48      0.44       962\n",
      "\n",
      "\n"
     ]
    }
   ],
   "source": [
    "for model_name, report in results_grid_search.items():\n",
    "    print(f\"{model_name}:\")\n",
    "    print(f\"Best parameters: {best_params_grid_search[model_name]}\")\n",
    "    print(f\"Classification report:\\n{report}\\n\")"
   ]
  },
  {
   "cell_type": "code",
   "execution_count": 158,
   "metadata": {
    "id": "LcNH-3NHzKmD"
   },
   "outputs": [],
   "source": [
    "models_params_grid_search = {\n",
    "    MLPClassifier: {'activation': ['relu'], 'solver': ['adam'], 'hidden_layer_sizes': [(50, 50), (100,), (100, 50, 20)], 'batch_size':[20, 40], 'shuffle': [True], 'alpha': [10, 0.01, 0.001], 'learning_rate_init': [0.1, 0.001], 'random_state':[1], 'max_iter': [2000, 3000]}\n",
    "    }\n"
   ]
  },
  {
   "cell_type": "code",
   "execution_count": 159,
   "metadata": {
    "id": "WH4F2OyKzKjr"
   },
   "outputs": [],
   "source": [
    "results_grid_search, best_params_grid_search = run_classifiers_with_gridsearch(X_train, X_test, y_train, y_test, models_params_grid_search)\n"
   ]
  },
  {
   "cell_type": "code",
   "execution_count": 160,
   "metadata": {
    "colab": {
     "base_uri": "https://localhost:8080/"
    },
    "id": "bd1yVkoz8LEt",
    "outputId": "220c86b4-6ec0-4f44-e075-ce56a24f6a2f"
   },
   "outputs": [
    {
     "name": "stdout",
     "output_type": "stream",
     "text": [
      "MLPClassifier:\n",
      "Best parameters: {'activation': 'relu', 'alpha': 0.001, 'batch_size': 20, 'hidden_layer_sizes': (100, 50, 20), 'learning_rate_init': 0.001, 'max_iter': 2000, 'random_state': 1, 'shuffle': True, 'solver': 'adam'}\n",
      "Classification report:\n",
      "              precision    recall  f1-score   support\n",
      "\n",
      "           0       0.71      0.52      0.60       193\n",
      "           1       0.64      0.63      0.64       193\n",
      "           2       0.95      0.92      0.93       192\n",
      "           3       0.96      0.99      0.98       192\n",
      "           4       0.54      0.69      0.61       192\n",
      "\n",
      "    accuracy                           0.75       962\n",
      "   macro avg       0.76      0.75      0.75       962\n",
      "weighted avg       0.76      0.75      0.75       962\n",
      "\n",
      "\n"
     ]
    }
   ],
   "source": [
    "for model_name, report in results_grid_search.items():\n",
    "    print(f\"{model_name}:\")\n",
    "    print(f\"Best parameters: {best_params_grid_search[model_name]}\")\n",
    "    print(f\"Classification report:\\n{report}\\n\")"
   ]
  },
  {
   "cell_type": "code",
   "execution_count": 175,
   "metadata": {
    "id": "Q-s_6Lu08LCh"
   },
   "outputs": [],
   "source": [
    "models_params_grid_search = {\n",
    "    DecisionTreeClassifier: {'criterion': ['gini', 'entropy'], 'random_state': [1]}\n",
    "    }\n"
   ]
  },
  {
   "cell_type": "code",
   "execution_count": 176,
   "metadata": {
    "id": "18ofyWY-8LAb"
   },
   "outputs": [],
   "source": [
    "results_grid_search, best_params_grid_search = run_classifiers_with_gridsearch(X_train, X_test, y_train, y_test, models_params_grid_search)\n"
   ]
  },
  {
   "cell_type": "code",
   "execution_count": 177,
   "metadata": {
    "colab": {
     "base_uri": "https://localhost:8080/"
    },
    "id": "9Jt_zBaL8K-E",
    "outputId": "9dfa8744-ac8e-4abe-a340-2e2736561cfb"
   },
   "outputs": [
    {
     "name": "stdout",
     "output_type": "stream",
     "text": [
      "DecisionTreeClassifier:\n",
      "Best parameters: {'criterion': 'entropy', 'random_state': 1}\n",
      "Classification report:\n",
      "              precision    recall  f1-score   support\n",
      "\n",
      "           0       0.80      0.75      0.77       193\n",
      "           1       0.68      0.77      0.72       193\n",
      "           2       0.93      0.94      0.94       192\n",
      "           3       0.98      0.96      0.97       192\n",
      "           4       0.71      0.67      0.69       192\n",
      "\n",
      "    accuracy                           0.82       962\n",
      "   macro avg       0.82      0.82      0.82       962\n",
      "weighted avg       0.82      0.82      0.82       962\n",
      "\n",
      "\n"
     ]
    }
   ],
   "source": [
    "for model_name, report in results_grid_search.items():\n",
    "    print(f\"{model_name}:\")\n",
    "    print(f\"Best parameters: {best_params_grid_search[model_name]}\")\n",
    "    print(f\"Classification report:\\n{report}\\n\")"
   ]
  },
  {
   "cell_type": "code",
   "execution_count": 178,
   "metadata": {
    "id": "AgAoMnHGJU8K"
   },
   "outputs": [],
   "source": [
    "models_params_grid_search = {\n",
    "    RandomForestClassifier: {'criterion': ['gini', 'entropy'], 'n_estimators': [50, 75, 100, 125, 150], 'random_state': [1]}\n",
    "    }\n"
   ]
  },
  {
   "cell_type": "code",
   "execution_count": 179,
   "metadata": {
    "id": "tmd2KeWTJU52"
   },
   "outputs": [],
   "source": [
    "results_grid_search, best_params_grid_search = run_classifiers_with_gridsearch(X_train, X_test, y_train, y_test, models_params_grid_search)\n"
   ]
  },
  {
   "cell_type": "code",
   "execution_count": 180,
   "metadata": {
    "colab": {
     "base_uri": "https://localhost:8080/"
    },
    "id": "ENN-Vf9mJU3O",
    "outputId": "705de1ac-179a-424b-8a6a-75fa056be53e"
   },
   "outputs": [
    {
     "name": "stdout",
     "output_type": "stream",
     "text": [
      "RandomForestClassifier:\n",
      "Best parameters: {'criterion': 'gini', 'n_estimators': 75, 'random_state': 1}\n",
      "Classification report:\n",
      "              precision    recall  f1-score   support\n",
      "\n",
      "           0       0.85      0.83      0.84       193\n",
      "           1       0.73      0.82      0.77       193\n",
      "           2       0.97      0.92      0.94       192\n",
      "           3       0.97      0.98      0.98       192\n",
      "           4       0.75      0.71      0.73       192\n",
      "\n",
      "    accuracy                           0.85       962\n",
      "   macro avg       0.86      0.85      0.85       962\n",
      "weighted avg       0.86      0.85      0.85       962\n",
      "\n",
      "\n"
     ]
    }
   ],
   "source": [
    "for model_name, report in results_grid_search.items():\n",
    "    print(f\"{model_name}:\")\n",
    "    print(f\"Best parameters: {best_params_grid_search[model_name]}\")\n",
    "    print(f\"Classification report:\\n{report}\\n\")"
   ]
  },
  {
   "cell_type": "markdown",
   "metadata": {
    "id": "K3R7sE8tXGrz"
   },
   "source": [
    "# Recap\n",
    "\n",
    "---\n",
    "\n",
    "A conclusion about the best models.\n",
    "\n",
    "For logistic regression all three approaches resulted to the same performance. That is because this model is prety easy and simple to be applied and perform.\n",
    "\n",
    "The SVC model resulted better after the gridsearch approach where we incrase the number of hyperparameter `C` where we specified that we wanted more data points to be classified correctly and `gamma` hyperparameter where we increased it as well in order to make the model more strict.\n",
    "\n",
    "Perceptron algorithm resulted in all three approaches poorly even this model misclassified an entirely class. Maybe, the hyperparameters tested or this model is too simple even for this dataset to be applied.\n",
    "\n",
    "The MLP classifier resulted in better performance after gridsearch method. Moderating the layers and the number of neurons and also the batch size resulted in better results.\n",
    "\n",
    "The Dicision Tree classifier performed a lot better when we did not specified a number of tree depth. That is, the depth of the tree it might be larger than 6 using the grid search method.\n",
    "\n",
    "The Random Forest algorithm resulted with better performance than the other two times meaning both with naive and complex settings. The optimal number of estimators according to grid search was 75 and the depth of the tree was not specified as it happened in the case of the decision tree.\n",
    "\n",
    "All in all, we can say that Random Forest classifier performed better than any other algorithm after applying the method grid search and its hyperparameters. We were able to get a 85% accuracy and capture greatly most of the classes after ballancing the dataset."
   ]
  }
 ],
 "metadata": {
  "accelerator": "GPU",
  "colab": {
   "machine_shape": "hm",
   "provenance": [],
   "toc_visible": true
  },
  "gpuClass": "standard",
  "kernelspec": {
   "display_name": "Python 3 (ipykernel)",
   "language": "python",
   "name": "python3"
  },
  "language_info": {
   "codemirror_mode": {
    "name": "ipython",
    "version": 3
   },
   "file_extension": ".py",
   "mimetype": "text/x-python",
   "name": "python",
   "nbconvert_exporter": "python",
   "pygments_lexer": "ipython3",
   "version": "3.10.9"
  }
 },
 "nbformat": 4,
 "nbformat_minor": 1
}
